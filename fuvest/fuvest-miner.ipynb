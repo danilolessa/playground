{
 "cells": [
  {
   "cell_type": "code",
   "execution_count": 4,
   "metadata": {
    "collapsed": false
   },
   "outputs": [],
   "source": [
    "import requests as req"
   ]
  },
  {
   "cell_type": "code",
   "execution_count": 38,
   "metadata": {
    "collapsed": false,
    "scrolled": true
   },
   "outputs": [],
   "source": [
    "a = \"http://www.fuvest.br/vest2014/js/qase_grupos_1_2_2014.js\"\n",
    "ano_inicial = 2013\n",
    "ano_final = 2015\n",
    "\n",
    "for ano in range(ano_inicial, ano_final+1):    \n",
    "    url_base = \"http://www.fuvest.br/vest%s/js/qase_%s.js\" % (str(ano), str(ano))\n",
    "    url_quest = \"http://www.fuvest.br/vest%s/js/qase_quest_%s.js\" % (str(ano), str(ano))\n",
    "    r = req.get(url_quest)\n",
    "    r.encoding = \"ISO-8859-1\"\n",
    "    path = str(ano) + \".json\"\n",
    "    out = r.text\n",
    "    out = out[out.index('['):]\n",
    "    with open(path, \"w\") as fid:\n",
    "        fid.write(out)\n",
    "    \n",
    "    for i in range(1, 3):\n",
    "        for j in range(1, 5):\n",
    "            path = str(ano) + \"_%i_%i.json\" % (j, i)\n",
    "            url = \"http://www.fuvest.br/vest%s/js/qase_grupos_%s_%s_%s.js\" % (str(ano), str(j), str(i), str(ano))\n",
    "            r = req.get(url)\n",
    "            r.encoding = \"ISO-8859-1\"\n",
    "            out = r.text\n",
    "            out = out[out.index(';'):]\n",
    "            out = out[out.index('['):]\n",
    "            with open(path, \"w\") as fid:\n",
    "                fid.write(out)\n",
    "        "
   ]
  },
  {
   "cell_type": "code",
   "execution_count": 34,
   "metadata": {
    "collapsed": false
   },
   "outputs": [],
   "source": [
    "a = r.encoding"
   ]
  },
  {
   "cell_type": "code",
   "execution_count": 35,
   "metadata": {
    "collapsed": true
   },
   "outputs": [],
   "source": [
    "a"
   ]
  },
  {
   "cell_type": "code",
   "execution_count": null,
   "metadata": {
    "collapsed": true
   },
   "outputs": [],
   "source": []
  }
 ],
 "metadata": {
  "kernelspec": {
   "display_name": "Python 3",
   "language": "python",
   "name": "python3"
  },
  "language_info": {
   "codemirror_mode": {
    "name": "ipython",
    "version": 3
   },
   "file_extension": ".py",
   "mimetype": "text/x-python",
   "name": "python",
   "nbconvert_exporter": "python",
   "pygments_lexer": "ipython3",
   "version": "3.4.3+"
  }
 },
 "nbformat": 4,
 "nbformat_minor": 0
}
