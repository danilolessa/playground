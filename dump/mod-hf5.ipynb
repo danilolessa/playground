{
 "cells": [
  {
   "cell_type": "code",
   "execution_count": 1,
   "metadata": {
    "collapsed": true
   },
   "outputs": [],
   "source": [
    "import pandas as pd"
   ]
  },
  {
   "cell_type": "code",
   "execution_count": 2,
   "metadata": {
    "collapsed": false
   },
   "outputs": [
    {
     "name": "stdout",
     "output_type": "stream",
     "text": [
      "Opening ams.h5 in read-only mode\n"
     ]
    }
   ],
   "source": [
    "raw = pd.HDFStore(\"ams.h5\")"
   ]
  },
  {
   "cell_type": "code",
   "execution_count": 19,
   "metadata": {
    "collapsed": false
   },
   "outputs": [
    {
     "data": {
      "text/plain": [
       "<class 'pandas.io.pytables.HDFStore'>\n",
       "File path: ams.h5\n",
       "/L2B Rainfall Products/Geolocation Fields/SubsetStartFrameIndices            frame_table [0.0.0] (typ->generic,nrows->2001,ncols->1,indexers->[index],dc->[SubsetStartFrameIndices])          \n",
       "/L2B Rainfall Products/Geolocation Fields/Time                               frame_table [0.0.0] (typ->generic,nrows->2001,ncols->1,indexers->[index],dc->[Time])                             \n",
       "/L2B Rainfall Products/Swath Attributes/Subsetting Parameters                frame_table [0.0.0] (typ->generic,nrows->1,ncols->2,indexers->[index],dc->[Plus-Minus Frames,Subset Swath Width])"
      ]
     },
     "execution_count": 19,
     "metadata": {},
     "output_type": "execute_result"
    }
   ],
   "source": [
    "raw"
   ]
  },
  {
   "cell_type": "code",
   "execution_count": null,
   "metadata": {
    "collapsed": true
   },
   "outputs": [],
   "source": []
  }
 ],
 "metadata": {
  "kernelspec": {
   "display_name": "Python 3",
   "language": "python",
   "name": "python3"
  },
  "language_info": {
   "codemirror_mode": {
    "name": "ipython",
    "version": 3
   },
   "file_extension": ".py",
   "mimetype": "text/x-python",
   "name": "python",
   "nbconvert_exporter": "python",
   "pygments_lexer": "ipython3",
   "version": "3.4.3+"
  }
 },
 "nbformat": 4,
 "nbformat_minor": 0
}
