{
 "cells": [
  {
   "cell_type": "code",
   "execution_count": 43,
   "metadata": {
    "collapsed": false
   },
   "outputs": [],
   "source": [
    "import matplotlib.pyplot as plt\n",
    "import pandas as pd\n",
    "import numpy as np\n",
    "from scipy import stats"
   ]
  },
  {
   "cell_type": "code",
   "execution_count": 234,
   "metadata": {
    "collapsed": false
   },
   "outputs": [],
   "source": [
    "dat = pd.read_csv(\"tarants.csv\", header=None, dtype=np.float64)[0]\n",
    "\n",
    "mean = np.mean(dat)\n",
    "median = np.median(dat)\n",
    "mode = stats.mode(dat)\n",
    "skew = stats.skew(dat)\n",
    "kurt = stats.kurtosis(dat)\n",
    "stddev = np.std(dat)\n",
    "\n",
    "b_min = 14\n",
    "b_max = 28.9\n",
    "b_step = 0.01\n",
    "qtd = len(dat)\n",
    "\n",
    "x = np.arange(b_min, b_max, b_step)\n",
    "\n",
    "count = int((b_max - b_min) / b_step)\n",
    "observados = np.zeros(count+1)\n",
    "esperados = np.zeros(count+1)\n",
    "chi2 = 0\n",
    "esp_sum = 0\n",
    "\n",
    "for i in range(0, count):\n",
    "    i_min = b_min + b_step * i\n",
    "    i_max = b_min + b_step * (i + 1)\n",
    "    y = len(dat[(dat >= i_min) & (dat < i_max)])\n",
    "    observados[i] = y \n",
    "    esperados[i] = stats.norm.pdf((i_min + i_max) / 2, loc=mean, scale=stddev) * qtd * b_step\n",
    "    chi2 += (esperados[i] - observados[i])**2 / esperados[i]"
   ]
  },
  {
   "cell_type": "code",
   "execution_count": 235,
   "metadata": {
    "collapsed": false
   },
   "outputs": [],
   "source": [
    "plt.plot(x, esperados, 'r-*')\n",
    "plt.bar(x, observados, width=b_step)\n",
    "plt.xlim(14, 29)\n",
    "plt.title(\"Frequência dos dados\")\n",
    "plt.show()\n"
   ]
  },
  {
   "cell_type": "code",
   "execution_count": 233,
   "metadata": {
    "collapsed": false
   },
   "outputs": [
    {
     "data": {
      "text/plain": [
       "0.14266549958793434"
      ]
     },
     "execution_count": 233,
     "metadata": {},
     "output_type": "execute_result"
    }
   ],
   "source": [
    "stats.norm.pdf(obs, loc=mean, scale=stddev)"
   ]
  },
  {
   "cell_type": "code",
   "execution_count": 236,
   "metadata": {
    "collapsed": false
   },
   "outputs": [
    {
     "data": {
      "text/plain": [
       "9855.2014531731147"
      ]
     },
     "execution_count": 236,
     "metadata": {},
     "output_type": "execute_result"
    }
   ],
   "source": [
    "chi2"
   ]
  },
  {
   "cell_type": "code",
   "execution_count": null,
   "metadata": {
    "collapsed": true
   },
   "outputs": [],
   "source": []
  }
 ],
 "metadata": {
  "kernelspec": {
   "display_name": "Python 3",
   "language": "python",
   "name": "python3"
  },
  "language_info": {
   "codemirror_mode": {
    "name": "ipython",
    "version": 3
   },
   "file_extension": ".py",
   "mimetype": "text/x-python",
   "name": "python",
   "nbconvert_exporter": "python",
   "pygments_lexer": "ipython3",
   "version": "3.4.3+"
  }
 },
 "nbformat": 4,
 "nbformat_minor": 0
}
