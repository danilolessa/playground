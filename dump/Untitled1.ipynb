{
 "cells": [
  {
   "cell_type": "code",
   "execution_count": 4,
   "metadata": {
    "collapsed": false
   },
   "outputs": [],
   "source": [
    "import numpy as np\n",
    "import matplotlib.pyplot as plt\n",
    "import scipy.integrate as intg"
   ]
  },
  {
   "cell_type": "code",
   "execution_count": 52,
   "metadata": {
    "collapsed": false
   },
   "outputs": [],
   "source": [
    "y = 5\n",
    "x = 0\n",
    "v = 10\n",
    "ang = np.pi / 4\n",
    "\n",
    "m = 100\n",
    "g = -9.7864\n",
    "C = 0.1\n",
    "p = 0.1\n",
    "A = 0.1\n",
    "B = - (C * p * A) / 2\n",
    "\n",
    "listx = []\n",
    "listy = []\n",
    "listt = []\n",
    "delta = 5e-1\n",
    "(vx, vy) = (v * np.tan(ang), v * 1 / np.tan(ang))\n",
    "while y > 0:\n",
    "    y = v + delta * vy\n",
    "    x = x + delta * vx\n",
    "    \n",
    "    vy = vy + delta * g\n",
    "    ang = np.arctan(vx/vy)\n",
    "    v = v + delta * B * (vx ** 2 + vy ** 2)\n",
    "    vx = v * np.sin(ang)\n",
    "    vy = v * np.cos(ang)\n",
    "    listx.append(x)\n",
    "    listy.append(y)\n",
    "    listt.append(delta * (len(listt) + 1))\n",
    "    "
   ]
  },
  {
   "cell_type": "code",
   "execution_count": null,
   "metadata": {
    "collapsed": false
   },
   "outputs": [],
   "source": [
    "plt.plot(listt, listx, '.')\n",
    "plt.show()"
   ]
  },
  {
   "cell_type": "code",
   "execution_count": 45,
   "metadata": {
    "collapsed": false
   },
   "outputs": [
    {
     "data": {
      "text/plain": [
       "8.9227926918240676"
      ]
     },
     "execution_count": 45,
     "metadata": {},
     "output_type": "execute_result"
    }
   ],
   "source": [
    "listx[-3]"
   ]
  },
  {
   "cell_type": "code",
   "execution_count": null,
   "metadata": {
    "collapsed": true
   },
   "outputs": [],
   "source": []
  }
 ],
 "metadata": {
  "kernelspec": {
   "display_name": "Python 3",
   "language": "python",
   "name": "python3"
  },
  "language_info": {
   "codemirror_mode": {
    "name": "ipython",
    "version": 3
   },
   "file_extension": ".py",
   "mimetype": "text/x-python",
   "name": "python",
   "nbconvert_exporter": "python",
   "pygments_lexer": "ipython3",
   "version": "3.4.3+"
  }
 },
 "nbformat": 4,
 "nbformat_minor": 0
}
