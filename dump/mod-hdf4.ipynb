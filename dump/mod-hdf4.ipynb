{
 "cells": [
  {
   "cell_type": "code",
   "execution_count": 2,
   "metadata": {
    "collapsed": true
   },
   "outputs": [],
   "source": [
    "import pyhdf.SD\n",
    "from pyhdf import SD\n",
    "from pyhdf.SD import *\n",
    "from numpy import *"
   ]
  },
  {
   "cell_type": "code",
   "execution_count": 3,
   "metadata": {
    "collapsed": true
   },
   "outputs": [],
   "source": [
    "d = SD('ams.hdf',SDC.READ)"
   ]
  },
  {
   "cell_type": "code",
   "execution_count": 10,
   "metadata": {
    "collapsed": false
   },
   "outputs": [
    {
     "data": {
      "text/plain": [
       "{'Latitude': (('nscan:L2B Rainfall Products', 'npix:L2B Rainfall Products'),\n",
       "  (2001, 45),\n",
       "  5,\n",
       "  4),\n",
       " 'Longitude': (('nscan:L2B Rainfall Products', 'npix:L2B Rainfall Products'),\n",
       "  (2001, 45),\n",
       "  5,\n",
       "  5),\n",
       " 'Rain Rate': (('nscan:L2B Rainfall Products', 'npix:L2B Rainfall Products'),\n",
       "  (2001, 45),\n",
       "  22,\n",
       "  1),\n",
       " 'Rain Status': (('nscan:L2B Rainfall Products', 'npix:L2B Rainfall Products'),\n",
       "  (2001, 45),\n",
       "  22,\n",
       "  0),\n",
       " 'Rain Type': (('nscan:L2B Rainfall Products', 'npix:L2B Rainfall Products'),\n",
       "  (2001, 45),\n",
       "  20,\n",
       "  2),\n",
       " 'Surface Type': (('nscan:L2B Rainfall Products',\n",
       "   'npix:L2B Rainfall Products'),\n",
       "  (2001, 45),\n",
       "  20,\n",
       "  3)}"
      ]
     },
     "execution_count": 10,
     "metadata": {},
     "output_type": "execute_result"
    }
   ],
   "source": [
    "d.datasets()"
   ]
  },
  {
   "cell_type": "code",
   "execution_count": 20,
   "metadata": {
    "collapsed": true
   },
   "outputs": [],
   "source": [
    "a = d.select('Longitude')"
   ]
  },
  {
   "cell_type": "code",
   "execution_count": 27,
   "metadata": {
    "collapsed": false
   },
   "outputs": [
    {
     "data": {
      "text/plain": [
       "45"
      ]
     },
     "execution_count": 27,
     "metadata": {},
     "output_type": "execute_result"
    }
   ],
   "source": [
    "len(a.get()[0])"
   ]
  },
  {
   "cell_type": "code",
   "execution_count": null,
   "metadata": {
    "collapsed": true
   },
   "outputs": [],
   "source": []
  }
 ],
 "metadata": {
  "kernelspec": {
   "display_name": "Python 3",
   "language": "python",
   "name": "python3"
  },
  "language_info": {
   "codemirror_mode": {
    "name": "ipython",
    "version": 3
   },
   "file_extension": ".py",
   "mimetype": "text/x-python",
   "name": "python",
   "nbconvert_exporter": "python",
   "pygments_lexer": "ipython3",
   "version": "3.4.3+"
  }
 },
 "nbformat": 4,
 "nbformat_minor": 0
}
