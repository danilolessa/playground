{
 "cells": [
  {
   "cell_type": "code",
   "execution_count": 20,
   "metadata": {
    "collapsed": true
   },
   "outputs": [],
   "source": [
    "import numpy as np\n",
    "import matplotlib.pyplot as plt\n",
    "import scipy.integrate as it"
   ]
  },
  {
   "cell_type": "code",
   "execution_count": 120,
   "metadata": {
    "collapsed": true
   },
   "outputs": [],
   "source": [
    "m = 1\n",
    "v0 = 10\n",
    "ang = np.pi / 4\n",
    "g = 9.7864\n",
    "B = 1\n",
    "dt = 0.001\n",
    "x = 0\n",
    "y = 0"
   ]
  },
  {
   "cell_type": "code",
   "execution_count": 123,
   "metadata": {
    "collapsed": false
   },
   "outputs": [],
   "source": [
    "vx = v0 * np.cos(ang)\n",
    "vy = v0 * np.sin(ang)\n",
    "v = v0\n",
    "\n",
    "while y >= 0:\n",
    "    vy = vy - (B * (v ** 2) * dt * np.sin(ang) / m + g * dt)\n",
    "    vx = vx - (B * (v ** 2) * dt * np.cos(ang)) / m\n",
    "    v = np.sqrt(vx ** 2 + vy ** 2)\n",
    "    ang = np.arctan2(vx, vy)\n",
    "    x = x + vx * dt\n",
    "    y = y + vy * dt\n",
    "    plt.plot(x,y,'.')"
   ]
  },
  {
   "cell_type": "code",
   "execution_count": 124,
   "metadata": {
    "collapsed": true
   },
   "outputs": [],
   "source": [
    "plt.show()"
   ]
  },
  {
   "cell_type": "code",
   "execution_count": 88,
   "metadata": {
    "collapsed": false
   },
   "outputs": [
    {
     "name": "stdout",
     "output_type": "stream",
     "text": [
      "oi\n"
     ]
    }
   ],
   "source": [
    "##### Dependências #####\n",
    "\n",
    "import numpy as np\n",
    "import matplotlib.pyplot as plt\n",
    "\n",
    "##### Constantes #####\n",
    "\n",
    "#aceleração gravitacional no IAG, incerteza de 3 no último digito\n",
    "g = 9.7864\n",
    "\n",
    "##### Funções #####\n",
    "\n",
    "def simular(m=1, v0=10, ang0=0.8, B=1, x0=0, y0=0, dt=0.01):\n",
    "    \"\"\"Implementação do algoritimo descrito no relatório\n",
    "    Keyword arguments:\n",
    "    m -- Massa do projétil (kg caso unidades sejam SI)\n",
    "    v0 -- Velocidade inicial do projétil (m/s caso unidades sejam SI)\n",
    "    ang -- Ângulo de lançamento do projétil\n",
    "    B -- coeficiente de resistência ao movimento (kg/m caso unidades sejam SI)\n",
    "    x0 -- [Opcional, padrão: 0] Posição inicial no eixo horizontal (metros caso unidades sejam SI)\n",
    "    y0 -- [Opcional, padrão: 0] Posição inicial no eixo vertical (metros caso unidades sejam SI)\n",
    "    dt -- [Opcional, padrão: 0.01] Tamanho do passo (segundos caso unidades sejam SI)\n",
    "    \"\"\"\n",
    "\n",
    "    x, y, ang, v, vx, vy = ([], [], [], [], [], [])\n",
    "\n",
    "    #declarações iniciais das variaveis\n",
    "    x.append(x0)\n",
    "    y.append(y0)\n",
    "    ang.append(ang0)\n",
    "    v.append(v0)\n",
    "    vx.append(v0 * np.cos(ang))\n",
    "    vy.append(v0 * np.sin(ang))\n",
    "\n",
    "    i = 0\n",
    "    #enquanto o projétil não passar do solo, a iteração continua\n",
    "    while y[i] >= 0:\n",
    "        #velocidade atual do passo através do método de euler explicito\n",
    "        vy_i = vy[i] - (B * (v[i] ** 2) * np.cos(ang[i]) / m + g) * dt\n",
    "        vx_i = vx[i] - B * (v[i] ** 2) * np.sin(ang[i]) * dt / m\n",
    "\n",
    "        #posição atual do passo através do método de euler explicíto\n",
    "        x_i = x[i] + vx_i * dt\n",
    "        y_i = y[i] + vy_i * dt\n",
    "\n",
    "        #velocidade escalar atual do passo\n",
    "        v_i = np.sqrt(vx_i ** 2 + vy_i ** 2)\n",
    "\n",
    "        #angulo atual do passo\n",
    "        ang_i = np.arctan2(vx_i, vy_i)\n",
    "\n",
    "        #armazenar na lista\n",
    "        x.append(x_i)\n",
    "        y.append(y_i)\n",
    "        ang.append(ang_i)\n",
    "        v.append(v_i)\n",
    "        vx.append(vx_i)\n",
    "        vy.append(vy_i)\n",
    "        i += 1\n",
    "\n",
    "    t = np.arange(0, dt * len(x), dt)\n",
    "    output = {'x':x, 'y': y, 'vx': vx, 'vy': vy, 'v':v, 'ang':ang, 't': t}\n",
    "\n",
    "    return output\n",
    "\n",
    "##### Interação com o usuário #####\n",
    "\n",
    "def main():\n",
    "    print(\"oi\")\n",
    "\n",
    "if __name__ == \"__main__\":\n",
    "    main()"
   ]
  },
  {
   "cell_type": "code",
   "execution_count": 89,
   "metadata": {
    "collapsed": false
   },
   "outputs": [],
   "source": [
    "a = simular()"
   ]
  },
  {
   "cell_type": "code",
   "execution_count": 92,
   "metadata": {
    "collapsed": false
   },
   "outputs": [],
   "source": [
    "plt.plot(a['x'], a['y'])\n",
    "plt.show()"
   ]
  },
  {
   "cell_type": "code",
   "execution_count": null,
   "metadata": {
    "collapsed": true
   },
   "outputs": [],
   "source": []
  }
 ],
 "metadata": {
  "kernelspec": {
   "display_name": "Python 3",
   "language": "python",
   "name": "python3"
  },
  "language_info": {
   "codemirror_mode": {
    "name": "ipython",
    "version": 3
   },
   "file_extension": ".py",
   "mimetype": "text/x-python",
   "name": "python",
   "nbconvert_exporter": "python",
   "pygments_lexer": "ipython3",
   "version": "3.4.3+"
  }
 },
 "nbformat": 4,
 "nbformat_minor": 0
}
