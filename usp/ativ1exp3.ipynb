{
 "cells": [
  {
   "cell_type": "code",
   "execution_count": 54,
   "metadata": {
    "collapsed": false
   },
   "outputs": [],
   "source": [
    "import numpy as np\n",
    "import matplotlib.pyplot as plt\n",
    "import uncertainties as unt\n",
    "import uncertainties.unumpy as unp\n",
    "\n",
    "#constantes e temperatura\n",
    "k = 1.38e-23\n",
    "e = 1.6e-19\n",
    "t = 298\n",
    "#caracteristicas do led\n",
    "led_cov = [[0.137718, -0.000218895, 52367800000000],\n",
    "           [-0.000218895, 9.65134E-7, -261883000000],\n",
    "           [52367800000000, -261883000000, 7.22381E+28]]\n",
    "\n",
    "(p0, p1, p2) = unt.correlated_values([13.0666, 0.0991019, 1.01277e15], led_cov)\n",
    "\n",
    "rl = p0\n",
    "n = p1 * e / (k * t)\n",
    "n = unt.ufloat(n.n, np.sqrt(9.65134E-7) * e / (k * t))\n",
    "i0 = 1 / p2\n",
    "\n",
    "\n",
    "#resistencias do circuito\n",
    "r1 = unt.ufloat(99.8, 0.29288)\n",
    "r2 = unt.ufloat(46.7, 0.14270)\n",
    "\n",
    "#resistencia interna da pilha\n",
    "pil_cov = [[7.89941E-7, 7.16902E-6], [7.16902E-6, 0.000135634]]\n",
    " \n",
    "(up, rp) = unt.correlated_values([1.37634, 0.866158], pil_cov)"
   ]
  },
  {
   "cell_type": "code",
   "execution_count": 55,
   "metadata": {
    "collapsed": false
   },
   "outputs": [
    {
     "data": {
      "text/plain": [
       "13.0666+/-0.3711037590755448"
      ]
     },
     "execution_count": 55,
     "metadata": {},
     "output_type": "execute_result"
    }
   ],
   "source": [
    "p0"
   ]
  },
  {
   "cell_type": "code",
   "execution_count": 56,
   "metadata": {
    "collapsed": false
   },
   "outputs": [],
   "source": [
    "def bisection(a,b,tol,f,*args):\n",
    "    c = (a+b)/2.0\n",
    "    while (b-a)/2.0 > tol:\n",
    "        if f(c,*args) == 0:\n",
    "            return c11\n",
    "        elif f(a,*args)*f(c,*args) < 0:\n",
    "            b = c\n",
    "        else :\n",
    "            a = c\n",
    "        c = (a+b)/2.0\n",
    "    return unt.ufloat(c, tol / unp.sqrt(24))"
   ]
  },
  {
   "cell_type": "code",
   "execution_count": 57,
   "metadata": {
    "collapsed": true
   },
   "outputs": [],
   "source": [
    "def Uled1(i):\n",
    "    return rl * i + (n*k*t/e) * unp.log(i / i0 + 1)\n",
    "    \n",
    "def Uled1root(i, u):\n",
    "    return (rl) * i + (n*k*t/e) * unp.log(i / i0 + 1) - u\n",
    "\n",
    "def Iled1(u):\n",
    "    return bisection(0, 3, 1e-15, Uled2root, u)    \n",
    "    \n",
    "def Uled2(i):\n",
    "    return (rl+r2) * i + (n*k*t/e) * unp.log(i / i0 + 1)\n",
    "    \n",
    "def Uled2root(i, u):\n",
    "    return (rl+r2) * i + (n*k*t/e) * unp.log(i / i0 + 1) - u\n",
    "\n",
    "def Iled2(u):\n",
    "    return bisection(0, 3, 1e-15, Uled1root, u) \n",
    "\n",
    "def func(u):\n",
    "    return (r1+2*rp)*(Iled1(u)+Iled2(u))-2*up+u"
   ]
  },
  {
   "cell_type": "code",
   "execution_count": 58,
   "metadata": {
    "collapsed": false
   },
   "outputs": [],
   "source": [
    "res = bisection(2.3, 2.7, 1e-10, func)"
   ]
  },
  {
   "cell_type": "code",
   "execution_count": 59,
   "metadata": {
    "collapsed": false,
    "scrolled": true
   },
   "outputs": [
    {
     "name": "stdout",
     "output_type": "stream",
     "text": [
      "V: 2.75268+/-0.00025\n",
      "Vp: 2.75123+/-0.00025\n",
      "Vr: 0.08372+/-0.00025\n",
      "Vl: 2.667510478478+/-0.000000000020\n",
      "i: 0.00083884151316971+/-0.00000000000000029\n",
      "i1: 0.00038358357487334+/-0.00000000000000020\n",
      "i2: 0.00045525793829637+/-0.00000000000000020\n"
     ]
    }
   ],
   "source": [
    "i1 = Iled1(res)\n",
    "i2 = Iled2(res)\n",
    "i = i1+i2\n",
    "vr = r1 * i\n",
    "vl = res\n",
    "vp = 2 * rp * i \n",
    "v = vl + vr + vp\n",
    "print(\"V: %s\" % v)\n",
    "print(\"Vp: %s\" % (v-vp))\n",
    "print(\"Vr: %s\" % vr)\n",
    "print(\"Vl: %s\" % vl)\n",
    "print(\"i: %s\" % i)\n",
    "print(\"i1: %s\" % i1)\n",
    "print(\"i2: %s\" % i2)"
   ]
  },
  {
   "cell_type": "code",
   "execution_count": 42,
   "metadata": {
    "collapsed": false
   },
   "outputs": [],
   "source": [
    "um1 = unt.ufloat(2.761, 0.007)\n",
    "um2 = unt.ufloat(2.58, 0.021)\n",
    "\n",
    "(up, rp) = unt.correlated_values([1.37634, 0.866158], pil_cov)\n",
    "(up, rp) = unt.correlated_values([um2.n/2, 0.866158], pil_cov)"
   ]
  },
  {
   "cell_type": "code",
   "execution_count": 60,
   "metadata": {
    "collapsed": false
   },
   "outputs": [
    {
     "data": {
      "text/plain": [
       "2.75268+/-0.0017775725020375398"
      ]
     },
     "execution_count": 60,
     "metadata": {},
     "output_type": "execute_result"
    }
   ],
   "source": [
    "up*2"
   ]
  },
  {
   "cell_type": "code",
   "execution_count": 53,
   "metadata": {
    "collapsed": false
   },
   "outputs": [
    {
     "data": {
      "text/plain": [
       "2.5579996782638768+/-0.036494036573066824"
      ]
     },
     "execution_count": 53,
     "metadata": {},
     "output_type": "execute_result"
    }
   ],
   "source": [
    "Uled2(i2)"
   ]
  },
  {
   "cell_type": "code",
   "execution_count": null,
   "metadata": {
    "collapsed": true
   },
   "outputs": [],
   "source": []
  }
 ],
 "metadata": {
  "kernelspec": {
   "display_name": "Python 3",
   "language": "python",
   "name": "python3"
  },
  "language_info": {
   "codemirror_mode": {
    "name": "ipython",
    "version": 3
   },
   "file_extension": ".py",
   "mimetype": "text/x-python",
   "name": "python",
   "nbconvert_exporter": "python",
   "pygments_lexer": "ipython3",
   "version": "3.4.3+"
  }
 },
 "nbformat": 4,
 "nbformat_minor": 0
}
