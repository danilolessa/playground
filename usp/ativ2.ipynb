{
 "cells": [
  {
   "cell_type": "code",
   "execution_count": 18,
   "metadata": {
    "collapsed": true
   },
   "outputs": [],
   "source": [
    "from uncertainties import *\n",
    "import numpy as np"
   ]
  },
  {
   "cell_type": "code",
   "execution_count": 19,
   "metadata": {
    "collapsed": true
   },
   "outputs": [],
   "source": [
    "#tensão\n",
    "cor_mtr = [[7.89941E-7, 7.16902E-6],[7.16902E-6, 0.000135634]]\n",
    "(V, R) = correlated_values([1.37634, 0.866158], cor_mtr)\n",
    "imax = V/R"
   ]
  },
  {
   "cell_type": "code",
   "execution_count": 20,
   "metadata": {
    "collapsed": true
   },
   "outputs": [],
   "source": [
    "#potencia\n",
    "wcor_mtr = [[9.71529E-6, 7.9322E-5], [7.9322E-5, 0.00111477]] #matriz de cov\n",
    "(Vp, Rp) = correlated_values([1.37609, 0.865583], wcor_mtr)\n",
    "iw = Vp/(2*Rp) #corrente na potencia maxima\n",
    "ipm = Vp/Rp #corrente maxima\n",
    "wmax = Vp*iw - Rp*(iw**2) #potencia maxima"
   ]
  },
  {
   "cell_type": "code",
   "execution_count": 28,
   "metadata": {
    "collapsed": false
   },
   "outputs": [
    {
     "data": {
      "text/plain": [
       "0.5469214645216+/-0.019274803898102547"
      ]
     },
     "execution_count": 28,
     "metadata": {},
     "output_type": "execute_result"
    }
   ],
   "source": [
    "wmax"
   ]
  },
  {
   "cell_type": "code",
   "execution_count": null,
   "metadata": {
    "collapsed": true
   },
   "outputs": [],
   "source": []
  }
 ],
 "metadata": {
  "kernelspec": {
   "display_name": "Python 3",
   "language": "python",
   "name": "python3"
  },
  "language_info": {
   "codemirror_mode": {
    "name": "ipython",
    "version": 3
   },
   "file_extension": ".py",
   "mimetype": "text/x-python",
   "name": "python",
   "nbconvert_exporter": "python",
   "pygments_lexer": "ipython3",
   "version": "3.4.3+"
  }
 },
 "nbformat": 4,
 "nbformat_minor": 0
}
