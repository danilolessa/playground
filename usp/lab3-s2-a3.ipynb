{
 "cells": [
  {
   "cell_type": "code",
   "execution_count": 1,
   "metadata": {
    "collapsed": false
   },
   "outputs": [],
   "source": [
    "import numpy as np\n",
    "import scipy\n",
    "import scipy.misc\n",
    "import matplotlib.pyplot as plt"
   ]
  },
  {
   "cell_type": "code",
   "execution_count": 2,
   "metadata": {
    "collapsed": true
   },
   "outputs": [],
   "source": [
    "#larguras em unidades reais"
   ]
  },
  {
   "cell_type": "code",
   "execution_count": 3,
   "metadata": {
    "collapsed": false
   },
   "outputs": [],
   "source": [
    "siz = (65, 65)\n",
    "Lx = 6.4\n",
    "Ly = 3.2\n",
    "dx = Lx / siz[0]\n",
    "dy = Ly / siz[1]\n",
    "i_siz = (siz[0]-1, siz[1]-1)\n",
    "V_vermelho = 0\n",
    "V_azul = 9.05\n",
    "N = 100\n",
    "im = scipy.misc.imread(\"test2.png\")"
   ]
  },
  {
   "cell_type": "code",
   "execution_count": 4,
   "metadata": {
    "collapsed": false
   },
   "outputs": [
    {
     "data": {
      "text/plain": [
       "(400, 800, 3)"
      ]
     },
     "execution_count": 4,
     "metadata": {},
     "output_type": "execute_result"
    }
   ],
   "source": [
    "im.shape"
   ]
  },
  {
   "cell_type": "code",
   "execution_count": 5,
   "metadata": {
    "collapsed": false
   },
   "outputs": [],
   "source": [
    "\n",
    "im = scipy.misc.imresize(im, siz)\n",
    "V_im = np.zeros(siz)\n",
    "for i in range(0, im.shape[0]):\n",
    "    for j in range(0, im.shape[1]):\n",
    "        #vermelho\n",
    "        if im[i,j,0] > 50:\n",
    "            V_im[i,j] = 1\n",
    "            \n",
    "        #azul\n",
    "        if im[i,j,2] > 50:\n",
    "            V_im[i,j] = 2"
   ]
  },
  {
   "cell_type": "code",
   "execution_count": 6,
   "metadata": {
    "collapsed": false
   },
   "outputs": [],
   "source": [
    "#V_im = np.zeros((14, 25))\n",
    "#V_im[3:11,8] = np.ones(8)\n",
    "#V_im[3:11,15] = 2 * np.ones(8)\n",
    "#Lx = 14\n",
    "#Ly = 25"
   ]
  },
  {
   "cell_type": "code",
   "execution_count": 7,
   "metadata": {
    "collapsed": false
   },
   "outputs": [],
   "source": [
    "V = V_vermelho * (V_im == 1) + V_azul * (V_im == 2)"
   ]
  },
  {
   "cell_type": "code",
   "execution_count": 8,
   "metadata": {
    "collapsed": false
   },
   "outputs": [],
   "source": [
    "V = V_vermelho * (V_im == 1) + V_azul * (V_im == 2)\n",
    "V_c = (V_im == 1) + (V_im == 2)\n",
    "\n",
    "for n in range(0, N):\n",
    "    for i in range(1, i_siz[0]):\n",
    "        for j in range(1, i_siz[1]):\n",
    "            if V_c[i, j] == True:\n",
    "                continue\n",
    "            else:\n",
    "                V[i, j] = (V[i+1, j] + V[i-1, j] + V[i, j+1] + V[i, j-1]) / 4\n",
    "    for j in range(1, i_siz[1]):\n",
    "        V[0, j] = (V[1, j] + V[0, j-1] + V[0, j+1]) / 4\n",
    "        V[i_siz[0], j] = (V[i_siz[0]-1, j] + V[i_siz[0], j-1] + V[i_siz[0], j+1]) / 4\n",
    "    for i in range(1, i_siz[0]):\n",
    "        V[i, 0] = (V[i+1, 0] + V[i-1, 0] + V[i, 1]) / 4\n",
    "        V[i, i_siz[1]] = (V[i+1, i_siz[1]] + V[i-1, i_siz[1]] + V[i, i_siz[1] - 1]) / 4\n",
    "    V[0, 0] = (V[1, 0] + V[0, 1]) / 2\n",
    "    V[i_siz[0], 0] = (V[i_siz[0]-1, 0] + V[i_siz[0], 1]) / 4\n",
    "    V[0, i_siz[1]] = (V[1, i_siz[1]] + V[0, i_siz[1]-1]) / 4\n",
    "    V[i_siz[0], i_siz[1]] = (V[i_siz[0], i_siz[1]] + V[i_siz[0], i_siz[1]-1]) / 4"
   ]
  },
  {
   "cell_type": "code",
   "execution_count": 9,
   "metadata": {
    "collapsed": true
   },
   "outputs": [],
   "source": [
    "e_x = (V[48,:] - V[47, :]) / dy"
   ]
  },
  {
   "cell_type": "code",
   "execution_count": 27,
   "metadata": {
    "collapsed": false
   },
   "outputs": [],
   "source": [
    "plt.matshow(V)\n",
    "plt.colorbar()\n",
    "plt.title('Potencial eletrostático [V] simulado')\n",
    "plt.xlabel('Distância do centro (cm)')\n",
    "plt.ylabel('Distância do centro (cm)')\n",
    "plt.xticks(np.linspace(0, i_siz[0], 5),np.linspace(-Lx/2, Lx/2, 5))\n",
    "plt.yticks(np.linspace(0, i_siz[1], 5),np.linspace(-Ly/2, Ly/2, 5))\n",
    "plt.show()"
   ]
  },
  {
   "cell_type": "code",
   "execution_count": 18,
   "metadata": {
    "collapsed": false
   },
   "outputs": [],
   "source": [
    "e_x = (V[31,:] - V[30, :]) / dy\n",
    "plt.plot(np.linspace(-Lx/2, Lx/2, 65),e_x, '.')\n",
    "plt.title('Campo elétrico simulado')\n",
    "plt.xlabel('Distância do centro (cm)')\n",
    "plt.ylabel('Campo elétrico (V/cm)')\n",
    "plt.show()"
   ]
  },
  {
   "cell_type": "code",
   "execution_count": 26,
   "metadata": {
    "collapsed": false
   },
   "outputs": [],
   "source": [
    "alfa_x = e_x / 9.1\n",
    "x = np.linspace(-Lx/2, Lx/2, 65)\n",
    "x = x\n",
    "plt.plot(x, 100*alfa_x, 'k.')\n",
    "plt.title(r'$\\alpha(x)$ simulado', fontsize=20)\n",
    "plt.xlabel('Unidade de distância (cm)')\n",
    "plt.xlim(-Lx/2, Lx/2)\n",
    "plt.ylabel(r'$\\alpha(x) [1/m]$', fontsize=20)\n",
    "plt.show()"
   ]
  },
  {
   "cell_type": "code",
   "execution_count": 193,
   "metadata": {
    "collapsed": false
   },
   "outputs": [
    {
     "data": {
      "text/plain": [
       "array([   1.01786153,    2.07829496,    3.28775308,    4.69245759,\n",
       "          6.35802353,    8.35469671,   10.75797194,   13.64870082,\n",
       "         17.11236744,   21.23702768,   26.10917848,   31.80660003,\n",
       "         38.38714406,   45.87283713,   54.23004816,   63.34943899,\n",
       "         73.03407191,   83.00856488,   92.96103467,  102.61460249,\n",
       "        111.79692774,  120.46422214,  128.68005391,  136.57731015,\n",
       "        144.32373645,  152.12386678,  160.23444818,  168.91297664,\n",
       "        178.35788857,  188.68132055,  200.02859395,  212.48102295,\n",
       "        225.91475196,  240.96643772,  259.04102654,  279.98629607,\n",
       "        301.00011892,  326.80750842,  360.18612591,  387.47625199,\n",
       "        399.41534214,  403.85826429,  405.35458419,  405.68089091,\n",
       "        405.24155977,  403.45835068,  398.07387261,  382.77416024,\n",
       "        342.51959763,  254.77287133,  177.83440249,  123.3341219 ,\n",
       "         86.86198173,   62.45813627,   45.78367521,   34.08294406,\n",
       "         25.65708528,   19.44771152,   14.77715533,   11.19643457,\n",
       "          8.39693115,    6.1582069 ,    4.31624852,    2.74338991,\n",
       "          1.33498855])"
      ]
     },
     "execution_count": 193,
     "metadata": {},
     "output_type": "execute_result"
    }
   ],
   "source": [
    "alfa_x*100"
   ]
  },
  {
   "cell_type": "code",
   "execution_count": null,
   "metadata": {
    "collapsed": true
   },
   "outputs": [],
   "source": []
  }
 ],
 "metadata": {
  "kernelspec": {
   "display_name": "Python 3",
   "language": "python",
   "name": "python3"
  },
  "language_info": {
   "codemirror_mode": {
    "name": "ipython",
    "version": 3
   },
   "file_extension": ".py",
   "mimetype": "text/x-python",
   "name": "python",
   "nbconvert_exporter": "python",
   "pygments_lexer": "ipython3",
   "version": "3.5.1+"
  }
 },
 "nbformat": 4,
 "nbformat_minor": 0
}
