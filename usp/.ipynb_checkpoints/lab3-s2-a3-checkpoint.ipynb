{
 "cells": [
  {
   "cell_type": "code",
   "execution_count": 55,
   "metadata": {
    "collapsed": false
   },
   "outputs": [],
   "source": [
    "import numpy as np\n",
    "import scipy\n",
    "import matplotlib.pyplot as plt"
   ]
  },
  {
   "cell_type": "code",
   "execution_count": 85,
   "metadata": {
    "collapsed": false
   },
   "outputs": [],
   "source": [
    "im = scipy.misc.imread(\"test.png\")\n",
    "im = scipy.misc.imresize(im, (25, 25))\n",
    "V_im = np.zeros((im.shape[0], im.shape[1]))\n",
    "for i in range(0, im.shape[0]):\n",
    "    for j in range(0, im.shape[1]):\n",
    "        if im[i,j,0] < 50:\n",
    "            V_im[i,j] = 1\n",
    "        if im[i,j,1] < 50:\n",
    "            V_im[i,j] = 2"
   ]
  },
  {
   "cell_type": "code",
   "execution_count": null,
   "metadata": {
    "collapsed": true
   },
   "outputs": [],
   "source": []
  }
 ],
 "metadata": {
  "kernelspec": {
   "display_name": "Python 3",
   "language": "python",
   "name": "python3"
  },
  "language_info": {
   "codemirror_mode": {
    "name": "ipython",
    "version": 3
   },
   "file_extension": ".py",
   "mimetype": "text/x-python",
   "name": "python",
   "nbconvert_exporter": "python",
   "pygments_lexer": "ipython3",
   "version": "3.4.3+"
  }
 },
 "nbformat": 4,
 "nbformat_minor": 0
}
