{
 "cells": [
  {
   "cell_type": "code",
   "execution_count": 17,
   "metadata": {
    "collapsed": false
   },
   "outputs": [],
   "source": [
    "import numpy as np\n",
    "import scipy\n",
    "import matplotlib.pyplot as plt\n",
    "\n",
    "c = 299792458\n",
    "h = 6.62607004e-34\n",
    "hr = h / (2 * np.pi)\n",
    "m_e = 9.10938356e-31\n",
    "m_p = 1.6726219e-27\n",
    "e = 1.60217662e-19\n",
    "e0 = 8.85418782e-12\n",
    "pi = np.pi\n",
    "R = m_e * e ** 4 / ((4 * pi * e0) ** 2 * 4 * pi * hr ** 3 * c)"
   ]
  },
  {
   "cell_type": "code",
   "execution_count": 61,
   "metadata": {
    "collapsed": false
   },
   "outputs": [
    {
     "name": "stdout",
     "output_type": "stream",
     "text": [
      "D(m):2.954732e-12, b(SI):8.529578e-13\n"
     ]
    }
   ],
   "source": [
    "#exercicio 2\n",
    "D = (2 * 79 * e ** 2) / (4 * pi * e0 * (7.7 * e * 1e4))\n",
    "b = D / (2 * np.tan(pi / 3))\n",
    "print(\"D(m): %e, b(SI):%2e\" % (D, b))"
   ]
  },
  {
   "cell_type": "code",
   "execution_count": 72,
   "metadata": {
    "collapsed": false
   },
   "outputs": [
    {
     "name": "stdout",
     "output_type": "stream",
     "text": [
      "dE(eV): 12.755337, dV(m/s): 4.943303e+04\n"
     ]
    }
   ],
   "source": [
    "#exercicio 3\n",
    "e_k = m_e * e ** 4 / (8 * e0 ** 2 * h ** 2)\n",
    "delta_e = e_k * (1 - 1/16)\n",
    "delta_v = np.sqrt(delta_e * 2 / m_p)\n",
    "print(\"dE(eV): %f, dV(m/s): %e\" % (delta_e / e, delta_v))"
   ]
  },
  {
   "cell_type": "code",
   "execution_count": 81,
   "metadata": {
    "collapsed": false
   },
   "outputs": [
    {
     "data": {
      "text/plain": [
       "87.698882117932513"
      ]
     },
     "execution_count": 81,
     "metadata": {},
     "output_type": "execute_result"
    }
   ],
   "source": [
    "#exercicio 4\n",
    "\n",
    "\n",
    "np.sqrt(63.3e9 / (R * 0.75))"
   ]
  },
  {
   "cell_type": "code",
   "execution_count": 40,
   "metadata": {
    "collapsed": false
   },
   "outputs": [],
   "source": [
    "#exercicio 6\n",
    "atom_sizes = np.array([1, 2, 3, 4, 6, 7])\n",
    "red_mass = atom_sizes / (atom_sizes + m_e)\n",
    "w = 0.75 / (R * red_mass * atom_sizes ** 2)"
   ]
  },
  {
   "cell_type": "code",
   "execution_count": 48,
   "metadata": {
    "collapsed": false
   },
   "outputs": [
    {
     "data": {
      "text/plain": [
       "6.8345028952029222e-08"
      ]
     },
     "execution_count": 48,
     "metadata": {},
     "output_type": "execute_result"
    }
   ],
   "source": [
    "w[0]"
   ]
  },
  {
   "cell_type": "code",
   "execution_count": 49,
   "metadata": {
    "collapsed": false
   },
   "outputs": [
    {
     "data": {
      "text/plain": [
       "0.027453321247497935"
      ]
     },
     "execution_count": 49,
     "metadata": {},
     "output_type": "execute_result"
    }
   ],
   "source": [
    "#exercicio 7\n",
    "R/c * 0.75"
   ]
  },
  {
   "cell_type": "code",
   "execution_count": 25,
   "metadata": {
    "collapsed": false
   },
   "outputs": [
    {
     "data": {
      "text/plain": [
       "1.3034454695652174e+55"
      ]
     },
     "execution_count": 25,
     "metadata": {},
     "output_type": "execute_result"
    }
   ],
   "source": [
    "c / 2.3e-47"
   ]
  },
  {
   "cell_type": "code",
   "execution_count": null,
   "metadata": {
    "collapsed": true
   },
   "outputs": [],
   "source": []
  },
  {
   "cell_type": "code",
   "execution_count": null,
   "metadata": {
    "collapsed": true
   },
   "outputs": [],
   "source": [
    "# exercicio 7\n"
   ]
  }
 ],
 "metadata": {
  "kernelspec": {
   "display_name": "Python 3",
   "language": "python",
   "name": "python3"
  },
  "language_info": {
   "codemirror_mode": {
    "name": "ipython",
    "version": 3
   },
   "file_extension": ".py",
   "mimetype": "text/x-python",
   "name": "python",
   "nbconvert_exporter": "python",
   "pygments_lexer": "ipython3",
   "version": "3.4.3+"
  }
 },
 "nbformat": 4,
 "nbformat_minor": 0
}
