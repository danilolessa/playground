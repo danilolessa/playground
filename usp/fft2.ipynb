{
 "cells": [
  {
   "cell_type": "code",
   "execution_count": 1,
   "metadata": {
    "collapsed": true
   },
   "outputs": [],
   "source": [
    "import numpy as np\n",
    "import matplotlib.pyplot as plt\n",
    "import time"
   ]
  },
  {
   "cell_type": "code",
   "execution_count": 2,
   "metadata": {
    "collapsed": true
   },
   "outputs": [],
   "source": [
    "#esse bloco tem funções a serem utilizadas nos blocos seguintes\n",
    "\n",
    "#transformação discreta de Fourier no modo convencional\n",
    "def DFT(x):\n",
    "    N = x.shape[0] #quantidade de elementos\n",
    "    n = np.arange(N)\n",
    "    k = n.reshape((N, 1)) #transposição de n\n",
    "    M = np.exp(-2j * np.pi * k * n / N)\n",
    "    return np.dot(M, x)\n",
    "    \n",
    "#FFT implementado\n",
    "#fonte https://jakevdp.github.io/blog/2013/08/28/understanding-the-fft/\n",
    "def FFT(x):\n",
    "    \"\"\"A vectorized, non-recursive version of the Cooley-Tukey FFT\"\"\"\n",
    "    x = np.asarray(x, dtype=float)\n",
    "    N = x.shape[0]\n",
    "\n",
    "    if np.log2(N) % 1 > 0:\n",
    "        x = padFFT(x)\n",
    "        N = x.shape[0]\n",
    "\n",
    "    # N_min here is equivalent to the stopping condition above,\n",
    "    # and should be a power of 2\n",
    "    N_min = min(N, 32)\n",
    "    \n",
    "    # Perform an O[N^2] DFT on all length-N_min sub-problems at once\n",
    "    n = np.arange(N_min)\n",
    "    k = n[:, None]\n",
    "    M = np.exp(-2j * np.pi * n * k / N_min)\n",
    "    X = np.dot(M, x.reshape((N_min, -1)))\n",
    "\n",
    "    # build-up each level of the recursive calculation all at once\n",
    "    while X.shape[0] < N:\n",
    "        X_even = X[:, :X.shape[1] / 2]\n",
    "        X_odd = X[:, X.shape[1] / 2:]\n",
    "        factor = np.exp(-1j * np.pi * np.arange(X.shape[0])\n",
    "                        / X.shape[0])[:, None]\n",
    "        X = np.vstack([X_even + factor * X_odd,\n",
    "                       X_even - factor * X_odd])\n",
    "\n",
    "    return X.ravel()"
   ]
  },
  {
   "cell_type": "code",
   "execution_count": 3,
   "metadata": {
    "collapsed": false
   },
   "outputs": [
    {
     "name": "stderr",
     "output_type": "stream",
     "text": [
      "/home/danilo/.local/lib/python3.4/site-packages/ipykernel/__main__.py:34: DeprecationWarning: using a non-integer number instead of an integer will result in an error in the future\n",
      "/home/danilo/.local/lib/python3.4/site-packages/ipykernel/__main__.py:35: DeprecationWarning: using a non-integer number instead of an integer will result in an error in the future\n"
     ]
    }
   ],
   "source": [
    "#quantidade de passos de simulação\n",
    "n = 9\n",
    "t1 = np.zeros((n, 1))\n",
    "t2 = np.zeros((n, 1))\n",
    "t3 = np.zeros((n, 1))\n",
    "for i in range(0, n):\n",
    "    N = 2 ** i\n",
    "    x = np.linspace(0, 2*np.pi, N)\n",
    "    y = np.sin(x)\n",
    "\n",
    "    #simular DFT\n",
    "    t0 = time.time()\n",
    "    f1 = DFT(y)\n",
    "    tf = time.time()\n",
    "    t1[i] = tf - t0\n",
    "\n",
    "    #simular FFT implementado\n",
    "    t0 = time.time()\n",
    "    f2 = FFT(y)\n",
    "    tf = time.time()\n",
    "    t2[i] = tf - t0\n",
    "\n",
    "    #simular FFTPACK\n",
    "    t0 = time.time()\n",
    "    f3 = np.fft.fft(y)\n",
    "    tf = time.time()\n",
    "    t3[i] = tf - t0   "
   ]
  },
  {
   "cell_type": "code",
   "execution_count": 4,
   "metadata": {
    "collapsed": true
   },
   "outputs": [],
   "source": [
    "#graficar tempo de execução\n",
    "plt.plot(t1*100, '+-', label='DFT')\n",
    "plt.plot(t2*100, '+-', label='FFT')\n",
    "plt.plot(t3*100, '+-', label='FFTPACK')\n",
    "plt.title(\"Tempo de execução das transformadas de Fourier\", fontsize = 24)\n",
    "plt.ylabel('Tempo de execução (ms)', fontsize = 20)\n",
    "plt.xlabel('Passos ($2^n$)', fontsize = 20)\n",
    "plt.legend()\n",
    "plt.show()"
   ]
  },
  {
   "cell_type": "code",
   "execution_count": 5,
   "metadata": {
    "collapsed": true
   },
   "outputs": [],
   "source": [
    "#graficar resultados\n",
    "plt.plot(np.square(np.abs(f1/N)), '+-', label='DFT')\n",
    "plt.plot(np.square(np.abs(f2/N)), '+-', label='FFT')\n",
    "plt.plot(np.square(np.abs(f3/N)), '+-', label='FFTPACK')\n",
    "plt.xlim(0, 2**(n-3))\n",
    "plt.title(\"Resultado das transformadas de Fourier (último passo)\", fontsize = 24)\n",
    "plt.ylabel(\"$|Y|^2$\", fontsize = 20)\n",
    "plt.xlabel(\"Hz\", fontsize = 20)\n",
    "plt.legend()\n",
    "plt.show()"
   ]
  },
  {
   "cell_type": "code",
   "execution_count": 6,
   "metadata": {
    "collapsed": false
   },
   "outputs": [
    {
     "name": "stderr",
     "output_type": "stream",
     "text": [
      "/home/danilo/.local/lib/python3.4/site-packages/ipykernel/__main__.py:34: DeprecationWarning: using a non-integer number instead of an integer will result in an error in the future\n",
      "/home/danilo/.local/lib/python3.4/site-packages/ipykernel/__main__.py:35: DeprecationWarning: using a non-integer number instead of an integer will result in an error in the future\n"
     ]
    }
   ],
   "source": [
    "n = 9\n",
    "t1 = np.zeros((n, 1))\n",
    "t2 = np.zeros((n, 1))\n",
    "t3 = np.zeros((n, 1))\n",
    "for i in range(0, n):\n",
    "    N = 2 ** i\n",
    "    x = np.linspace(0, 2*np.pi, N)\n",
    "    y = np.sin(x) + 2*np.sin(5*x) + 3*np.sin(15*x)\n",
    "\n",
    "    t0 = time.time()\n",
    "    f1 = DFT(y)\n",
    "    tf = time.time()\n",
    "    t1[i] = tf - t0\n",
    "\n",
    "    t0 = time.time()\n",
    "    f2 = FFT(y)\n",
    "    tf = time.time()\n",
    "    t2[i] = tf - t0\n",
    "\n",
    "    t0 = time.time()\n",
    "    f3 = np.fft.fft(y)\n",
    "    tf = time.time()\n",
    "    t3[i] = tf - t0"
   ]
  },
  {
   "cell_type": "code",
   "execution_count": 7,
   "metadata": {
    "collapsed": true
   },
   "outputs": [],
   "source": [
    "#graficar tempo de execução\n",
    "plt.plot(t1*100, '+-', label='DFT')\n",
    "plt.plot(t2*100, '+-', label='FFT')\n",
    "plt.plot(t3*100, '+-', label='FFTPACK')\n",
    "plt.title(\"Tempo de execução das transformadas de Fourier\", fontsize = 24)\n",
    "plt.ylabel('Tempo de execução (ms)', fontsize = 20)\n",
    "plt.xlabel('Passos ($2^n$)', fontsize = 20)\n",
    "plt.legend()\n",
    "plt.xlim(0, n-1)\n",
    "plt.show()"
   ]
  },
  {
   "cell_type": "code",
   "execution_count": 8,
   "metadata": {
    "collapsed": true
   },
   "outputs": [],
   "source": [
    "#graficar resultados\n",
    "plt.plot(np.square(np.abs(f1/N)), '+-', label='DFT')\n",
    "plt.plot(np.square(np.abs(f2/N)), '+-', label='FFT')\n",
    "plt.plot(np.square(np.abs(f3/N)), '+-', label='FFTPACK')\n",
    "plt.xlim(0, 2**(n-3))\n",
    "plt.title(\"Resultado das transformadas de Fourier (último passo)\", fontsize = 24)\n",
    "plt.ylabel(\"$|Y|^2$\", fontsize = 20)\n",
    "plt.xlabel(\"Hz\", fontsize = 20)\n",
    "plt.legend()\n",
    "plt.show()"
   ]
  },
  {
   "cell_type": "code",
   "execution_count": 9,
   "metadata": {
    "collapsed": false
   },
   "outputs": [
    {
     "name": "stderr",
     "output_type": "stream",
     "text": [
      "/home/danilo/.local/lib/python3.4/site-packages/ipykernel/__main__.py:34: DeprecationWarning: using a non-integer number instead of an integer will result in an error in the future\n",
      "/home/danilo/.local/lib/python3.4/site-packages/ipykernel/__main__.py:35: DeprecationWarning: using a non-integer number instead of an integer will result in an error in the future\n"
     ]
    }
   ],
   "source": [
    "n = 20\n",
    "t2 = np.zeros((n, 1))\n",
    "t3 = np.zeros((n, 1))\n",
    "for i in range(0, n):\n",
    "    N = 2 ** i\n",
    "    x = np.linspace(0, 2*np.pi, N)\n",
    "    y = np.sin(x) + 2*np.sin(5*x) + 3*np.sin(15*x)\n",
    "\n",
    "\n",
    "    t0 = time.time()\n",
    "    f2 = FFT(y)\n",
    "    tf = time.time()\n",
    "    t2[i] = tf - t0\n",
    "\n",
    "    t0 = time.time()\n",
    "    f3 = np.fft.fft(y)\n",
    "    tf = time.time()\n",
    "    t3[i] = tf - t0   "
   ]
  },
  {
   "cell_type": "code",
   "execution_count": 10,
   "metadata": {
    "collapsed": true
   },
   "outputs": [],
   "source": [
    "#graficar tempo de execução\n",
    "plt.plot(t2*100, '+-', label='FFT')\n",
    "plt.plot(t3*100, '+-', label='FFTPACK')\n",
    "plt.title(\"Tempo de execução das transformadas de Fourier\", fontsize = 24)\n",
    "plt.ylabel('Tempo de execução (ms)', fontsize = 20)\n",
    "plt.xlabel('Passos ($2^n$)', fontsize = 20)\n",
    "plt.legend()\n",
    "plt.xlim(0, n-1)\n",
    "plt.show()"
   ]
  },
  {
   "cell_type": "code",
   "execution_count": null,
   "metadata": {
    "collapsed": true
   },
   "outputs": [],
   "source": []
  }
 ],
 "metadata": {
  "kernelspec": {
   "display_name": "Python 3",
   "language": "python",
   "name": "python3"
  },
  "language_info": {
   "codemirror_mode": {
    "name": "ipython",
    "version": 3
   },
   "file_extension": ".py",
   "mimetype": "text/x-python",
   "name": "python",
   "nbconvert_exporter": "python",
   "pygments_lexer": "ipython3",
   "version": "3.4.3+"
  }
 },
 "nbformat": 4,
 "nbformat_minor": 0
}
