{
 "cells": [
  {
   "cell_type": "code",
   "execution_count": 50,
   "metadata": {
    "collapsed": true
   },
   "outputs": [],
   "source": [
    "import numpy as np\n",
    "import matplotlib.pyplot as plt\n",
    "\n",
    "g = 9.7864\n",
    "m1 = 1\n",
    "m2 = 0.05\n",
    "l1 = 0.5\n",
    "l2 = 0.2"
   ]
  },
  {
   "cell_type": "code",
   "execution_count": 51,
   "metadata": {
    "collapsed": false
   },
   "outputs": [],
   "source": [
    "def der_ang(p1, p2, c1, c2):\n",
    "    return p1 * c1 + p2 * c2\n",
    "\n",
    "def der_p(ang, c1, c2):\n",
    "    return c1 * np.sin(ang) + c2\n",
    "\n",
    "def fixang(ang):\n",
    "    return np.arctan2(np.sin(ang),np.cos(ang))"
   ]
  },
  {
   "cell_type": "code",
   "execution_count": 96,
   "metadata": {
    "collapsed": false
   },
   "outputs": [
    {
     "name": "stderr",
     "output_type": "stream",
     "text": [
      "/home/danilo/.local/lib/python3.4/site-packages/ipykernel/__main__.py:6: DeprecationWarning: using a non-integer number instead of an integer will result in an error in the future\n",
      "/home/danilo/.local/lib/python3.4/site-packages/ipykernel/__main__.py:7: DeprecationWarning: using a non-integer number instead of an integer will result in an error in the future\n",
      "/home/danilo/.local/lib/python3.4/site-packages/ipykernel/__main__.py:8: DeprecationWarning: using a non-integer number instead of an integer will result in an error in the future\n",
      "/home/danilo/.local/lib/python3.4/site-packages/ipykernel/__main__.py:9: DeprecationWarning: using a non-integer number instead of an integer will result in an error in the future\n"
     ]
    },
    {
     "name": "stdout",
     "output_type": "stream",
     "text": [
      "0.2\n",
      "0.4\n",
      "0.6000000000000001\n",
      "0.8\n",
      "1.0\n",
      "1.2\n",
      "1.4000000000000001\n",
      "1.6\n"
     ]
    }
   ],
   "source": [
    "dt = 0.01;\n",
    "t_max = 100;\n",
    "count = t_max/dt;\n",
    "x=0\n",
    "\n",
    "ang1 = np.zeros((count, 9));\n",
    "ang2 = np.zeros((count, 9));\n",
    "p1 = np.zeros((count, 9));\n",
    "p2 = np.zeros((count, 9));\n",
    "\n",
    "#constantes de uso comum\n",
    "c1 = 1 / (m1 * l1 ** 2);\n",
    "c2 = 1 / (m2 * l2 ** 2);\n",
    "c3 = -1 * m1 * g * l1;\n",
    "c4 = -1 * m2 * g * l2;\n",
    "cp = 1 / (m1 * l1 * l2);\n",
    "\n",
    "out_p1 = [];\n",
    "out_ang1 =[];\n",
    "\n",
    "for j in range(1, 9):\n",
    "  #condicoes iniciais envolvendo energia\n",
    "  E_0 = 0.2 + (j-1) * 0.2;\n",
    "  ang1[1, j] = 0;\n",
    "  ang2[1, j] = np.pi/2;\n",
    "  p1[1, j] = np.sqrt(2 * m1 * l1 ** 2 *(E_0 - m2 * l2 * g));\n",
    "  p2[1, j] = 0;  \n",
    "  print(E_0);\n",
    "  \n",
    "  for i in range(1, int(count-1)):\n",
    "    cv1 = -np.cos(ang1[i, j] - ang2[i, j]) * cp;\n",
    "    cv2 = -np.sin(ang1[i, j] - ang2[i, j]) * cp * p1[i, j] * p2[i, j];\n",
    "\n",
    "    k_ang1_1 = der_ang(p1[i, j], p2[i, j], c1, cv1) * dt;\n",
    "    k_ang2_1 = der_ang(p2[i, j], p1[i, j], c2, cv1) * dt;\n",
    "    k_p1_1 = der_p(ang1[i, j], c3, cv2) * dt;\n",
    "    k_p2_1 = der_p(ang2[i, j], c4, -cv2) * dt;\n",
    "\n",
    "    xang1 = ang1[i, j] + k_ang1_1;\n",
    "    xang2 = ang2[i, j] + k_ang2_1;\n",
    "    xp1 = p1[i, j] + k_p1_1;\n",
    "    xp2 = p2[i, j] + k_p2_1;\n",
    "\n",
    "    k_ang1_2 = der_ang(xp1, xp2, c1, cv1) * dt;\n",
    "    k_ang2_2 = der_ang(xp2, xp1, c2, cv1) * dt;\n",
    "    k_p1_2 = der_p(xang1, c3, cv2) * dt;\n",
    "    k_p2_2 = der_p(xang2, c4, -cv2) * dt;\n",
    "\n",
    "    ang1[i+1, j] = fixang(ang1[i, j] + k_ang1_2);\n",
    "    ang2[i+1, j] = fixang(ang2[i, j] + k_ang2_2);\n",
    "    if( np.sign(ang1[i+1, j]) != np.sign(ang1[i, j])):\n",
    "      if( p2[i, j] > 0):\n",
    "          x = x + 1;\n",
    "          out_ang1.append(ang2[i, j])\n",
    "          out_p1.append(p2[i, j])\n",
    "\n",
    "    p1[i+1, j] = p1[i, j] + k_p1_2;\n",
    "    p2[i+1, j] = p2[i, j] + k_p2_2;\n"
   ]
  },
  {
   "cell_type": "code",
   "execution_count": 97,
   "metadata": {
    "collapsed": false
   },
   "outputs": [],
   "source": [
    "plt.plot(np.array(out_ang1) / np.pi, out_p1, '.k')\n",
    "plt.show()"
   ]
  },
  {
   "cell_type": "code",
   "execution_count": 92,
   "metadata": {
    "collapsed": false
   },
   "outputs": [],
   "source": [
    "plt.plot(ang2, p2, '.k')\n",
    "plt.show()"
   ]
  },
  {
   "cell_type": "code",
   "execution_count": null,
   "metadata": {
    "collapsed": true
   },
   "outputs": [],
   "source": []
  }
 ],
 "metadata": {
  "kernelspec": {
   "display_name": "Python 3",
   "language": "python",
   "name": "python3"
  },
  "language_info": {
   "codemirror_mode": {
    "name": "ipython",
    "version": 3
   },
   "file_extension": ".py",
   "mimetype": "text/x-python",
   "name": "python",
   "nbconvert_exporter": "python",
   "pygments_lexer": "ipython3",
   "version": "3.4.3+"
  }
 },
 "nbformat": 4,
 "nbformat_minor": 0
}
