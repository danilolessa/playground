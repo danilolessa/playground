{
 "cells": [
  {
   "cell_type": "code",
   "execution_count": null,
   "metadata": {
    "collapsed": false
   },
   "outputs": [],
   "source": [
    "##### Dependências e config iniciais #####\n",
    "\n",
    "#%matplotlib inline #Comente/remova essa linha e reinicie o IPython/Jupyter caso queira plots em janelas separadas\n",
    "\n",
    "import numpy as np\n",
    "import matplotlib.pyplot as plt\n",
    "import time"
   ]
  },
  {
   "cell_type": "code",
   "execution_count": null,
   "metadata": {
    "collapsed": false
   },
   "outputs": [],
   "source": [
    "##### Bloco de condições iniciais e de simulação #####\n",
    "\n",
    "#Constante de simulação\n",
    "J = 1 #Valor númerico do spin\n",
    "h = 0 #Constante associada a cada sítio de spin\n",
    "\n",
    "#Parâmetros da simulação\n",
    "N = 1000   #Iterações de Metropolis a serem feitas\n",
    "Nmtr = 10    #Tamanho da matriz de spins inicial\n",
    "\n",
    "T = np.linspace(0, 5, 16)    #Temperaturas a serem iteradas. (~10s por iteração em meu PC)\n",
    "#Multiplique pela constante de Boltzmann para obter a grandeza em Kelvins\n",
    "\n",
    "#Matriz para simulação\n",
    "sigma_0 = np.ones((Nmtr, Nmtr))    #Matriz com os spins iniciais"
   ]
  },
  {
   "cell_type": "code",
   "execution_count": null,
   "metadata": {
    "collapsed": false
   },
   "outputs": [],
   "source": [
    "##### Bloco de funções #####\n",
    "\n",
    "###\n",
    "#Obter a energia total de uma matriz de spins - extrapolação do método usado na sala\n",
    "#não utilizado devido a ineficiência\n",
    "def energiaIsing2(spin_grid):\n",
    "    shp = spin_grid.shape\n",
    "    E = 0\n",
    "    if len(shp) == 1:\n",
    "        line_len = spin_grid.shape[0]\n",
    "        for i in range(0, line_len-1):\n",
    "            E -= J * spin_grid[i] * spin_grid[i+1] + h * spin_grid[i]\n",
    "        E += -(J * spin_grid[line_len-1] * spin_grid[0] + h * spin_grid[line_len-1])\n",
    "    else:\n",
    "        for r in spin_grid:\n",
    "            E += energiaIsing(r)\n",
    "            E += energiaIsing(np.transpose(r))\n",
    "    return E    \n",
    "\n",
    "###\n",
    "#Obter a energia total de uma matriz de spins - método matricial mais eficiente\n",
    "def energiaIsing(spin_grid):\n",
    "    #Obter uma matriz com a soma de todos os vizinhos circulares em cada sítio da matriz \n",
    "    neighbors = (np.roll(spin_grid, 1, axis=0) + np.roll(spin_grid, -1, axis=0) +\n",
    "    np.roll(spin_grid, 1, axis=1) + np.roll(spin_grid, -1, axis=1))\n",
    "    \n",
    "    #Retornar a soma de todos os elementos da matriz anterior junto com o H associado\n",
    "    #Note que a divisão por dois da matriz de vizinhos é devido a cada ligação ser associada duas vezes\n",
    "    return -(J * np.sum(np.multiply(spin_grid, neighbors)) / 2 + np.sum(h * spin_grid))\n",
    "\n",
    "###\n",
    "#Fazer iteração do algoritimo de Metropolis para uma rede 2D de spins\n",
    "def iterMetropolis(sigma_0, t):\n",
    "    E = energiaIsing(sigma_0)    #Energia inicial\n",
    "    m = np.zeros(N)    #Lista contendo a magnetização média em cada iteração\n",
    "    e = np.zeros(N)    #Lista contento a energia média em cada iteração\n",
    "    cfg = np.zeros(N)\n",
    "    t1 = time.time()\n",
    "    \n",
    "    #Inicializar a matriz para uso nas iterações\n",
    "    sigma = np.copy(sigma_0)\n",
    "    \n",
    "    for n in range(0, N):\n",
    "        for i in range(0, Nmtr):\n",
    "            for j in range(0, Nmtr):\n",
    "                #Inicializar uma matriz temporária para a flipagem do spin\n",
    "                sigma_temp = np.copy(sigma)        \n",
    "                sigma_temp[i, j] = -sigma[i,j]\n",
    "                \n",
    "                E1 = energiaIsing(sigma_temp)\n",
    "                Eflip = E1 - E\n",
    "                \n",
    "                if Eflip <= 0:\n",
    "                    E = E1\n",
    "                    sigma = np.copy(sigma_temp)\n",
    "                else:\n",
    "                    Pflip = np.exp(-Eflip / t)\n",
    "                    r = np.random.rand(1)\n",
    "                    \n",
    "                    if r < Pflip:\n",
    "                        E = E1\n",
    "                        sigma = np.copy(sigma_temp)\n",
    "                        \n",
    "        #Guardar a magnetização e energia média da iteração                \n",
    "        m[n] = np.sum(sigma) / sigma.size\n",
    "        e[n] = E / sigma.size\n",
    "        cfg[n] = n\n",
    "    \n",
    "    t2 = time.time()\n",
    "    print(\"T/k_b: %.2f, tempo de execução: %.2f s\" % (t, t2-t1))\n",
    "    output = {'Em': np.average(e), 'M': np.average(m), 'e':e, 'm':m, 'cfg':cfg}\n",
    "    return output"
   ]
  },
  {
   "cell_type": "code",
   "execution_count": null,
   "metadata": {
    "collapsed": false,
    "scrolled": true
   },
   "outputs": [],
   "source": [
    "##### Bloco de simulações #####\n",
    "Em = []\n",
    "M = []\n",
    "\n",
    "for t in T:    \n",
    "    ite = iterMetropolis(sigma_0, t)\n",
    "    Em.append(ite['Em'])\n",
    "    M.append(ite['M'])\n",
    "\n",
    "Em = np.array(Em)\n",
    "M = np.array(M)"
   ]
  },
  {
   "cell_type": "code",
   "execution_count": null,
   "metadata": {
    "collapsed": false
   },
   "outputs": [],
   "source": [
    "##### Plotagem da magnetização média #####\n",
    "\n",
    "plt.plot(T, M, '-*', label='Magnetização média')\n",
    "plt.plot(T, np.zeros(len(T)), '-')\n",
    "plt.ylim((-1.1*J, 1.1*J))\n",
    "plt.xlim((0, np.max(T)))\n",
    "plt.legend(loc=0)\n",
    "plt.xlabel(\"Temperatura ($K/k_b$)\")\n",
    "plt.ylabel(\"<m>\")\n",
    "plt.title(\"Magnetização média por temperatura \\n h=%s, %s x %s spins, %s iter. de Metropolis\" % (h, Nmtr, Nmtr, N))\n",
    "plt.show()"
   ]
  },
  {
   "cell_type": "code",
   "execution_count": null,
   "metadata": {
    "collapsed": false
   },
   "outputs": [],
   "source": [
    "##### Plotagem da energia média #####\n",
    "\n",
    "plt.plot(T, Em, '-*', label='Energia total do sistema')\n",
    "plt.plot(T, np.zeros(len(T)), '-')\n",
    "plt.legend(loc=0)\n",
    "plt.xlim((0, np.max(T)))\n",
    "plt.xlabel(\"Temperatura [$K/k_b$]\")\n",
    "plt.ylabel(\"<E>\")\n",
    "plt.title(\"Energia média por temperatura \\n h=%s, %s x %s spins, %s iter. de Metropolis\" % (h, Nmtr, Nmtr, N))\n",
    "plt.show()"
   ]
  }
 ],
 "metadata": {
  "kernelspec": {
   "display_name": "Python 3",
   "language": "python",
   "name": "python3"
  },
  "language_info": {
   "codemirror_mode": {
    "name": "ipython",
    "version": 3
   },
   "file_extension": ".py",
   "mimetype": "text/x-python",
   "name": "python",
   "nbconvert_exporter": "python",
   "pygments_lexer": "ipython3",
   "version": "3.5.1+"
  }
 },
 "nbformat": 4,
 "nbformat_minor": 0
}
