{
 "cells": [
  {
   "cell_type": "code",
   "execution_count": 318,
   "metadata": {
    "collapsed": true
   },
   "outputs": [],
   "source": [
    "%matplotlib inline\n",
    "import numpy as np\n",
    "import matplotlib.pyplot as plt\n",
    "import scipy.stats as stats"
   ]
  },
  {
   "cell_type": "code",
   "execution_count": 319,
   "metadata": {
    "collapsed": false
   },
   "outputs": [],
   "source": [
    "nomes = []\n",
    "with open(\"sorteio\", \"r\") as file:\n",
    "    nomes = file.readlines()"
   ]
  },
  {
   "cell_type": "code",
   "execution_count": 320,
   "metadata": {
    "collapsed": true
   },
   "outputs": [],
   "source": [
    "qtd = len(nomes)"
   ]
  },
  {
   "cell_type": "code",
   "execution_count": 357,
   "metadata": {
    "collapsed": false
   },
   "outputs": [
    {
     "name": "stderr",
     "output_type": "stream",
     "text": [
      "/usr/local/lib/python3.5/dist-packages/ipykernel/__main__.py:2: VisibleDeprecationWarning: converting an array with ndim > 0 to an index will result in an error in the future\n",
      "  from ipykernel import kernelapp as app\n"
     ]
    },
    {
     "data": {
      "text/plain": [
       "'Mariana Picoli \\n'"
      ]
     },
     "execution_count": 357,
     "metadata": {},
     "output_type": "execute_result"
    }
   ],
   "source": [
    "\n",
    "nomes[np.random.randint(0, qtd, 1)]"
   ]
  },
  {
   "cell_type": "code",
   "execution_count": 326,
   "metadata": {
    "collapsed": false
   },
   "outputs": [
    {
     "data": {
      "text/plain": [
       "['Filipi Sanguino\\n',\n",
       " 'Caue Ferreira\\n',\n",
       " 'Caterine Souza\\n',\n",
       " 'Thandryus\\n',\n",
       " 'Jefferson Viana\\n',\n",
       " 'Priscila Mendes\\n',\n",
       " 'Ricardo Paterno\\n',\n",
       " 'Alessandro Davi\\n',\n",
       " 'Bruno Chagas\\n',\n",
       " 'Franklin Rodrigues\\n',\n",
       " 'Carlos Otobone\\n',\n",
       " 'Camila Fernandes\\n',\n",
       " 'Daniel Cantuaria\\n',\n",
       " 'Eli Romero\\n',\n",
       " 'MFernanda\\n',\n",
       " 'Leonardo Vieira Costa\\n',\n",
       " 'Edi Carlos Sousa\\n',\n",
       " 'Agatha Nogueira\\n',\n",
       " 'Amós Alexander\\n',\n",
       " 'Moisés Medeiros de Oliveira\\n',\n",
       " 'Bruno Morais Javarez\\n',\n",
       " 'Caique Araujo\\n',\n",
       " 'César Visini\\n',\n",
       " 'João Pedro Ghidini\\n',\n",
       " 'Rafael Bitencourt\\n',\n",
       " 'John Michael\\n',\n",
       " 'Ali Hijazi\\n',\n",
       " 'Nelson Oliveira Labela\\n',\n",
       " 'Yuri Cordeiro\\n',\n",
       " 'Pedro Hanuari\\n',\n",
       " 'Carlos Eduardo Magalhães\\n',\n",
       " 'Rodrigo Dias\\n',\n",
       " 'Victor Santoro\\n',\n",
       " 'Amanda Souza\\n',\n",
       " 'Eduardo Soci\\n',\n",
       " 'Edio Cerati\\n',\n",
       " 'Leonardo Aquino\\n',\n",
       " 'Daniel Truga\\n',\n",
       " 'João Lucas Gonçalves\\n',\n",
       " 'Daniel Teixeira\\n',\n",
       " 'Bruno Nascimento\\n',\n",
       " 'Mariana Picoli \\n',\n",
       " 'Matheus Muniz\\n',\n",
       " 'Bruna Bazaluk Videira\\n',\n",
       " 'Bárbara Garcia\\n',\n",
       " 'Matheus Getaruck\\n',\n",
       " 'Renan Hirayama\\n',\n",
       " 'Xavier Junior\\n',\n",
       " 'Felipe Abdalla\\n',\n",
       " 'Felipe Soeiro\\n',\n",
       " 'Cesar Augusto Bomgiovani\\n',\n",
       " 'Leonardo Reis\\n',\n",
       " 'Patricia Oliveira\\n',\n",
       " 'Lorraine Mendes\\n',\n",
       " 'Luan Lima\\n',\n",
       " 'Leonardo Alakija\\n',\n",
       " 'Geeh\\n',\n",
       " 'Ramon Ramos\\n',\n",
       " 'Vinicius Teixeira\\n',\n",
       " 'Osvaldo Amorim\\n',\n",
       " 'Mayara Cristina\\n',\n",
       " 'William de Castilho\\n',\n",
       " 'Leandro Cardoso Guedes\\n',\n",
       " 'Breno Agatão Garcia\\n',\n",
       " 'Fabio\\n',\n",
       " 'Marcos Cordeiro\\n',\n",
       " 'Vitor Cabelo\\n',\n",
       " 'Iago Fernandes\\n',\n",
       " 'Luane Khan\\n',\n",
       " 'Gustavo de Paula Peri\\n',\n",
       " 'Gabriela Camila\\n',\n",
       " 'Theo Lapido\\n',\n",
       " 'Dindara Galvão\\n']"
      ]
     },
     "execution_count": 326,
     "metadata": {},
     "output_type": "execute_result"
    }
   ],
   "source": [
    "nomes"
   ]
  },
  {
   "cell_type": "code",
   "execution_count": 327,
   "metadata": {
    "collapsed": false
   },
   "outputs": [
    {
     "name": "stderr",
     "output_type": "stream",
     "text": [
      "/usr/local/lib/python3.5/dist-packages/ipykernel/__main__.py:1: VisibleDeprecationWarning: using a non-integer number instead of an integer will result in an error in the future\n",
      "  if __name__ == '__main__':\n"
     ]
    }
   ],
   "source": [
    "dat = np.random.randint(0, qtd, size=1e7)"
   ]
  },
  {
   "cell_type": "code",
   "execution_count": 328,
   "metadata": {
    "collapsed": false
   },
   "outputs": [
    {
     "data": {
      "image/png": "[encoded data removed]",
      "text/plain": [
       "<matplotlib.figure.Figure at 0x7fbc8965d320>"
      ]
     },
     "metadata": {},
     "output_type": "display_data"
    }
   ],
   "source": [
    "plt.hist(dat, bins=72)\n",
    "plt.xlim(0, 71)\n",
    "plt.show()"
   ]
  },
  {
   "cell_type": "code",
   "execution_count": 226,
   "metadata": {
    "collapsed": false
   },
   "outputs": [
    {
     "name": "stderr",
     "output_type": "stream",
     "text": [
      "/usr/local/lib/python3.5/dist-packages/ipykernel/__main__.py:1: VisibleDeprecationWarning: converting an array with ndim > 0 to an index will result in an error in the future\n",
      "  if __name__ == '__main__':\n"
     ]
    },
    {
     "data": {
      "text/plain": [
       "'Bruna Bazaluk Videira\\n'"
      ]
     },
     "execution_count": 226,
     "metadata": {},
     "output_type": "execute_result"
    }
   ],
   "source": [
    "nomes[stats.mode(dat)[0]]"
   ]
  },
  {
   "cell_type": "code",
   "execution_count": 108,
   "metadata": {
    "collapsed": false
   },
   "outputs": [
    {
     "data": {
      "text/plain": [
       "71"
      ]
     },
     "execution_count": 108,
     "metadata": {},
     "output_type": "execute_result"
    }
   ],
   "source": [
    "winner"
   ]
  },
  {
   "cell_type": "code",
   "execution_count": null,
   "metadata": {
    "collapsed": true
   },
   "outputs": [],
   "source": []
  }
 ],
 "metadata": {
  "kernelspec": {
   "display_name": "Python 3",
   "language": "python",
   "name": "python3"
  },
  "language_info": {
   "codemirror_mode": {
    "name": "ipython",
    "version": 3
   },
   "file_extension": ".py",
   "mimetype": "text/x-python",
   "name": "python",
   "nbconvert_exporter": "python",
   "pygments_lexer": "ipython3",
   "version": "3.5.1+"
  }
 },
 "nbformat": 4,
 "nbformat_minor": 0
}
