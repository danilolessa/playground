{
 "cells": [
  {
   "cell_type": "code",
   "execution_count": null,
   "metadata": {
    "collapsed": true
   },
   "outputs": [],
   "source": [
    "%matplotlib inline\n",
    "import numpy as np\n",
    "import matplotlib.pyplot as plt"
   ]
  },
  {
   "cell_type": "code",
   "execution_count": null,
   "metadata": {
    "collapsed": false
   },
   "outputs": [],
   "source": [
    "#Termos de Fourier\n",
    "N = 100\n",
    "\n",
    "#Frequencia do sinal e de corte\n",
    "f_c = 500 #Hz\n",
    "f = 50 #Hz\n",
    "w_c = f_c * (2 * np.pi)\n",
    "w = f * (2 * np.pi)\n",
    "\n",
    "#Amplitude da tensão de entrada\n",
    "V_0 = 10 #V\n",
    "\n",
    "#Período da simulação\n",
    "T = 1 / f #s\n",
    "\n",
    "#Número de passos temporais\n",
    "n = int(1e4)\n",
    "t = np.linspace(0, T, n)"
   ]
  },
  {
   "cell_type": "code",
   "execution_count": null,
   "metadata": {
    "collapsed": false
   },
   "outputs": [],
   "source": [
    "#Fourier\n",
    "A = 4 * V_0 / np.pi\n",
    "\n",
    "V = np.zeros((n, 1))\n",
    "Vf = np.zeros((n, 1))\n",
    "\n",
    "#Tensao de entrada\n",
    "for j in range(n):\n",
    "    for i in range(N):\n",
    "        k = 1 + 2*i\n",
    "        V[j] += A * np.sin(k * w * t[j]) / k\n",
    "\n",
    "#Tensao de saida\n",
    "for i in range(N):\n",
    "    k = 1 + 2*i\n",
    "    w_i = w * k\n",
    "    \n",
    "    G_0 = 1 / np.sqrt(1 + (w_i / w_c) ** 2)\n",
    "    phi_0 = np.arctan(-w_i / w_c)\n",
    "    \n",
    "    for j in range(n):\n",
    "        Vf[j] += G_0 * A * np.sin(w_i * t[j] + phi_0) / k"
   ]
  },
  {
   "cell_type": "code",
   "execution_count": null,
   "metadata": {
    "collapsed": false
   },
   "outputs": [],
   "source": [
    "plt.plot(t, V, 'b', label='Tensão de entrada')\n",
    "plt.plot(t, Vf, 'r', label='Tensão de saida')\n",
    "plt.legend()\n",
    "desc = \"$N=%s, V_0=%s, f=%s Hz, f_c =%s Hz, T=%s s$\" % (N, V_0, f, f_c, T)\n",
    "plt.title(\"Efeito de um filtro passa baixa\\n%s\" % desc)\n",
    "plt.xlabel(\"Tempo (s)\")\n",
    "plt.ylabel(\"Tensão (V)\")\n",
    "plt.xlim(0, np.max(t))\n",
    "plt.show()"
   ]
  },
  {
   "cell_type": "code",
   "execution_count": null,
   "metadata": {
    "collapsed": true
   },
   "outputs": [],
   "source": []
  }
 ],
 "metadata": {
  "kernelspec": {
   "display_name": "Python 3",
   "language": "python",
   "name": "python3"
  },
  "language_info": {
   "codemirror_mode": {
    "name": "ipython",
    "version": 3
   },
   "file_extension": ".py",
   "mimetype": "text/x-python",
   "name": "python",
   "nbconvert_exporter": "python",
   "pygments_lexer": "ipython3",
   "version": "3.5.1+"
  }
 },
 "nbformat": 4,
 "nbformat_minor": 0
}
