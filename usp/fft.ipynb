{
 "cells": [
  {
   "cell_type": "code",
   "execution_count": 2,
   "metadata": {
    "collapsed": true
   },
   "outputs": [],
   "source": [
    "import numpy as np\n",
    "import matplotlib.pyplot as plt"
   ]
  },
  {
   "cell_type": "code",
   "execution_count": 48,
   "metadata": {
    "collapsed": false
   },
   "outputs": [],
   "source": [
    "#funções\n",
    "\n",
    "def padFFT(x):\n",
    "    x = np.array(x, dtype=np.float)\n",
    "    len_x = len(x)\n",
    "    N = 1\n",
    "    if (len_x % 2 != 0):\n",
    "        while N < len_x:\n",
    "                N *= 2\n",
    "        x_new = np.zeros((N, 1))\n",
    "        for i in range(0, len_x):\n",
    "            x_new[i] = x[i]\n",
    "        x = x_new\n",
    "    return x\n",
    "\n",
    "#transformação discreta de Fourier no modo convencional\n",
    "def DFT(x):\n",
    "    N = x.shape[0] #quantidade de elementos\n",
    "    n = np.arange(N)\n",
    "    k = n.reshape((N, 1)) #transposição de n\n",
    "    M = np.exp(-2j * np.pi * k * n / N)\n",
    "    return np.dot(M, x)\n",
    "    \n",
    "#def FFT(x):\n",
    "#fonte https://jakevdp.github.io/blog/2013/08/28/understanding-the-fft/\n",
    "def FFT(x):\n",
    "    \"\"\"A vectorized, non-recursive version of the Cooley-Tukey FFT\"\"\"\n",
    "    x = np.asarray(x, dtype=float)\n",
    "    N = x.shape[0]\n",
    "\n",
    "    if np.log2(N) % 1 > 0:\n",
    "        x = padFFT(x)\n",
    "        N = x.shape[0]\n",
    "\n",
    "    # N_min here is equivalent to the stopping condition above,\n",
    "    # and should be a power of 2\n",
    "    N_min = min(N, 32)\n",
    "    \n",
    "    # Perform an O[N^2] DFT on all length-N_min sub-problems at once\n",
    "    n = np.arange(N_min)\n",
    "    k = n[:, None]\n",
    "    M = np.exp(-2j * np.pi * n * k / N_min)\n",
    "    X = np.dot(M, x.reshape((N_min, -1)))\n",
    "\n",
    "    # build-up each level of the recursive calculation all at once\n",
    "    while X.shape[0] < N:\n",
    "        X_even = X[:, :X.shape[1] / 2]\n",
    "        X_odd = X[:, X.shape[1] / 2:]\n",
    "        factor = np.exp(-1j * np.pi * np.arange(X.shape[0])\n",
    "                        / X.shape[0])[:, None]\n",
    "        X = np.vstack([X_even + factor * X_odd,\n",
    "                       X_even - factor * X_odd])\n",
    "\n",
    "    return X.ravel()\n",
    "\n",
    "#calcular as séries de fourier\n",
    "def serieFourier(A_n, n, x):\n",
    "    len_x = len(x)\n",
    "    L = (x[len_x - 1] - x[0]) / 4\n",
    "    y = np.zeros((len_x, 1))\n",
    "    for i in range(0, len_x):\n",
    "        y[i] = np.sum(A_n * np.sin(n * x[i] * np.pi / L))\n",
    "    return [x, y]\n",
    "    \n",
    "def transfFourier(x, y, fft=1):\n",
    "    dx = x[1] - x[0]\n",
    "    len_x = len(x)\n",
    "    p = np.arange(0, len_x)\n",
    "    len_p = len(p)\n",
    "    k_p = 2 * np.pi * p / (dx * len_x)\n",
    "    Y = np.zeros((len_p, 1), dtype=np.complex_)\n",
    "    if fft == 0:\n",
    "        Y = FFT(y)\n",
    "        k_p = padFFT(k_p)\n",
    "    elif fft == 1:\n",
    "        Y = DFT(y)\n",
    "    elif fft == 2:\n",
    "        Y = np.fft.rfft(y)\n",
    "    return [k_p, Y]\n",
    "    \n",
    "    \n",
    "def plotSerieFourier(x, y):\n",
    "    plt.plot(x, y, '-+')\n",
    "    plt.xlabel('x')\n",
    "    plt.ylabel('y')\n",
    "    plt.title('Séries de Fourier')\n",
    "    plt.show()\n",
    "    \n",
    "def plotTransfFourier(k_p, Y):\n",
    "    Ysq = np.square(np.abs(Y))\n",
    "    plt.plot(k_p, Ysq, '-+')\n",
    "    plt.xlabel('$k_p$')\n",
    "    plt.ylabel('$|Y(k_p)^2|$')\n",
    "    plt.title(\"Transformada de Fourier discreta\")\n",
    "    plt.show()"
   ]
  },
  {
   "cell_type": "code",
   "execution_count": 49,
   "metadata": {
    "collapsed": false
   },
   "outputs": [],
   "source": [
    "#condições iniciais\n",
    "x0 = 0\n",
    "xf = 2.00\n",
    "dx = 0.01\n",
    "n = np.array([1])\n",
    "A_n = np.array([1.0])\n",
    "\n",
    "#---\n",
    "L = xf - x0\n",
    "x = np.arange(x0, xf+dx, dx)\n",
    "len_x = len(x)\n",
    "ser_fourier = serieFourier(A_n, n, x)\n",
    "trans_fourier = transfFourier(*ser_fourier, fft=1)"
   ]
  },
  {
   "cell_type": "code",
   "execution_count": 50,
   "metadata": {
    "collapsed": true
   },
   "outputs": [],
   "source": [
    "(x, y) = ser_fourier"
   ]
  },
  {
   "cell_type": "code",
   "execution_count": 51,
   "metadata": {
    "collapsed": false
   },
   "outputs": [],
   "source": [
    "(k_p, Y) = trans_fourier"
   ]
  },
  {
   "cell_type": "code",
   "execution_count": 52,
   "metadata": {
    "collapsed": false
   },
   "outputs": [],
   "source": [
    "plt.plot(x, y)\n",
    "plt.show()"
   ]
  },
  {
   "cell_type": "code",
   "execution_count": 53,
   "metadata": {
    "collapsed": false
   },
   "outputs": [
    {
     "name": "stderr",
     "output_type": "stream",
     "text": [
      "/usr/lib/python3/dist-packages/numpy/core/numeric.py:460: ComplexWarning: Casting complex values to real discards the imaginary part\n",
      "  return array(a, dtype, copy=False, order=order)\n"
     ]
    }
   ],
   "source": [
    "plt.plot(k_p, Y)\n",
    "plt.xlim(0, 200)\n",
    "plt.show()"
   ]
  },
  {
   "cell_type": "code",
   "execution_count": 54,
   "metadata": {
    "collapsed": false
   },
   "outputs": [
    {
     "name": "stderr",
     "output_type": "stream",
     "text": [
      "/usr/lib/python3/dist-packages/numpy/core/numeric.py:460: ComplexWarning: Casting complex values to real discards the imaginary part\n",
      "  return array(a, dtype, copy=False, order=order)\n"
     ]
    }
   ],
   "source": [
    "plt.plot(k_p, np.fft.fft(y))\n",
    "plt.xlim(0, 200)\n",
    "plt.show()"
   ]
  },
  {
   "cell_type": "code",
   "execution_count": 57,
   "metadata": {
    "collapsed": true
   },
   "outputs": [],
   "source": [
    "x = np.linspace(0, 2*np.pi, 1e2)\n",
    "y = np.sin(x)"
   ]
  },
  {
   "cell_type": "code",
   "execution_count": null,
   "metadata": {
    "collapsed": false
   },
   "outputs": [
    {
     "name": "stderr",
     "output_type": "stream",
     "text": [
      "/usr/lib/python3/dist-packages/numpy/core/numeric.py:460: ComplexWarning: Casting complex values to real discards the imaginary part\n",
      "  return array(a, dtype, copy=False, order=order)\n"
     ]
    }
   ],
   "source": [
    "plt.plot(np.fft.fft(y))\n",
    "plt.xlim(0, 200)\n",
    "plt.show()"
   ]
  },
  {
   "cell_type": "code",
   "execution_count": null,
   "metadata": {
    "collapsed": true
   },
   "outputs": [],
   "source": []
  }
 ],
 "metadata": {
  "kernelspec": {
   "display_name": "Python 3",
   "language": "python",
   "name": "python3"
  },
  "language_info": {
   "codemirror_mode": {
    "name": "ipython",
    "version": 3
   },
   "file_extension": ".py",
   "mimetype": "text/x-python",
   "name": "python",
   "nbconvert_exporter": "python",
   "pygments_lexer": "ipython3",
   "version": "3.4.3+"
  }
 },
 "nbformat": 4,
 "nbformat_minor": 0
}
