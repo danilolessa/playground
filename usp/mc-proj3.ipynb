{
 "cells": [
  {
   "cell_type": "code",
   "execution_count": 31,
   "metadata": {
    "collapsed": true
   },
   "outputs": [],
   "source": [
    "#Simulador do potencial devido a uma carga pontual em espaço vazio e entre placas paralelas\n",
    "#Autor: Danilo Lessa Bernardineli\n",
    "\n",
    "#Este programa faz a simulação do potencial eletrostático pela eq. de Poisson\n",
    "#bem como do campo elétrico através do método de relaxação de Jacobi em duas situações diferentes:\n",
    "# - Carga pontual em um espaço vazio\n",
    "# - Carga pontual entre duas placas paralelas com tensão constante\n",
    "\n",
    "#Dependências\n",
    "import matplotlib.pyplot as plt\n",
    "import numpy as np\n",
    "\n",
    "#Instruções de uso: \n",
    "#1 - Coloque True ou False no usarContorno\n",
    "#2(opcional) - Altere as condições iniciais e parâmetro a gosto\n",
    "#3 - Dê shift-enter até o final e espere sair o resultado\n",
    "\n",
    "#%matplotlib inline #descomente caso queira gráficos no proprio IPython ao invés de janelas"
   ]
  },
  {
   "cell_type": "code",
   "execution_count": 54,
   "metadata": {
    "collapsed": true
   },
   "outputs": [],
   "source": [
    "#Bloco de condições iniciais\n",
    "\n",
    "#Coloque True caso queira simular a carga pontual com a presença de placas paralelas\n",
    "#Coloque False caso queira simular a carga pontual em um espaço vazio\n",
    "usarContorno = False\n",
    "\n",
    "#Tensão nas duas placas\n",
    "Vp = 1\n",
    "Vn = -1\n",
    "\n",
    "#Carga pontual\n",
    "q = 2"
   ]
  },
  {
   "cell_type": "code",
   "execution_count": 55,
   "metadata": {
    "collapsed": true
   },
   "outputs": [],
   "source": [
    "#Bloco de parâmetros de simulação\n",
    "\n",
    "#Número de iterações pelo relaxamento de Jacobi\n",
    "Ns = 300\n",
    "\n",
    "#Tamanho da matriz de simulação: N=10*m. Altere somente o m pois ele é utilizado\n",
    "#para manter a proporção de distância entre as placas bem como a carga\n",
    "m = 5\n",
    "N = 10 * m\n",
    "n = N-1\n",
    "\n",
    "#localização da carga\n",
    "ind_q = (5*m, 1*m)\n",
    "\n",
    "#Eixos x e y\n",
    "x = np.arange(0, N)\n",
    "y = np.arange(0, N)\n",
    "\n",
    "#Condições de contorno\n",
    "Vc = np.zeros((N, N))\n",
    "Vc_inds = []\n",
    "#Condições de contorno no caso das placas\n",
    "if usarContorno:\n",
    "    for i in range(2*m, N-2*m):\n",
    "        Vc[3*m, i] = Vp\n",
    "        Vc[7*m, i] = Vn\n",
    "        Vc_inds.append((3*m, i))\n",
    "        Vc_inds.append((7*m, i))"
   ]
  },
  {
   "cell_type": "code",
   "execution_count": 56,
   "metadata": {
    "collapsed": false
   },
   "outputs": [],
   "source": [
    "#cálculo do potencial eletrostático através do método de relaxamento de Jacobi\n",
    "#Inicialização da matriz de resultados\n",
    "V = np.zeros((N, N, Ns))\n",
    "V[:,:,0] = Vc\n",
    "\n",
    "#Lista contendo a convergência para cada iteração\n",
    "conv_l = np.zeros((Ns, 1))\n",
    "\n",
    "for n in range(1, Ns):\n",
    "    conv = 0\n",
    "    \n",
    "    for i in range(1, N-1):\n",
    "        for j in range(1, N-1):\n",
    "            \n",
    "            if  (i,j) in Vc_inds: #Caso caia na condição de contorno\n",
    "                V[i, j, n] = Vc[i, j]    \n",
    "                \n",
    "            elif (i, j) == ind_q: #Caso caia na localização da carga pontual\n",
    "                V[i, j, n] = (V[i+1,j, n-1]+V[i-1,j, n-1]+V[i,j+1, n-1]+V[i,j-1, n-1] + q)/4 \n",
    "                \n",
    "            else: #Espaço livre\n",
    "                V[i, j, n] = (V[i+1,j,n-1] + V[i-1,j,n-1] + V[i,j+1, n-1] + V[i,j-1,n-1])/4\n",
    "                \n",
    "            #Calcular o termo de convergência\n",
    "            conv += np.abs(V[i, j, n] - V[i, j, n-1])\n",
    "            \n",
    "    conv_l[n] = conv"
   ]
  },
  {
   "cell_type": "code",
   "execution_count": 57,
   "metadata": {
    "collapsed": false
   },
   "outputs": [],
   "source": [
    "#Obtenção do campo elétrico\n",
    "Ex = np.zeros((N, N))\n",
    "Ey = np.zeros((N, N))\n",
    "\n",
    "n = N-1\n",
    "for i in range(1, N-1):\n",
    "    #Campo elétrico nos limites da matriz de simulação\n",
    "    Ex[0, i] = -(V[1, i,Ns-1] - V[0, i,Ns-1]) / 2\n",
    "    Ex[n, i] = -(V[n, i,Ns-1] - V[n-1, i,Ns-1]) / 2\n",
    "    Ey[i, 0] = (V[i, 1,Ns-1] - V[i, 0,Ns-1]) / 2\n",
    "    Ey[i, n] = (V[i, n,Ns-1] - V[i, n-1,Ns-1]) / 2\n",
    "    \n",
    "    for j in range(1, n):\n",
    "        if (i,j) in Vc_inds: #Não há campo elétrico em um condutor\n",
    "            continue\n",
    "        #Campo elétrico no resto do espaço\n",
    "        Ex[i,j] = -(V[i-1,j,Ns-1]-V[i+1,j,Ns-1]) / 2\n",
    "        Ey[i,j] = (V[i,j-1,Ns-1]-V[i,j+1,Ns-1]) / 2"
   ]
  },
  {
   "cell_type": "code",
   "execution_count": 58,
   "metadata": {
    "collapsed": false
   },
   "outputs": [],
   "source": [
    "#Graficar potencial eletrostático e campo elétrico\n",
    "plt.matshow(V[:,:,Ns-1])\n",
    "cb = plt.colorbar()\n",
    "cb.set_label(\"Potencial eletrostático\")\n",
    "plt.quiver(y,x,Ey,Ex, units='xy')\n",
    "plt.title(\"Potencial eletrostático e campo elétrico\")\n",
    "plt.show()"
   ]
  },
  {
   "cell_type": "code",
   "execution_count": 60,
   "metadata": {
    "collapsed": false
   },
   "outputs": [],
   "source": [
    "#Graficar convergência por iteração\n",
    "plt.plot(np.arange(0, Ns), conv_l, '+-')\n",
    "plt.xlabel(\"Número de iterações\")\n",
    "plt.ylabel(\"Convergência\")\n",
    "plt.title(\"Convergência em cada termo\")\n",
    "plt.show()"
   ]
  },
  {
   "cell_type": "code",
   "execution_count": 61,
   "metadata": {
    "collapsed": false
   },
   "outputs": [
    {
     "data": {
      "text/plain": [
       "8e-05"
      ]
     },
     "execution_count": 61,
     "metadata": {},
     "output_type": "execute_result"
    }
   ],
   "source": [
    "0.2 / (50 * 50)"
   ]
  },
  {
   "cell_type": "code",
   "execution_count": null,
   "metadata": {
    "collapsed": true
   },
   "outputs": [],
   "source": []
  }
 ],
 "metadata": {
  "kernelspec": {
   "display_name": "Python 3",
   "language": "python",
   "name": "python3"
  },
  "language_info": {
   "codemirror_mode": {
    "name": "ipython",
    "version": 3
   },
   "file_extension": ".py",
   "mimetype": "text/x-python",
   "name": "python",
   "nbconvert_exporter": "python",
   "pygments_lexer": "ipython3",
   "version": "3.5.1+"
  }
 },
 "nbformat": 4,
 "nbformat_minor": 0
}
