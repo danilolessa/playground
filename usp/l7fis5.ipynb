{
 "cells": [
  {
   "cell_type": "code",
   "execution_count": 50,
   "metadata": {
    "collapsed": true
   },
   "outputs": [],
   "source": [
    "%matplotlib inline\n",
    "import numpy as np\n",
    "import matplotlib.pyplot as plt"
   ]
  },
  {
   "cell_type": "code",
   "execution_count": 51,
   "metadata": {
    "collapsed": true
   },
   "outputs": [],
   "source": [
    "m_e = 9.10938356e-31\n",
    "eV = 1.60217662e-19\n",
    "h = 1.0545718001e-34"
   ]
  },
  {
   "cell_type": "code",
   "execution_count": 55,
   "metadata": {
    "collapsed": false
   },
   "outputs": [
    {
     "data": {
      "image/png": "[encoded data removed]",
      "text/plain": [
       "<matplotlib.figure.Figure at 0x7f4b85cb0f28>"
      ]
     },
     "metadata": {},
     "output_type": "display_data"
    }
   ],
   "source": [
    "#### 6 #####\n",
    "L = 10e-10\n",
    "E =  np.linspace(0+1e-15, 4, 1e6) * eV\n",
    "U = 4 * eV\n",
    "a = np.sqrt(2 * m_e * (U - E)) / h\n",
    "b = np.sqrt(2 * m_e * E) / h\n",
    "bla = ((2 * a * b) / (a ** 2 + b ** 2) * np.sinh(a * L)) ** 2\n",
    "\n",
    "R = 1 / (bla + 1)\n",
    "T = 1 - R\n",
    "plt.plot(E / eV , R, ',-')\n",
    "plt.show()"
   ]
  },
  {
   "cell_type": "code",
   "execution_count": 54,
   "metadata": {
    "collapsed": false
   },
   "outputs": [
    {
     "data": {
      "text/plain": [
       "array([  9.99999801e-01,   1.25778035e-03,   6.29293001e-04,\n",
       "         4.19621405e-04,   3.14752611e-04,   2.51820773e-04,\n",
       "         2.09861811e-04,   1.79888968e-04,   1.57408157e-04,\n",
       "         1.39922382e-04])"
      ]
     },
     "execution_count": 54,
     "metadata": {},
     "output_type": "execute_result"
    }
   ],
   "source": [
    "R[:10]"
   ]
  },
  {
   "cell_type": "code",
   "execution_count": null,
   "metadata": {
    "collapsed": true
   },
   "outputs": [],
   "source": []
  }
 ],
 "metadata": {
  "kernelspec": {
   "display_name": "Python 3",
   "language": "python",
   "name": "python3"
  },
  "language_info": {
   "codemirror_mode": {
    "name": "ipython",
    "version": 3
   },
   "file_extension": ".py",
   "mimetype": "text/x-python",
   "name": "python",
   "nbconvert_exporter": "python",
   "pygments_lexer": "ipython3",
   "version": "3.5.1+"
  }
 },
 "nbformat": 4,
 "nbformat_minor": 0
}
