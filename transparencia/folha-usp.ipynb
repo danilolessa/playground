{
 "cells": [
  {
   "cell_type": "code",
   "execution_count": 22,
   "metadata": {
    "collapsed": false
   },
   "outputs": [],
   "source": [
    "%matplotlib inline\n",
    "import pandas as pd\n",
    "import numpy as np\n",
    "import matplotlib.pyplot as plt\n",
    "import scipy.stats as stats\n",
    "from pandas.tools.plotting import table\n",
    "\n",
    "headers=[\"nome\", \"unidade\", \"depto\", \"jornada\", \"categoria\",\n",
    "         \"classe\", \"ref\", \"func\", \"func_estr\", \"tempo\", \"parcelas\",\n",
    "         \"salario\", \"salario_liq\"]"
   ]
  },
  {
   "cell_type": "code",
   "execution_count": 23,
   "metadata": {
    "collapsed": false
   },
   "outputs": [],
   "source": [
    "raw = pd.read_csv(\"USP.txt\", delimiter=';', index_col=False, names=headers, header=0)"
   ]
  },
  {
   "cell_type": "code",
   "execution_count": 24,
   "metadata": {
    "collapsed": false
   },
   "outputs": [
    {
     "data": {
      "text/plain": [
       "array(['Celetista', 'Compl Apos', 'Doc Apos', 'Docente', 'Func Apos',\n",
       "       'Func Aut'], dtype=object)"
      ]
     },
     "execution_count": 24,
     "metadata": {},
     "output_type": "execute_result"
    }
   ],
   "source": [
    "np.unique(raw.categoria)"
   ]
  },
  {
   "cell_type": "raw",
   "metadata": {},
   "source": [
    "np.median("
   ]
  },
  {
   "cell_type": "code",
   "execution_count": 38,
   "metadata": {
    "collapsed": false
   },
   "outputs": [],
   "source": [
    "dat = raw[(raw.categoria == \"Celetista\")]"
   ]
  },
  {
   "cell_type": "code",
   "execution_count": 39,
   "metadata": {
    "collapsed": false
   },
   "outputs": [
    {
     "data": {
      "text/plain": [
       "6898.0100000000002"
      ]
     },
     "execution_count": 39,
     "metadata": {},
     "output_type": "execute_result"
    }
   ],
   "source": [
    "np.median(dat.salario)"
   ]
  },
  {
   "cell_type": "code",
   "execution_count": 27,
   "metadata": {
    "collapsed": false
   },
   "outputs": [
    {
     "data": {
      "text/plain": [
       "51"
      ]
     },
     "execution_count": 27,
     "metadata": {},
     "output_type": "execute_result"
    }
   ],
   "source": [
    "np.max(dat.tempo)"
   ]
  },
  {
   "cell_type": "code",
   "execution_count": 28,
   "metadata": {
    "collapsed": false
   },
   "outputs": [
    {
     "data": {
      "image/png": "[encoded data removed]",
      "text/plain": [
       "<matplotlib.figure.Figure at 0x7f26fd1e7cc0>"
      ]
     },
     "metadata": {},
     "output_type": "display_data"
    }
   ],
   "source": [
    "plt.hist2d(dat.tempo, dat.salario, bins=30)\n",
    "plt.xlabel(\"Anos de serviço\")\n",
    "plt.ylabel(\"Salário bruto mensal\")\n",
    "plt.colorbar()\n",
    "plt.show()"
   ]
  },
  {
   "cell_type": "code",
   "execution_count": 29,
   "metadata": {
    "collapsed": false
   },
   "outputs": [],
   "source": [
    "funcoes = np.unique(dat.func)\n",
    "resul = []\n",
    "resul_med = []\n",
    "resul_sum = []\n",
    "i = 0\n",
    "for funcao in funcoes:\n",
    "    resul.append([i, funcao, len(dat[dat.func == funcao])])\n",
    "    resul_med.append([funcao, len(dat[dat.func == funcao]), np.median(dat[dat.func == funcao].salario)])\n",
    "    resul_sum.append([i, funcao, np.sum(dat[dat.func == funcao].salario)])\n",
    "    i += 1\n",
    "resul = np.array(resul)\n",
    "resul_med = np.array(resul_med)\n",
    "resul_sum = np.array(resul_sum)"
   ]
  },
  {
   "cell_type": "code",
   "execution_count": 30,
   "metadata": {
    "collapsed": false
   },
   "outputs": [
    {
     "data": {
      "text/plain": [
       "array([['Abatedor', '4', '4145.305'],\n",
       "       ['Administrador', '10', '17202.615'],\n",
       "       ['Advogado', '3', '2523.48'],\n",
       "       ['Agente de Inovação', '5', '11926.86'],\n",
       "       ['Agente de Relacoes Internacionais', '13', '3893.59'],\n",
       "       ['Agente de Vigilância', '278', '8031.035'],\n",
       "       ['Almoxarife', '41', '8553.73'],\n",
       "       ['Analista Acadêmico', '40', '17591.01'],\n",
       "       ['Analista Assuntos Administrativos', '181', '13345.27'],\n",
       "       ['Analista Contábil Financeiro', '46', '15812.13'],\n",
       "       ['Analista de Comunicação', '73', '12491.41'],\n",
       "       ['Analista de O&M', '1', '2523.48'],\n",
       "       ['Analista de Recursos Humanos', '9', '16884.98'],\n",
       "       ['Analista de Sistemas', '309', '12810.53'],\n",
       "       ['Armador', '2', '7404.22'],\n",
       "       ['Arquiteto', '29', '10148.1'],\n",
       "       ['Arte Finalista', '27', '7898.74'],\n",
       "       ['Ascensorista', '3', '4382.03'],\n",
       "       ['Assessor', '7', '2523.48'],\n",
       "       ['Assistente Administrativo', '26', '2208.04'],\n",
       "       ['Assistente Administrativo Especializado', '5', '2523.48'],\n",
       "       ['Assistente Social', '65', '12607.33'],\n",
       "       ['Assistente Técnico', '23', '2208.04'],\n",
       "       ['Assistente Técnico Especializado', '12', '2523.48'],\n",
       "       ['Atendente de Classe', '4', '4260.16'],\n",
       "       ['Atendente de Enfermagem', '2', '4712.565'],\n",
       "       ['Ator', '1', '4073.07'],\n",
       "       ['Auditor', '3', '18154.46'],\n",
       "       ['Aux Documentação e Informação', '93', '4504.22'],\n",
       "       ['Aux de Inspecao de Carne e Laticinio', '1', '5744.95'],\n",
       "       ['Auxiliar Academico', '92', '4634.95'],\n",
       "       ['Auxiliar Administrativo', '33', '2208.04'],\n",
       "       ['Auxiliar Agropecuario', '117', '4086.04'],\n",
       "       ['Auxiliar Contábil e Financeiro', '23', '4785.98'],\n",
       "       ['Auxiliar Gráfico', '39', '4537.97'],\n",
       "       ['Auxiliar de Administração', '793', '3562.28'],\n",
       "       ['Auxiliar de Apoio Educativo', '6', '3234.255'],\n",
       "       ['Auxiliar de Biotério', '24', '4540.46'],\n",
       "       ['Auxiliar de Caixa', '12', '5065.365'],\n",
       "       ['Auxiliar de Comunicação', '12', '4224.35'],\n",
       "       ['Auxiliar de Consultório Dentário', '47', '6925.45'],\n",
       "       ['Auxiliar de Cozinha', '224', '3395.46'],\n",
       "       ['Auxiliar de Enfermagem', '88', '7064.465'],\n",
       "       ['Auxiliar de Esporte', '6', '3873.165'],\n",
       "       ['Auxiliar de Laboratorio', '321', '4067.52'],\n",
       "       ['Auxiliar de Laboratório', '4', '2208.04'],\n",
       "       ['Auxiliar de Lavanderia', '11', '4179.74'],\n",
       "       ['Auxiliar de Manutenção', '16', '946.3'],\n",
       "       ['Auxiliar de Manutenção/obras', '278', '3334.225'],\n",
       "       ['Auxiliar de Materiais', '79', '5568.95'],\n",
       "       ['Auxiliar de Museu', '7', '6079.09'],\n",
       "       ['Auxiliar de Necropsia', '10', '5936.78'],\n",
       "       ['Auxiliar de Recursos Humanos', '8', '6817.255'],\n",
       "       ['Auxiliar de Saude', '3', '5204.85'],\n",
       "       ['Auxiliar de Serviços Gerais', '519', '3556.26'],\n",
       "       ['Auxiliar de Topografo Agrimensor', '5', '5568.95'],\n",
       "       ['Biblioteconomista', '4', '2523.48'],\n",
       "       ['Bibliotecário', '277', '14087.36'],\n",
       "       ['Biologista', '2', '2523.48'],\n",
       "       ['Bioquímico', '1', '2523.48'],\n",
       "       ['Biólogo', '62', '14770.57'],\n",
       "       ['Carpinteiro', '5', '4400.35'],\n",
       "       ['Cenotecnico', '6', '5640.14'],\n",
       "       ['Cirurgião Dentista', '96', '11945.235'],\n",
       "       ['Concertino (s)', '1', '11066.21'],\n",
       "       ['Contador', '100', '12346.835'],\n",
       "       ['Contínuo', '11', '3861.26'],\n",
       "       ['Copeiro', '3', '3788.75'],\n",
       "       ['Copista e Arquivista Musical', '2', '9777.7'],\n",
       "       ['Costureiro', '3', '3175.44'],\n",
       "       ['Cozinheiro', '145', '3261.05'],\n",
       "       ['Desenhista', '38', '8876.06'],\n",
       "       ['Desenhista Copista', '3', '6686.88'],\n",
       "       ['Desenhista Projetista', '4', '2515.745'],\n",
       "       ['Diagramador', '5', '7030.67'],\n",
       "       ['Digitador', '1', '5791.71'],\n",
       "       ['Editor', '1', '12665.53'],\n",
       "       ['Educador', '99', '9143.77'],\n",
       "       ['Educador Em Praticas Desportivas', '46', '14790.28'],\n",
       "       ['Eletricista', '73', '5643.94'],\n",
       "       ['Encanador', '26', '5920.95'],\n",
       "       ['Encanador Industrial', '1', '946.3'],\n",
       "       ['Enfermeiro', '241', '11144.75'],\n",
       "       ['Enfermeiro do Trabalho', '1', '16919.31'],\n",
       "       ['Engenheiro', '145', '13953.05'],\n",
       "       ['Engenheiro de Seguranca do Trabalho', '4', '9514.385'],\n",
       "       ['Espec Cooperação Extensão Universit', '13', '9814.66'],\n",
       "       ['Especialista', '2', '2523.48'],\n",
       "       ['Especialista Conservacao e Restauro', '8', '10487.22'],\n",
       "       ['Especialista em Biotério', '9', '17308.38'],\n",
       "       ['Especialista em Compras', '1', '14457.37'],\n",
       "       ['Especialista em Document Museologica', '4', '11153.69'],\n",
       "       ['Especialista em Laboratório', '712', '10350.81'],\n",
       "       ['Especialista em Pesq Apoio de Museu', '31', '8904.15'],\n",
       "       ['Especialista em Projetos Exposição', '6', '14682.565'],\n",
       "       ['Especialista em Proteção Radiológica', '5', '16152.41'],\n",
       "       ['Estatistico Matematico', '5', '16245.24'],\n",
       "       ['Farmacêutico', '85', '13953.05'],\n",
       "       ['Fisioterapeuta', '46', '9224.425'],\n",
       "       ['Fonoaudiólogo', '74', '8331.11'],\n",
       "       ['Fotógrafo', '24', '7487.9'],\n",
       "       ['Fotógrafo Especialista', '1', '13723.43'],\n",
       "       ['Funileiro', '1', '7959.41'],\n",
       "       ['Físico', '32', '12667.94'],\n",
       "       ['Garcom', '16', '5105.66'],\n",
       "       ['Geólogo', '1', '10808.56'],\n",
       "       ['Inspetor de Carne e Laticinio', '2', '10309.54'],\n",
       "       ['Inspetor de Orquestra', '2', '4688.1'],\n",
       "       ['Instrumentista de Fila (s)', '18', '11360.445'],\n",
       "       ['Instrumentista de Fila (t)', '5', '7898.74'],\n",
       "       ['Instrutor de Línguas', '1', '7898.74'],\n",
       "       ['Jardineiro', '63', '4576.35'],\n",
       "       ['Jornalista', '54', '12051.015'],\n",
       "       ['Lactarista', '11', '3642.79'],\n",
       "       ['Locutor', '1', '5303.13'],\n",
       "       ['Locutor/operador', '5', '6695.08'],\n",
       "       ['Marceneiro', '50', '5744.95'],\n",
       "       ['Mecânico', '15', '5920.95'],\n",
       "       ['Mecânico Manutenção', '3', '946.3'],\n",
       "       ['Meio Oficial Pedreiro', '5', '4285.94'],\n",
       "       ['Mestre de Embarcacao', '1', '8406.23'],\n",
       "       ['Montador de Orquestra', '2', '1755.71'],\n",
       "       ['Motorista', '366', '3727.74'],\n",
       "       ['Motorista Maritimo', '2', '5269.87'],\n",
       "       ['Médico', '415', '15216.07'],\n",
       "       ['Médico Veterinário', '34', '12044.635'],\n",
       "       ['Médico do Trabalho', '14', '8135.12'],\n",
       "       ['Nutricionista', '44', '12500.88'],\n",
       "       ['Oficial Ar Condicionado Refrigeração', '1', '7117.44'],\n",
       "       ['Operador de Audiovisual', '45', '7030.67'],\n",
       "       ['Operador de Caldeira', '14', '4872.53'],\n",
       "       ['Operador de Computador', '7', '2823.45'],\n",
       "       ['Operador de Máquinas', '65', '4346.58'],\n",
       "       ['Operador de Som', '6', '7015.04'],\n",
       "       ['Operador de Telemonitoramento', '4', '6799.69'],\n",
       "       ['Orient de Estrut Musical Tec Vocal', '9', '12728.55'],\n",
       "       ['Orientador de Arte Dramatica', '17', '10238.1'],\n",
       "       ['PROFEI', '8', '11641.785'],\n",
       "       ['PROFEM', '48', '9580.185'],\n",
       "       ['Pedreiro', '77', '4665.45'],\n",
       "       ['Pescador', '2', '5512.95'],\n",
       "       ['Pianista Cravista (s)', '1', '7539.7'],\n",
       "       ['Pintor', '41', '5920.95'],\n",
       "       ['Procurador', '45', '18071.7'],\n",
       "       ['Produtor de Comunicacao Visual', '4', '12441.15'],\n",
       "       ['Produtor de Radio', '2', '14391.91'],\n",
       "       ['Professor', '18', '2523.48'],\n",
       "       ['Professor Cálculo Numérico', '1', '2523.48'],\n",
       "       ['Professor Dr. Química', '3', '2523.48'],\n",
       "       ['Professor Educ. Artística', '1', '757.04'],\n",
       "       ['Professor Geografia', '1', '757.04'],\n",
       "       ['Professor de História', '1', '757.04'],\n",
       "       ['Professor de Português', '1', '1514.09'],\n",
       "       ['Professor de Química', '1', '2523.48'],\n",
       "       ['Programador Computador', '2', '2208.04'],\n",
       "       ['Programador Musical', '2', '8005.545'],\n",
       "       ['Psicólogo', '65', '10700.92'],\n",
       "       ['Publicitario', '3', '15094.08'],\n",
       "       ['Químico', '50', '13127.375'],\n",
       "       ['Recepcionista', '95', '3904.2'],\n",
       "       ['Regente Assistente', '5', '14033.24'],\n",
       "       ['Regente Titular e Diretor Artistico', '4', '14958.26'],\n",
       "       ['Relacoes Publicas', '1', '13268.65'],\n",
       "       ['Revisor', '4', '10253.1'],\n",
       "       ['Salva Vidas', '18', '2773.37'],\n",
       "       ['Secretario Executivo', '2', '13234.25'],\n",
       "       ['Secretária', '3', '2208.04'],\n",
       "       ['Secretária Executiva', '4', '2208.04'],\n",
       "       ['Secretário', '781', '7768.52'],\n",
       "       ['Segundo Solista (s)', '5', '10585.07'],\n",
       "       ['Segundo Solista (t)', '7', '7898.74'],\n",
       "       ['Serralheiro', '9', '4975.91'],\n",
       "       ['Servente', '1', '946.3'],\n",
       "       ['Soldador', '2', '946.3'],\n",
       "       ['Sonoplasta Iluminador', '7', '8628.49'],\n",
       "       ['Supervisor de Vigilancia', '1', '8844.36'],\n",
       "       ['Tec Assuntos Administrativos', '1684', '5303.13'],\n",
       "       ['Tec em Equip Hospitalar Clínico', '2', '7421.435'],\n",
       "       ['Tecnico Agricola', '14', '5731.34'],\n",
       "       ['Tecnico Em Higiene Dental', '5', '10701.99'],\n",
       "       ['Tecnico Em Vidraria', '4', '6020.24'],\n",
       "       ['Tecnico Juridico', '4', '8375.205'],\n",
       "       ['Tecnico de Documentação e Informação', '183', '7293.15'],\n",
       "       ['Tecnico de Museu', '24', '6789.19'],\n",
       "       ['Tecnico de Rede de Computador', '28', '8756.42'],\n",
       "       ['Tecnico de Telecomunicacoes', '18', '8476.98'],\n",
       "       ['Tecnólogo', '10', '14905.61'],\n",
       "       ['Telefonista', '8', '4437.37'],\n",
       "       ['Terapeuta Ocupacional', '18', '8904.15'],\n",
       "       ['Topografo Agrimensor', '2', '10259.26'],\n",
       "       ['Torneiro', '3', '2208.04'],\n",
       "       ['Tratador de Agua', '7', '4170.58'],\n",
       "       ['Técnico Acadêmico', '421', '8121.63'],\n",
       "       ['Técnico Assuntos Financeiros', '115', '8121.63'],\n",
       "       ['Técnico Contábil e Financeiro', '94', '8270.185'],\n",
       "       ['Técnico de Apoio Educativo', '148', '5249.55'],\n",
       "       ['Técnico de Biotério', '20', '6613.43'],\n",
       "       ['Técnico de Comunicação', '24', '8197.905'],\n",
       "       ['Técnico de Enfermagem', '439', '5817.57'],\n",
       "       ['Técnico de Enfermagem do Trabalho', '7', '4991.99'],\n",
       "       ['Técnico de Gráfica', '61', '7873.76'],\n",
       "       ['Técnico de Laboratório', '1150', '6990.49'],\n",
       "       ['Técnico de Manutenção', '2', '8430.755'],\n",
       "       ['Técnico de Manutenção Eletrônica', '53', '9092.39'],\n",
       "       ['Técnico de Manutenção/obras', '270', '7605.9'],\n",
       "       ['Técnico de Necropsia', '15', '6715.76'],\n",
       "       ['Técnico de Obras', '5', '8693.96'],\n",
       "       ['Técnico de Recursos Humanos', '138', '9018.635'],\n",
       "       ['Técnico de Segurança do Trabalho', '28', '6875.465'],\n",
       "       ['Técnico em Compras', '89', '8453.78'],\n",
       "       ['Técnico em Informática', '337', '5549.8'],\n",
       "       ['Técnico em Mecatronica', '1', '6990.49'],\n",
       "       ['Técnico em Mecânica', '40', '7226.255'],\n",
       "       ['Técnico em Nutrição e Dietética', '28', '6538.22'],\n",
       "       ['Técnico em Prótese Dentária', '13', '6808.71'],\n",
       "       ['Técnico em Radiologia', '55', '7589.68'],\n",
       "       ['Vendedor', '13', '8236.92'],\n",
       "       ['Vidraceiro', '3', '5744.95'],\n",
       "       ['Vigia', '419', '4951.69'],\n",
       "       ['Violino Spalla (s)', '3', '16245.24'],\n",
       "       ['Visitador Sanitario', '10', '7996.915'],\n",
       "       ['Webdesigner', '2', '11044.22'],\n",
       "       ['Zelador', '30', '4436.46'],\n",
       "       ['Zootecnista', '2', '15079.515']], \n",
       "      dtype='<U39')"
      ]
     },
     "execution_count": 30,
     "metadata": {},
     "output_type": "execute_result"
    }
   ],
   "source": [
    "resul_med"
   ]
  },
  {
   "cell_type": "code",
   "execution_count": 31,
   "metadata": {
    "collapsed": false
   },
   "outputs": [
    {
     "ename": "IndexError",
     "evalue": "index 3 is out of bounds for axis 1 with size 3",
     "output_type": "error",
     "traceback": [
      "\u001b[1;31m---------------------------------------------------------------------------\u001b[0m",
      "\u001b[1;31mIndexError\u001b[0m                                Traceback (most recent call last)",
      "\u001b[1;32m<ipython-input-31-b0dd44b523b8>\u001b[0m in \u001b[0;36m<module>\u001b[1;34m()\u001b[0m\n\u001b[1;32m----> 1\u001b[1;33m \u001b[0mnp\u001b[0m\u001b[1;33m.\u001b[0m\u001b[0margmin\u001b[0m\u001b[1;33m(\u001b[0m\u001b[0mresul_med\u001b[0m\u001b[1;33m[\u001b[0m\u001b[1;33m:\u001b[0m\u001b[1;33m,\u001b[0m\u001b[1;36m3\u001b[0m\u001b[1;33m]\u001b[0m\u001b[1;33m)\u001b[0m\u001b[1;33m\u001b[0m\u001b[0m\n\u001b[0m",
      "\u001b[1;31mIndexError\u001b[0m: index 3 is out of bounds for axis 1 with size 3"
     ]
    }
   ],
   "source": [
    "np.argmin(resul_med[:,3])"
   ]
  },
  {
   "cell_type": "code",
   "execution_count": null,
   "metadata": {
    "collapsed": false
   },
   "outputs": [],
   "source": [
    "float(resul_sum[70][2]) + float(resul_sum[41][2]) + float(resul_sum[127][2])"
   ]
  },
  {
   "cell_type": "code",
   "execution_count": null,
   "metadata": {
    "collapsed": false
   },
   "outputs": [],
   "source": [
    "resul_m"
   ]
  },
  {
   "cell_type": "code",
   "execution_count": null,
   "metadata": {
    "collapsed": true
   },
   "outputs": [],
   "source": [
    "ndat = dat[dat.depto == \"Gabinete do Reitor\"]"
   ]
  },
  {
   "cell_type": "code",
   "execution_count": null,
   "metadata": {
    "collapsed": false
   },
   "outputs": [],
   "source": [
    "plt.hist(list(ndat.salario), bins=25)\n",
    "plt.xlim(0, 10000)"
   ]
  },
  {
   "cell_type": "code",
   "execution_count": null,
   "metadata": {
    "collapsed": false
   },
   "outputs": [],
   "source": [
    "np.median(ndat.salario)"
   ]
  },
  {
   "cell_type": "code",
   "execution_count": 37,
   "metadata": {
    "collapsed": false
   },
   "outputs": [],
   "source": [
    "ndat.to_csv(\"reitor.csv\")"
   ]
  },
  {
   "cell_type": "code",
   "execution_count": null,
   "metadata": {
    "collapsed": true
   },
   "outputs": [],
   "source": []
  }
 ],
 "metadata": {
  "kernelspec": {
   "display_name": "Python 3",
   "language": "python",
   "name": "python3"
  },
  "language_info": {
   "codemirror_mode": {
    "name": "ipython",
    "version": 3
   },
   "file_extension": ".py",
   "mimetype": "text/x-python",
   "name": "python",
   "nbconvert_exporter": "python",
   "pygments_lexer": "ipython3",
   "version": "3.5.1+"
  }
 },
 "nbformat": 4,
 "nbformat_minor": 0
}
