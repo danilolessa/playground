{
 "cells": [
  {
   "cell_type": "code",
   "execution_count": 1,
   "metadata": {
    "collapsed": true
   },
   "outputs": [],
   "source": [
    "import numpy as np\n",
    "import pandas as pd"
   ]
  },
  {
   "cell_type": "code",
   "execution_count": 35,
   "metadata": {
    "collapsed": false
   },
   "outputs": [],
   "source": [
    "raw = pd.read_csv(\"Orcamento_2015.csv\", delimiter=\";\", skiprows=1, thousands='.', decimal=',', names=[\"recipiente\", \"acao\", \"item\", \"empenhado\", \"liquidado\"])"
   ]
  },
  {
   "cell_type": "code",
   "execution_count": 40,
   "metadata": {
    "collapsed": false
   },
   "outputs": [
    {
     "data": {
      "text/plain": [
       "46801400.320000008"
      ]
     },
     "execution_count": 40,
     "metadata": {},
     "output_type": "execute_result"
    }
   ],
   "source": [
    "np.sum(raw.empenhado)"
   ]
  },
  {
   "cell_type": "code",
   "execution_count": 42,
   "metadata": {
    "collapsed": false
   },
   "outputs": [
    {
     "data": {
      "text/plain": [
       "array(['33903010 - Gêneros Alimentícios',\n",
       "       '33903013 - Material e Utensílios para Refeitório, Copa e Cozi',\n",
       "       '33903014 - Material de Limpeza',\n",
       "       '33903015 - Artigos de Higiene Pessoal',\n",
       "       '33903016 - Material de Acondicionamento e Embalagem',\n",
       "       '33903022 - Diesel Automotivo',\n",
       "       '33903024 - Outros Combustíveis e Lubrificantes',\n",
       "       '33903031 - Material Médico, Hospitalar e Odontológico',\n",
       "       '33903032 - Material de Uso Laboratorial',\n",
       "       '33903040 - Material Educativo e Cultural',\n",
       "       '33903041 - Material de Escritório, Papelaria e Impressos',\n",
       "       '33903050 - Peças de Reposição e Acessórios',\n",
       "       '33903052 - Material para Conservação e Manutenção de Imóveis',\n",
       "       '33903054 - Material para Instalação Elétrica e Eletrônica',\n",
       "       '33903060 - Suprimentos de Informática',\n",
       "       '33903061 - Peças, Acessórios e Componentes de Informática',\n",
       "       '33903063 - Fardamento, Vestuário, Uniforme, Tecido e Aviament',\n",
       "       '33903066 - Material de Proteção, Segurança, Socorro e Sobrevi',\n",
       "       '33903090 - Outros Materiais de Consumo',\n",
       "       '33903343 - Locação de Veículos, Aeronaves e Outros',\n",
       "       '33903796 - Serviços de Limpeza',\n",
       "       '33903912 - Serviços, Programas e Aplicativos de Informática',\n",
       "       '33903914 - Exames Laboratoriais',\n",
       "       '33903919 - Locação de Máquinas e Equipamentos Diversos',\n",
       "       '33903936 - Dedetização, Desinsetização e Desratização',\n",
       "       '33903945 - Outros Seguros',\n",
       "       '33903973 - Fornecimento de Alimentação Preparada - Outros',\n",
       "       '33903979 - Conservação e Manutenção de Imóveis',\n",
       "       '33903980 - Conservação e Manutenção de Bens Móveis e Equipame',\n",
       "       '33903981 - Reformas de Imóveis', '33903983 - Serviços Gráficos',\n",
       "       '33903992 - Despesas Miúdas e de Pronto Pagamento',\n",
       "       '33903999 - Outros Serviços de Terceiros',\n",
       "       '33909213 - Gêneros Alimentícios', '44905112 - Instalações',\n",
       "       '44905130 - Execução de Obras e Instalações',\n",
       "       '44905220 - Equipamentos para Informática',\n",
       "       '44905231 - Máquinas e Motores', '44905232 - Mobiliário em Geral',\n",
       "       '44905234 - Outros Equipamentos e Material Permanente',\n",
       "       '44905235 - Equipamentos e Mobiliários Médico - Hospitalar e O'], dtype=object)"
      ]
     },
     "execution_count": 42,
     "metadata": {},
     "output_type": "execute_result"
    }
   ],
   "source": [
    "np.unique(raw.item)"
   ]
  },
  {
   "cell_type": "code",
   "execution_count": null,
   "metadata": {
    "collapsed": true
   },
   "outputs": [],
   "source": []
  }
 ],
 "metadata": {
  "kernelspec": {
   "display_name": "Python 3",
   "language": "python",
   "name": "python3"
  },
  "language_info": {
   "codemirror_mode": {
    "name": "ipython",
    "version": 3
   },
   "file_extension": ".py",
   "mimetype": "text/x-python",
   "name": "python",
   "nbconvert_exporter": "python",
   "pygments_lexer": "ipython3",
   "version": "3.5.1+"
  }
 },
 "nbformat": 4,
 "nbformat_minor": 0
}
