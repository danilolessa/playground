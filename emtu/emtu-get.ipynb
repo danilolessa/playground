{
 "cells": [
  {
   "cell_type": "code",
   "execution_count": 1,
   "metadata": {
    "collapsed": true
   },
   "outputs": [],
   "source": [
    "#dependencias\n",
    "import pandas as pd\n",
    "import numpy as np\n",
    "import requests as req\n",
    "import json\n",
    "import csv\n",
    "import time\n",
    "import threading as th"
   ]
  },
  {
   "cell_type": "code",
   "execution_count": 2,
   "metadata": {
    "collapsed": true
   },
   "outputs": [],
   "source": [
    "url1 = \"http://bustime.noxxonsat.com.br/emtu\"\n",
    "url2 = \"http://bustime.noxxonsat.com.br/bustime\"\n",
    "headers = {\"Referer\":\"http://bustime.noxxonsat.com.br/emtu/emtu.html?linha=297\"}\n",
    "params = {\"linha\": \"020\"}"
   ]
  },
  {
   "cell_type": "code",
   "execution_count": 3,
   "metadata": {
    "collapsed": true
   },
   "outputs": [],
   "source": [
    "#carregar linhas\n",
    "raw = pd.read_csv(\"emtu.tsv\", delimiter=\"\\t\")\n",
    "inds = (raw[\"LINHA\"] != \"LINHA\") | pd.notnull(raw[\"LINHA\"])\n",
    "raw = raw[inds]\n",
    "uinds = raw[\"INTEGRAÇÃO\"] == \"-\"\n",
    "dat = raw[uinds]\n",
    "linhas = np.array(dat[\"LINHA\"])"
   ]
  },
  {
   "cell_type": "code",
   "execution_count": 4,
   "metadata": {
    "collapsed": false
   },
   "outputs": [],
   "source": [
    "def reqThread(block, s):\n",
    "    for linha in block:\n",
    "        sl = time.time()\n",
    "        params = {\"linha\": linha}        \n",
    "        r2=s.get(url1, headers=headers, params=params)\n",
    "        r3=s.get(url2, headers=headers, params=params)\n",
    "        j = r3.json()\n",
    "        if len(j['linhas']) > 0:\n",
    "            for veiculo in j['linhas'][0]['veiculos']:\n",
    "                dat.append([veiculo['codigoLinha'], veiculo['prefixo'], veiculo['latitude'],\n",
    "                veiculo['longitude'], veiculo['sentidoLinha'], veiculo['dataUltimaTransmissao']])\n",
    "    print((time.time() - start))"
   ]
  },
  {
   "cell_type": "code",
   "execution_count": 5,
   "metadata": {
    "collapsed": false
   },
   "outputs": [],
   "source": [
    "def chunks(l, n):\n",
    "    \"\"\"Yield successive n-sized chunks from l.\"\"\"\n",
    "    for i in range(0, len(l), n):\n",
    "        yield l[i:i+n]"
   ]
  },
  {
   "cell_type": "code",
   "execution_count": 6,
   "metadata": {
    "collapsed": false
   },
   "outputs": [
    {
     "name": "stdout",
     "output_type": "stream",
     "text": [
      "hi\n",
      "hi\n",
      "hi\n",
      "hi\n",
      "hi\n",
      "hi\n",
      "bu\n",
      "83.41999197006226\n"
     ]
    },
    {
     "ename": "KeyboardInterrupt",
     "evalue": "",
     "output_type": "error",
     "traceback": [
      "\u001b[1;31m---------------------------------------------------------------------------\u001b[0m",
      "\u001b[1;31mKeyboardInterrupt\u001b[0m                         Traceback (most recent call last)",
      "\u001b[1;32m<ipython-input-6-0eacae56a2b5>\u001b[0m in \u001b[0;36m<module>\u001b[1;34m()\u001b[0m\n\u001b[0;32m     13\u001b[0m     \u001b[0mprint\u001b[0m\u001b[1;33m(\u001b[0m\u001b[1;34m\"bu\"\u001b[0m\u001b[1;33m)\u001b[0m\u001b[1;33m\u001b[0m\u001b[0m\n\u001b[0;32m     14\u001b[0m     \u001b[1;32mif\u001b[0m \u001b[0mdelta\u001b[0m \u001b[1;33m>\u001b[0m \u001b[1;36m0\u001b[0m\u001b[1;33m:\u001b[0m\u001b[1;33m\u001b[0m\u001b[0m\n\u001b[1;32m---> 15\u001b[1;33m         \u001b[0mtime\u001b[0m\u001b[1;33m.\u001b[0m\u001b[0msleep\u001b[0m\u001b[1;33m(\u001b[0m\u001b[1;36m180\u001b[0m \u001b[1;33m-\u001b[0m \u001b[0mdelta\u001b[0m\u001b[1;33m)\u001b[0m\u001b[1;33m\u001b[0m\u001b[0m\n\u001b[0m\u001b[0;32m     16\u001b[0m     \u001b[0mstart\u001b[0m \u001b[1;33m=\u001b[0m \u001b[0mtime\u001b[0m\u001b[1;33m.\u001b[0m\u001b[0mtime\u001b[0m\u001b[1;33m(\u001b[0m\u001b[1;33m)\u001b[0m\u001b[1;33m\u001b[0m\u001b[0m\n",
      "\u001b[1;31mKeyboardInterrupt\u001b[0m: "
     ]
    }
   ],
   "source": [
    "dat = []\n",
    "s = req.session()\n",
    "\n",
    "linhas_blocks = list(chunks(linhas, 100))\n",
    "\n",
    "start = time.time()\n",
    "end = 0\n",
    "while 1 == 1:\n",
    "    for block in linhas_blocks:\n",
    "        th.Thread(target=reqThread, args=(block, s)).start()\n",
    "        print(\"hi\")\n",
    "    delta = time.time() - start\n",
    "    print(\"bu\")\n",
    "    if delta > 0:\n",
    "        time.sleep(180 - delta)\n",
    "    start = time.time()"
   ]
  },
  {
   "cell_type": "code",
   "execution_count": 8,
   "metadata": {
    "collapsed": false
   },
   "outputs": [
    {
     "name": "stdout",
     "output_type": "stream",
     "text": [
      "123.21568894386292\n",
      "124.30661630630493\n",
      "127.55172419548035\n",
      "129.2275414466858\n",
      "131.4881477355957\n"
     ]
    }
   ],
   "source": [
    "with open(\"outp.csv\", \"w\") as fil:\n",
    "    csvw = csv.writer(fil)\n",
    "    for d in dat:\n",
    "        csvw.writerow(d)"
   ]
  },
  {
   "cell_type": "code",
   "execution_count": 7,
   "metadata": {
    "collapsed": false
   },
   "outputs": [
    {
     "data": {
      "text/plain": [
       "2084"
      ]
     },
     "execution_count": 7,
     "metadata": {},
     "output_type": "execute_result"
    }
   ],
   "source": [
    "len(dat)"
   ]
  },
  {
   "cell_type": "code",
   "execution_count": null,
   "metadata": {
    "collapsed": true
   },
   "outputs": [],
   "source": []
  }
 ],
 "metadata": {
  "kernelspec": {
   "display_name": "Python 3",
   "language": "python",
   "name": "python3"
  },
  "language_info": {
   "codemirror_mode": {
    "name": "ipython",
    "version": 3
   },
   "file_extension": ".py",
   "mimetype": "text/x-python",
   "name": "python",
   "nbconvert_exporter": "python",
   "pygments_lexer": "ipython3",
   "version": "3.5.1+"
  }
 },
 "nbformat": 4,
 "nbformat_minor": 0
}
