{
 "cells": [
  {
   "cell_type": "code",
   "execution_count": 1,
   "metadata": {
    "collapsed": false
   },
   "outputs": [],
   "source": [
    "%matplotlib inline\n",
    "import pandas as pd\n",
    "import numpy as np\n",
    "import matplotlib.pyplot as plt\n",
    "import scipy.stats as stats\n",
    "\n",
    "headers=[\"nome\", \"unidade\", \"depto\", \"jornada\", \"categoria\",\n",
    "         \"classe\", \"ref\", \"func\", \"func_estr\", \"tempo\", \"parcelas\",\n",
    "         \"salario\", \"salario_liq\"]"
   ]
  },
  {
   "cell_type": "code",
   "execution_count": 2,
   "metadata": {
    "collapsed": false
   },
   "outputs": [],
   "source": [
    "raw = pd.read_csv(\"USP.txt\", delimiter=';', index_col=False, names=headers, header=0)"
   ]
  },
  {
   "cell_type": "code",
   "execution_count": 3,
   "metadata": {
    "collapsed": false
   },
   "outputs": [
    {
     "data": {
      "text/plain": [
       "array(['Celetista', 'Compl Apos', 'Doc Apos', 'Docente', 'Func Apos',\n",
       "       'Func Aut'], \n",
       "      dtype='<U10')"
      ]
     },
     "execution_count": 3,
     "metadata": {},
     "output_type": "execute_result"
    }
   ],
   "source": [
    "np.unique(raw.categoria)"
   ]
  },
  {
   "cell_type": "code",
   "execution_count": 18,
   "metadata": {
    "collapsed": true
   },
   "outputs": [],
   "source": [
    "dat = raw[raw.categoria == \"Celetista\"]"
   ]
  },
  {
   "cell_type": "code",
   "execution_count": 19,
   "metadata": {
    "collapsed": false
   },
   "outputs": [
    {
     "data": {
      "text/plain": [
       "(0, 25000)"
      ]
     },
     "execution_count": 19,
     "metadata": {},
     "output_type": "execute_result"
    },
    {
     "data": {
      "image/png": "[encoded data removed]",
      "text/plain": [
       "<matplotlib.figure.Figure at 0x7fc00d94c668>"
      ]
     },
     "metadata": {},
     "output_type": "display_data"
    }
   ],
   "source": [
    "plt.hist(list(dat.salario), bins=100)\n",
    "plt.xlim(0, 25000)"
   ]
  },
  {
   "cell_type": "code",
   "execution_count": 20,
   "metadata": {
    "collapsed": false
   },
   "outputs": [
    {
     "data": {
      "text/plain": [
       "6898.0100000000002"
      ]
     },
     "execution_count": 20,
     "metadata": {},
     "output_type": "execute_result"
    }
   ],
   "source": [
    "np.median(dat.salario)"
   ]
  },
  {
   "cell_type": "code",
   "execution_count": 35,
   "metadata": {
    "collapsed": true
   },
   "outputs": [],
   "source": [
    "dat = raw[raw.categoria == \"Celetista\"]"
   ]
  },
  {
   "cell_type": "code",
   "execution_count": 36,
   "metadata": {
    "collapsed": true
   },
   "outputs": [],
   "source": [
    "funcoes = np.unique(dat.func)\n",
    "resul = []\n",
    "for funcao in funcoes:\n",
    "    resul.append([funcao, len(dat[dat.func == funcao])])"
   ]
  },
  {
   "cell_type": "code",
   "execution_count": 37,
   "metadata": {
    "collapsed": false
   },
   "outputs": [
    {
     "data": {
      "text/plain": [
       "3"
      ]
     },
     "execution_count": 37,
     "metadata": {},
     "output_type": "execute_result"
    }
   ],
   "source": [
    "len(dat[dat.func == np.unique(dat.func)[2]])"
   ]
  },
  {
   "cell_type": "code",
   "execution_count": 38,
   "metadata": {
    "collapsed": false
   },
   "outputs": [
    {
     "data": {
      "text/plain": [
       "[['Abatedor', 4],\n",
       " ['Administrador', 10],\n",
       " ['Advogado', 3],\n",
       " ['Agente de Inovação', 5],\n",
       " ['Agente de Relacoes Internacionais', 14],\n",
       " ['Agente de Vigilância', 278],\n",
       " ['Almoxarife', 41],\n",
       " ['Analista Acadêmico', 40],\n",
       " ['Analista Assuntos Administrativos', 182],\n",
       " ['Analista Contábil Financeiro', 48],\n",
       " ['Analista de Comunicação', 73],\n",
       " ['Analista de O&M', 1],\n",
       " ['Analista de Recursos Humanos', 9],\n",
       " ['Analista de Sistemas', 310],\n",
       " ['Armador', 2],\n",
       " ['Arquiteto', 30],\n",
       " ['Arte Finalista', 27],\n",
       " ['Ascensorista', 3],\n",
       " ['Assessor', 7],\n",
       " ['Assistente Administrativo', 27],\n",
       " ['Assistente Administrativo Especializado', 5],\n",
       " ['Assistente Social', 65],\n",
       " ['Assistente Técnico', 23],\n",
       " ['Assistente Técnico Especializado', 12],\n",
       " ['Atendente de Classe', 4],\n",
       " ['Atendente de Enfermagem', 2],\n",
       " ['Ator', 1],\n",
       " ['Auditor', 3],\n",
       " ['Aux Documentação e Informação', 93],\n",
       " ['Aux de Inspecao de Carne e Laticinio', 1],\n",
       " ['Auxiliar Academico', 92],\n",
       " ['Auxiliar Administrativo', 33],\n",
       " ['Auxiliar Agropecuario', 117],\n",
       " ['Auxiliar Contábil e Financeiro', 23],\n",
       " ['Auxiliar Gráfico', 39],\n",
       " ['Auxiliar de Administração', 795],\n",
       " ['Auxiliar de Apoio Educativo', 6],\n",
       " ['Auxiliar de Biotério', 24],\n",
       " ['Auxiliar de Caixa', 13],\n",
       " ['Auxiliar de Comunicação', 12],\n",
       " ['Auxiliar de Consultório Dentário', 48],\n",
       " ['Auxiliar de Cozinha', 225],\n",
       " ['Auxiliar de Enfermagem', 91],\n",
       " ['Auxiliar de Esporte', 6],\n",
       " ['Auxiliar de Laboratorio', 324],\n",
       " ['Auxiliar de Laboratório', 4],\n",
       " ['Auxiliar de Lavanderia', 11],\n",
       " ['Auxiliar de Manutenção', 16],\n",
       " ['Auxiliar de Manutenção/obras', 281],\n",
       " ['Auxiliar de Materiais', 79],\n",
       " ['Auxiliar de Museu', 7],\n",
       " ['Auxiliar de Necropsia', 10],\n",
       " ['Auxiliar de Recursos Humanos', 8],\n",
       " ['Auxiliar de Saude', 3],\n",
       " ['Auxiliar de Serviços Gerais', 523],\n",
       " ['Auxiliar de Topografo Agrimensor', 5],\n",
       " ['Biblioteconomista', 4],\n",
       " ['Bibliotecário', 278],\n",
       " ['Biologista', 2],\n",
       " ['Bioquímico', 1],\n",
       " ['Biólogo', 62],\n",
       " ['Carpinteiro', 5],\n",
       " ['Cenotecnico', 6],\n",
       " ['Cirurgião Dentista', 96],\n",
       " ['Concertino (s)', 1],\n",
       " ['Contador', 100],\n",
       " ['Contínuo', 11],\n",
       " ['Copeiro', 3],\n",
       " ['Copista e Arquivista Musical', 2],\n",
       " ['Costureiro', 3],\n",
       " ['Cozinheiro', 148],\n",
       " ['Desenhista', 38],\n",
       " ['Desenhista Copista', 3],\n",
       " ['Desenhista Projetista', 4],\n",
       " ['Diagramador', 5],\n",
       " ['Digitador', 1],\n",
       " ['Editor', 1],\n",
       " ['Educador', 101],\n",
       " ['Educador Em Praticas Desportivas', 46],\n",
       " ['Eletricista', 77],\n",
       " ['Encanador', 28],\n",
       " ['Encanador Industrial', 1],\n",
       " ['Enfermeiro', 242],\n",
       " ['Enfermeiro do Trabalho', 1],\n",
       " ['Engenheiro', 145],\n",
       " ['Engenheiro de Seguranca do Trabalho', 4],\n",
       " ['Espec Cooperação Extensão Universit', 13],\n",
       " ['Especialista', 2],\n",
       " ['Especialista Conservacao e Restauro', 8],\n",
       " ['Especialista em Biotério', 9],\n",
       " ['Especialista em Compras', 1],\n",
       " ['Especialista em Document Museologica', 4],\n",
       " ['Especialista em Laboratório', 719],\n",
       " ['Especialista em Pesq Apoio de Museu', 31],\n",
       " ['Especialista em Projetos Exposição', 6],\n",
       " ['Especialista em Proteção Radiológica', 5],\n",
       " ['Estatistico Matematico', 5],\n",
       " ['Farmacêutico', 85],\n",
       " ['Fisioterapeuta', 46],\n",
       " ['Fonoaudiólogo', 74],\n",
       " ['Fotógrafo', 25],\n",
       " ['Fotógrafo Especialista', 1],\n",
       " ['Funileiro', 1],\n",
       " ['Físico', 32],\n",
       " ['Garcom', 16],\n",
       " ['Geólogo', 1],\n",
       " ['Inspetor de Carne e Laticinio', 2],\n",
       " ['Inspetor de Orquestra', 2],\n",
       " ['Instrumentista de Fila (s)', 18],\n",
       " ['Instrumentista de Fila (t)', 5],\n",
       " ['Instrutor de Línguas', 1],\n",
       " ['Jardineiro', 66],\n",
       " ['Jornalista', 55],\n",
       " ['Lactarista', 11],\n",
       " ['Locutor', 1],\n",
       " ['Locutor/operador', 5],\n",
       " ['Marceneiro', 50],\n",
       " ['Mecânico', 15],\n",
       " ['Mecânico Manutenção', 3],\n",
       " ['Meio Oficial Pedreiro', 5],\n",
       " ['Mestre de Embarcacao', 1],\n",
       " ['Montador de Orquestra', 2],\n",
       " ['Motorista', 370],\n",
       " ['Motorista Maritimo', 2],\n",
       " ['Médico', 417],\n",
       " ['Médico Veterinário', 35],\n",
       " ['Médico do Trabalho', 14],\n",
       " ['Nutricionista', 44],\n",
       " ['Não Informada', 21],\n",
       " ['Oficial Ar Condicionado Refrigeração', 1],\n",
       " ['Operador de Audiovisual', 45],\n",
       " ['Operador de Caldeira', 14],\n",
       " ['Operador de Computador', 7],\n",
       " ['Operador de Máquinas', 65],\n",
       " ['Operador de Som', 6],\n",
       " ['Operador de Telemonitoramento', 4],\n",
       " ['Orient de Estrut Musical Tec Vocal', 9],\n",
       " ['Orientador de Arte Dramatica', 17],\n",
       " ['PROFEI', 8],\n",
       " ['PROFEM', 48],\n",
       " ['Pedreiro', 78],\n",
       " ['Pescador', 2],\n",
       " ['Pianista Cravista (s)', 1],\n",
       " ['Pintor', 41],\n",
       " ['Procurador', 45],\n",
       " ['Produtor de Comunicacao Visual', 4],\n",
       " ['Produtor de Radio', 2],\n",
       " ['Professor', 18],\n",
       " ['Professor Cálculo Numérico', 1],\n",
       " ['Professor Dr. Cálculo Numérico', 1],\n",
       " ['Professor Dr. Química', 5],\n",
       " ['Professor Educ. Artística', 1],\n",
       " ['Professor Geografia', 1],\n",
       " ['Professor de História', 1],\n",
       " ['Professor de Português', 1],\n",
       " ['Professor de Química', 4],\n",
       " ['Programador Computador', 2],\n",
       " ['Programador Musical', 2],\n",
       " ['Psicólogo', 65],\n",
       " ['Publicitario', 3],\n",
       " ['Químico', 50],\n",
       " ['Recepcionista', 95],\n",
       " ['Regente Assistente', 5],\n",
       " ['Regente Titular e Diretor Artistico', 4],\n",
       " ['Relacoes Publicas', 1],\n",
       " ['Revisor', 4],\n",
       " ['Salva Vidas', 18],\n",
       " ['Secretario Executivo', 2],\n",
       " ['Secretária', 3],\n",
       " ['Secretária Executiva', 4],\n",
       " ['Secretário', 785],\n",
       " ['Segundo Solista (s)', 5],\n",
       " ['Segundo Solista (t)', 7],\n",
       " ['Serralheiro', 9],\n",
       " ['Servente', 1],\n",
       " ['Soldador', 2],\n",
       " ['Sonoplasta Iluminador', 7],\n",
       " ['Supervisor de Vigilancia', 1],\n",
       " ['Tec Assuntos Administrativos', 1697],\n",
       " ['Tec em Equip Hospitalar Clínico', 2],\n",
       " ['Tecnico Agricola', 14],\n",
       " ['Tecnico Em Higiene Dental', 5],\n",
       " ['Tecnico Em Vidraria', 4],\n",
       " ['Tecnico Juridico', 4],\n",
       " ['Tecnico de Documentação e Informação', 185],\n",
       " ['Tecnico de Museu', 24],\n",
       " ['Tecnico de Rede de Computador', 28],\n",
       " ['Tecnico de Telecomunicacoes', 18],\n",
       " ['Tecnólogo', 10],\n",
       " ['Telefonista', 8],\n",
       " ['Terapeuta Ocupacional', 18],\n",
       " ['Topografo Agrimensor', 2],\n",
       " ['Torneiro', 3],\n",
       " ['Tratador de Agua', 7],\n",
       " ['Técnico Acadêmico', 421],\n",
       " ['Técnico Assuntos Financeiros', 115],\n",
       " ['Técnico Contábil e Financeiro', 94],\n",
       " ['Técnico de Apoio Educativo', 148],\n",
       " ['Técnico de Biotério', 20],\n",
       " ['Técnico de Comunicação', 24],\n",
       " ['Técnico de Enfermagem', 445],\n",
       " ['Técnico de Enfermagem do Trabalho', 7],\n",
       " ['Técnico de Gráfica', 61],\n",
       " ['Técnico de Laboratório', 1159],\n",
       " ['Técnico de Manutenção', 2],\n",
       " ['Técnico de Manutenção Eletrônica', 54],\n",
       " ['Técnico de Manutenção/obras', 272],\n",
       " ['Técnico de Necropsia', 15],\n",
       " ['Técnico de Obras', 5],\n",
       " ['Técnico de Recursos Humanos', 140],\n",
       " ['Técnico de Segurança do Trabalho', 28],\n",
       " ['Técnico em Compras', 90],\n",
       " ['Técnico em Informática', 341],\n",
       " ['Técnico em Mecatronica', 1],\n",
       " ['Técnico em Mecânica', 41],\n",
       " ['Técnico em Nutrição e Dietética', 28],\n",
       " ['Técnico em Prótese Dentária', 13],\n",
       " ['Técnico em Radiologia', 56],\n",
       " ['Vendedor', 13],\n",
       " ['Vidraceiro', 3],\n",
       " ['Vigia', 427],\n",
       " ['Violino Spalla (s)', 3],\n",
       " ['Visitador Sanitario', 10],\n",
       " ['Webdesigner', 2],\n",
       " ['Zelador', 30],\n",
       " ['Zootecnista', 2]]"
      ]
     },
     "execution_count": 38,
     "metadata": {},
     "output_type": "execute_result"
    }
   ],
   "source": [
    "resul"
   ]
  },
  {
   "cell_type": "code",
   "execution_count": 39,
   "metadata": {
    "collapsed": true
   },
   "outputs": [],
   "source": [
    "ndat = dat[dat.func == \"Analista de Sistemas\"]"
   ]
  },
  {
   "cell_type": "code",
   "execution_count": 41,
   "metadata": {
    "collapsed": false
   },
   "outputs": [
    {
     "data": {
      "text/plain": [
       "(0, 15000)"
      ]
     },
     "execution_count": 41,
     "metadata": {},
     "output_type": "execute_result"
    },
    {
     "data": {
      "image/png": "[encoded data removed]",
      "text/plain": [
       "<matplotlib.figure.Figure at 0x7f1586bee908>"
      ]
     },
     "metadata": {},
     "output_type": "display_data"
    }
   ],
   "source": [
    "plt.hist(list(ndat.salario), bins=50)\n",
    "plt.xlim(0, 15000)"
   ]
  },
  {
   "cell_type": "code",
   "execution_count": 42,
   "metadata": {
    "collapsed": false
   },
   "outputs": [
    {
     "data": {
      "text/html": [
       "<div style=\"max-height:1000px;max-width:1500px;overflow:auto;\">\n",
       "<table border=\"1\" class=\"dataframe\">\n",
       "  <thead>\n",
       "    <tr style=\"text-align: right;\">\n",
       "      <th></th>\n",
       "      <th>nome</th>\n",
       "      <th>unidade</th>\n",
       "      <th>depto</th>\n",
       "      <th>jornada</th>\n",
       "      <th>categoria</th>\n",
       "      <th>classe</th>\n",
       "      <th>ref</th>\n",
       "      <th>func</th>\n",
       "      <th>func_estr</th>\n",
       "      <th>tempo</th>\n",
       "      <th>parcelas</th>\n",
       "      <th>salario</th>\n",
       "      <th>salario_liq</th>\n",
       "    </tr>\n",
       "  </thead>\n",
       "  <tbody>\n",
       "    <tr>\n",
       "      <th>20020</th>\n",
       "      <td> Nelson Barbosa Junior</td>\n",
       "      <td> SAS</td>\n",
       "      <td> Seção Técnica de Informática</td>\n",
       "      <td> 40 Horas</td>\n",
       "      <td> Celetista</td>\n",
       "      <td> Superior 2</td>\n",
       "      <td> B</td>\n",
       "      <td> Analista de Sistemas</td>\n",
       "      <td> Chefe de Seção Técnica</td>\n",
       "      <td> 28</td>\n",
       "      <td> 0</td>\n",
       "      <td> 16286.33</td>\n",
       "      <td> 11302.98</td>\n",
       "    </tr>\n",
       "  </tbody>\n",
       "</table>\n",
       "</div>"
      ],
      "text/plain": [
       "                        nome unidade                         depto   jornada  \\\n",
       "20020  Nelson Barbosa Junior     SAS  Seção Técnica de Informática  40 Horas   \n",
       "\n",
       "       categoria      classe ref                  func  \\\n",
       "20020  Celetista  Superior 2   B  Analista de Sistemas   \n",
       "\n",
       "                    func_estr  tempo  parcelas   salario  salario_liq  \n",
       "20020  Chefe de Seção Técnica     28         0  16286.33     11302.98  "
      ]
     },
     "execution_count": 42,
     "metadata": {},
     "output_type": "execute_result"
    }
   ],
   "source": [
    "ndat[ndat.unidade == \"SAS\"]"
   ]
  },
  {
   "cell_type": "code",
   "execution_count": null,
   "metadata": {
    "collapsed": true
   },
   "outputs": [],
   "source": []
  },
  {
   "cell_type": "code",
   "execution_count": null,
   "metadata": {
    "collapsed": true
   },
   "outputs": [],
   "source": []
  }
 ],
 "metadata": {
  "kernelspec": {
   "display_name": "Python 3",
   "language": "python",
   "name": "python3"
  },
  "language_info": {
   "codemirror_mode": {
    "name": "ipython",
    "version": 3
   },
   "file_extension": ".py",
   "mimetype": "text/x-python",
   "name": "python",
   "nbconvert_exporter": "python",
   "pygments_lexer": "ipython3",
   "version": "3.4.3+"
  }
 },
 "nbformat": 4,
 "nbformat_minor": 0
}
