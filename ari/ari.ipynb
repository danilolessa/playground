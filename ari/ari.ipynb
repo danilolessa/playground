{
 "cells": [
  {
   "cell_type": "code",
   "execution_count": 112,
   "metadata": {
    "collapsed": true
   },
   "outputs": [],
   "source": [
    "%matplotlib inline\n",
    "import numpy as np\n",
    "import matplotlib.pyplot as plt\n",
    "import pandas as pd\n",
    "from lxml import html\n",
    "import requests as req\n",
    "from locale import *"
   ]
  },
  {
   "cell_type": "code",
   "execution_count": 113,
   "metadata": {
    "collapsed": false
   },
   "outputs": [],
   "source": [
    "dat = []\n",
    "for p in range(1, 112):\n",
    "    url = \"http://apps.ariquemes.ro.gov.br/transparencia/funcionarios?page=%s\" % p\n",
    "    page = req.get(url)\n",
    "    tree = html.fromstring(page.content)\n",
    "    raw = tree.xpath(\"//tr\")\n",
    "    N = len(raw)\n",
    "    for i in range(1, N):\n",
    "        r = []\n",
    "        for it in raw[i]:\n",
    "            r.append(it.text)\n",
    "        dat.append(r)"
   ]
  },
  {
   "cell_type": "code",
   "execution_count": 114,
   "metadata": {
    "collapsed": true
   },
   "outputs": [],
   "source": [
    "dx = dat\n",
    "for d in dx:\n",
    "    if d[6] == None:\n",
    "        d[6] = 0.0\n",
    "    else:\n",
    "        d[6] = float(d[6].replace(\".\",\"\").replace(\",\", \".\"))"
   ]
  },
  {
   "cell_type": "code",
   "execution_count": 136,
   "metadata": {
    "collapsed": false
   },
   "outputs": [],
   "source": [
    "df = pd.DataFrame(dx, columns=[\"empresa\", \"matricula\", \"nome\", \"vinculo\", \"cargo\", \"lotacao\", \"salario\"])\n",
    "df = df[df.salario > 0]"
   ]
  },
  {
   "cell_type": "code",
   "execution_count": 137,
   "metadata": {
    "collapsed": false
   },
   "outputs": [],
   "source": [
    "cargos = np.unique(df.cargo)\n",
    "resul = []\n",
    "for cargo in cargos:\n",
    "    resul.append([cargo, len(df[df.cargo == cargo])])"
   ]
  },
  {
   "cell_type": "code",
   "execution_count": 138,
   "metadata": {
    "collapsed": false
   },
   "outputs": [
    {
     "data": {
      "text/plain": [
       "[['ASSESSOR T. ESPECIAL CDS-05-A', 14],\n",
       " ['AUXILIAR DE ENFERMAGEM', 1],\n",
       " ['Administrador D. de Bom Futuro', 1],\n",
       " ['Agente  de Mautencao I', 15],\n",
       " ['Agente Administrativo', 1],\n",
       " ['Agente Comunitario PACS', 98],\n",
       " ['Agente Comunitario de Saude', 2],\n",
       " ['Agente Educacional', 1],\n",
       " ['Agente Infra - Estrutura I', 25],\n",
       " ['Agente Operacional I', 12],\n",
       " ['Agente Operacional II', 29],\n",
       " ['Agente Operacional de Saude', 9],\n",
       " ['Agente de ConservaÃ§Ã£o', 9],\n",
       " ['Agente de Gestao Escolar', 40],\n",
       " ['Agente de Gestao Publica', 79],\n",
       " ['Agente de Infra - Estrutura II', 6],\n",
       " ['Agente de Manutencao II', 10],\n",
       " ['Agente de Servico Escolar', 324],\n",
       " ['Agente de ServiÃ§o', 177],\n",
       " ['Agente de Transporte Escolar', 48],\n",
       " ['Agente de Vigilancia', 17],\n",
       " ['Asses. TÃ©cnico Nivel III', 1],\n",
       " ['Assessor Especial I  CDS 08', 1],\n",
       " ['Assessor Especial II CDS - 06', 12],\n",
       " ['Assessor Especial III CDS - 04', 8],\n",
       " ['Assessor Especial IV CDS - 03', 30],\n",
       " ['Assessor Especial V CDS - 02', 35],\n",
       " ['Assessor Especial VI CDS - 01', 29],\n",
       " ['Assessor Juridico CDS 07', 3],\n",
       " ['Assessor Tecnico Nivel II', 8],\n",
       " ['Assessoria A. Obras Publicas', 1],\n",
       " ['Assistente Social', 1],\n",
       " ['Assistente da Saude', 70],\n",
       " ['Chefe De Gabinete', 1],\n",
       " ['Chefe de N. Executivo CDS - 10', 1],\n",
       " ['Conselheiro Tutelar', 5],\n",
       " ['D. Div. C. Apoio. Psicossocial', 1],\n",
       " ['DIR.DE COMUNICAÃ\\x87Ã\\x83O SOCIAL', 1],\n",
       " ['Dir.Div.Prog. Saude da Familia', 1],\n",
       " ['Dir.de FinanÃ§a.e Cont.Publica', 1],\n",
       " ['Diretor D. Centro Odontologico', 1],\n",
       " [\"Diretor D. U. Saude Setor 02'\", 1],\n",
       " ['Diretor D. U. Saude Setor 05', 1],\n",
       " ['Diretor D. U. Saude Setor 06', 1],\n",
       " ['Diretor D. U. Saude Setor 09', 1],\n",
       " ['Diretor Geral CDS - 05', 1],\n",
       " ['Diretor de AtenÃ§Ã£o Basica', 1],\n",
       " ['Diretor de D. de U. P. da Gema', 1],\n",
       " ['Diretor de PavimentaÃ§Ã£o', 1],\n",
       " ['Diretor de ServiÃ§os Publicos', 1],\n",
       " ['Diretora de Receita Municipal', 1],\n",
       " ['Diretoria Executiva', 1],\n",
       " ['ESPECIALISTA DA SAUDE I-20 H', 2],\n",
       " ['ESTAGIÃ\\x81RIO ', 165],\n",
       " ['Enfermeiro (a)', 2],\n",
       " ['Engenheiro', 4],\n",
       " ['Engenheiro Agronomo', 1],\n",
       " ['Especialista da S. II - 40 hs', 59],\n",
       " ['Especialista da S. II 20 Horas', 3],\n",
       " ['Especialista da Saude I', 80],\n",
       " ['Fiscal De Tributos', 1],\n",
       " ['Fiscal Municipal', 31],\n",
       " ['Ger. de Atividades Urbanas ', 1],\n",
       " ['Ger. de GestÃ£o de Cemiterios', 1],\n",
       " ['Ger. de Inf. e Estatistica ', 1],\n",
       " ['Ger. de Obras e ConservaÃ§oes', 1],\n",
       " ['Ger.Conv.e Prest.Cont.Conveni ', 1],\n",
       " ['Ger.Red.Sup.e Banco de Dados ', 1],\n",
       " ['Ger.Reg.Aval.e Cont. da Saude', 1],\n",
       " ['Ger.de Ensino Fundamental', 1],\n",
       " ['Ger.de InclusÃ£o Digital ', 1],\n",
       " ['Ger.do Prog.Saude.Rural', 1],\n",
       " ['Gerente Executivo CDS - 04', 1],\n",
       " ['Gerente Trabalho e Emprego ', 1],\n",
       " ['Gerente de Apoio ao Educando ', 1],\n",
       " ['Gerente de Areas Verdes ', 1],\n",
       " ['Gerente de Ensino Infantil ', 1],\n",
       " ['Gerente de Garegem e Oficina', 1],\n",
       " ['Gerente de Insp. Sanitaria ', 1],\n",
       " ['Gerente de Planejamento', 1],\n",
       " ['Gerente de Vigilan. Sanitaria ', 1],\n",
       " ['Gerente de Vigilancia em Saude', 1],\n",
       " ['Guarda Municipal', 47],\n",
       " ['MEDICO CLINICO GERAL', 1],\n",
       " ['Membro da CPL CDS - 03', 2],\n",
       " ['Merendeira', 1],\n",
       " ['Motorista Veiculos Leves', 1],\n",
       " ['Ouvidor Municipal CDS 06', 1],\n",
       " ['PROCURADOR GERAL CDS - 11', 1],\n",
       " ['PROF.CL.C 40 HS', 2],\n",
       " ['Prefeito Municipal', 1],\n",
       " ['Presidente da CPL CDS -  06', 1],\n",
       " ['Presidente da FUNCEL', 1],\n",
       " ['Procurador', 4],\n",
       " ['Prof.Pdg.Hab.Ed.Inf.30hrs', 29],\n",
       " ['Prof.Pedag.Series I. 30 hrs', 28],\n",
       " ['Professor 20 Horas', 212],\n",
       " ['Professor 25 Horas', 1],\n",
       " ['Professor 30 Horas', 1],\n",
       " ['Professor 40 Horas', 551],\n",
       " ['Professor Cl. Unica 20 Hs', 3],\n",
       " ['Professor Classe Un 40 Hs', 1],\n",
       " ['Sec. Mun.de Desenv.Social ', 1],\n",
       " ['Sec.Mun.Agric.Ind.e Comercio', 1],\n",
       " ['Sec.Mun.Obras e Serv.Publicos ', 1],\n",
       " ['Sec.Mun.Plan.OrÃ§.e GestÃ£o ', 1],\n",
       " ['Sec.Mun.de Seg.e Transito ', 1],\n",
       " ['Secretaria Mun. de Governo', 1],\n",
       " ['Secretario Mun. de Saude. ', 1],\n",
       " ['Secretario Mun.de EducaÃ§Ã£o ', 1],\n",
       " ['Secretario Mun.de Meio Ambien ', 1],\n",
       " ['Tecnico Em Enfermagem', 4],\n",
       " ['Tecnico Nivel Medio', 12],\n",
       " ['Tecnico Nivel Superior', 12],\n",
       " ['Tecnico da Saude I', 92],\n",
       " ['Tecnico da Saude II', 4],\n",
       " ['Tecnico de Controle Interno', 1],\n",
       " ['Tecnico de D. Escolar', 3],\n",
       " ['Tecnico de Gestao Publica', 1],\n",
       " ['Telefonista', 1],\n",
       " ['Vice-prefeito', 1]]"
      ]
     },
     "execution_count": 138,
     "metadata": {},
     "output_type": "execute_result"
    }
   ],
   "source": [
    "resul"
   ]
  },
  {
   "cell_type": "code",
   "execution_count": 148,
   "metadata": {
    "collapsed": false
   },
   "outputs": [],
   "source": [
    "dfa = df[df.cargo == \"Professor 40 Horas\"]"
   ]
  },
  {
   "cell_type": "code",
   "execution_count": 150,
   "metadata": {
    "collapsed": false
   },
   "outputs": [
    {
     "data": {
      "text/plain": [
       "(array([   1.,    0.,    0.,    0.,    0.,    0.,    1.,   10.,   42.,\n",
       "          29.,  103.,   93.,   56.,   36.,   28.,   40.,   34.,   29.,\n",
       "          15.,   14.,    9.,    2.,    6.,    2.,    1.]),\n",
       " array([  189.18  ,   505.1472,   821.1144,  1137.0816,  1453.0488,\n",
       "         1769.016 ,  2084.9832,  2400.9504,  2716.9176,  3032.8848,\n",
       "         3348.852 ,  3664.8192,  3980.7864,  4296.7536,  4612.7208,\n",
       "         4928.688 ,  5244.6552,  5560.6224,  5876.5896,  6192.5568,\n",
       "         6508.524 ,  6824.4912,  7140.4584,  7456.4256,  7772.3928,  8088.36  ]),\n",
       " <a list of 25 Patch objects>)"
      ]
     },
     "execution_count": 150,
     "metadata": {},
     "output_type": "execute_result"
    },
    {
     "data": {
      "image/png": "[encoded data removed]",
      "text/plain": [
       "<matplotlib.figure.Figure at 0x7faa68a2ac88>"
      ]
     },
     "metadata": {},
     "output_type": "display_data"
    }
   ],
   "source": [
    "plt.hist(dfa.salario, bins = 25)"
   ]
  },
  {
   "cell_type": "code",
   "execution_count": 190,
   "metadata": {
    "collapsed": false
   },
   "outputs": [
    {
     "ename": "AttributeError",
     "evalue": "module 'numpy.random' has no attribute 'alpha'",
     "output_type": "error",
     "traceback": [
      "\u001b[1;31m---------------------------------------------------------------------------\u001b[0m",
      "\u001b[1;31mAttributeError\u001b[0m                            Traceback (most recent call last)",
      "\u001b[1;32m<ipython-input-190-be1349883221>\u001b[0m in \u001b[0;36m<module>\u001b[1;34m()\u001b[0m\n\u001b[0;32m      1\u001b[0m \u001b[0mN\u001b[0m \u001b[1;33m=\u001b[0m \u001b[1;36m1e6\u001b[0m\u001b[1;33m\u001b[0m\u001b[0m\n\u001b[1;32m----> 2\u001b[1;33m \u001b[0my\u001b[0m \u001b[1;33m=\u001b[0m \u001b[0mnp\u001b[0m\u001b[1;33m.\u001b[0m\u001b[0mrandom\u001b[0m\u001b[1;33m.\u001b[0m\u001b[0malpha\u001b[0m\u001b[1;33m(\u001b[0m\u001b[1;36m3\u001b[0m\u001b[1;33m,\u001b[0m\u001b[1;36m0.5\u001b[0m\u001b[1;33m,\u001b[0m \u001b[0mN\u001b[0m\u001b[1;33m)\u001b[0m\u001b[1;33m\u001b[0m\u001b[0m\n\u001b[0m\u001b[0;32m      3\u001b[0m \u001b[0mplt\u001b[0m\u001b[1;33m.\u001b[0m\u001b[0mhist\u001b[0m\u001b[1;33m(\u001b[0m\u001b[0my\u001b[0m\u001b[1;33m,\u001b[0m \u001b[0mbins\u001b[0m \u001b[1;33m=\u001b[0m \u001b[1;36m100\u001b[0m\u001b[1;33m)\u001b[0m\u001b[1;33m\u001b[0m\u001b[0m\n\u001b[0;32m      4\u001b[0m \u001b[0mplt\u001b[0m\u001b[1;33m.\u001b[0m\u001b[0mshow\u001b[0m\u001b[1;33m(\u001b[0m\u001b[1;33m)\u001b[0m\u001b[1;33m\u001b[0m\u001b[0m\n",
      "\u001b[1;31mAttributeError\u001b[0m: module 'numpy.random' has no attribute 'alpha'"
     ]
    }
   ],
   "source": [
    "N = 1e6\n",
    "y = np.random.alpha(3,0.5, N)\n",
    "plt.hist(y, bins = 100)\n",
    "plt.show()"
   ]
  },
  {
   "cell_type": "code",
   "execution_count": null,
   "metadata": {
    "collapsed": true
   },
   "outputs": [],
   "source": []
  }
 ],
 "metadata": {
  "kernelspec": {
   "display_name": "Python 3",
   "language": "python",
   "name": "python3"
  },
  "language_info": {
   "codemirror_mode": {
    "name": "ipython",
    "version": 3
   },
   "file_extension": ".py",
   "mimetype": "text/x-python",
   "name": "python",
   "nbconvert_exporter": "python",
   "pygments_lexer": "ipython3",
   "version": "3.5.1+"
  }
 },
 "nbformat": 4,
 "nbformat_minor": 0
}
