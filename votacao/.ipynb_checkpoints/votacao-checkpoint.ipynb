{
 "cells": [
  {
   "cell_type": "code",
   "execution_count": 26,
   "metadata": {
    "collapsed": false
   },
   "outputs": [],
   "source": [
    "%matplotlib inline\n",
    "import numpy as np\n",
    "import matplotlib.pyplot as plt\n",
    "import pandas as pd\n",
    "from lxml import html\n",
    "import requests as req\n",
    "from locale import *\n",
    "\n",
    "url_base = \"https://uspdigital.usp.br/tycho/curriculoLattesBuscar?codpes=\"\n",
    "xpath = \"//*[@id=\\\"layout_conteudo\\\"]/table[1]\""
   ]
  },
  {
   "cell_type": "code",
   "execution_count": 27,
   "metadata": {
    "collapsed": true
   },
   "outputs": [],
   "source": [
    "raw = pd.read_csv(\"votos.tsv\", delimiter=\"\\t\")"
   ]
  },
  {
   "cell_type": "code",
   "execution_count": 29,
   "metadata": {
    "collapsed": false
   },
   "outputs": [
    {
     "ename": "AttributeError",
     "evalue": "'Series' object has no attribute 'value_count'",
     "output_type": "error",
     "traceback": [
      "\u001b[1;31m---------------------------------------------------------------------------\u001b[0m",
      "\u001b[1;31mAttributeError\u001b[0m                            Traceback (most recent call last)",
      "\u001b[1;32m<ipython-input-29-50426457edf9>\u001b[0m in \u001b[0;36m<module>\u001b[1;34m()\u001b[0m\n\u001b[1;32m----> 1\u001b[1;33m \u001b[0mraw\u001b[0m\u001b[1;33m.\u001b[0m\u001b[0mNUSP\u001b[0m\u001b[1;33m.\u001b[0m\u001b[0mvalue_count\u001b[0m\u001b[1;33m\u001b[0m\u001b[0m\n\u001b[0m",
      "\u001b[1;32m/usr/local/lib/python3.5/dist-packages/pandas/core/generic.py\u001b[0m in \u001b[0;36m__getattr__\u001b[1;34m(self, name)\u001b[0m\n\u001b[0;32m   2670\u001b[0m             \u001b[1;32mif\u001b[0m \u001b[0mname\u001b[0m \u001b[1;32min\u001b[0m \u001b[0mself\u001b[0m\u001b[1;33m.\u001b[0m\u001b[0m_info_axis\u001b[0m\u001b[1;33m:\u001b[0m\u001b[1;33m\u001b[0m\u001b[0m\n\u001b[0;32m   2671\u001b[0m                 \u001b[1;32mreturn\u001b[0m \u001b[0mself\u001b[0m\u001b[1;33m[\u001b[0m\u001b[0mname\u001b[0m\u001b[1;33m]\u001b[0m\u001b[1;33m\u001b[0m\u001b[0m\n\u001b[1;32m-> 2672\u001b[1;33m             \u001b[1;32mreturn\u001b[0m \u001b[0mobject\u001b[0m\u001b[1;33m.\u001b[0m\u001b[0m__getattribute__\u001b[0m\u001b[1;33m(\u001b[0m\u001b[0mself\u001b[0m\u001b[1;33m,\u001b[0m \u001b[0mname\u001b[0m\u001b[1;33m)\u001b[0m\u001b[1;33m\u001b[0m\u001b[0m\n\u001b[0m\u001b[0;32m   2673\u001b[0m \u001b[1;33m\u001b[0m\u001b[0m\n\u001b[0;32m   2674\u001b[0m     \u001b[1;32mdef\u001b[0m \u001b[0m__setattr__\u001b[0m\u001b[1;33m(\u001b[0m\u001b[0mself\u001b[0m\u001b[1;33m,\u001b[0m \u001b[0mname\u001b[0m\u001b[1;33m,\u001b[0m \u001b[0mvalue\u001b[0m\u001b[1;33m)\u001b[0m\u001b[1;33m:\u001b[0m\u001b[1;33m\u001b[0m\u001b[0m\n",
      "\u001b[1;31mAttributeError\u001b[0m: 'Series' object has no attribute 'value_count'"
     ]
    }
   ],
   "source": [
    "raw.NUSP.value_count"
   ]
  },
  {
   "cell_type": "code",
   "execution_count": 9,
   "metadata": {
    "collapsed": false
   },
   "outputs": [
    {
     "name": "stdout",
     "output_type": "stream",
     "text": [
      "Acabou\n"
     ]
    }
   ],
   "source": [
    "lista_valido = []\n",
    "for index, voto in raw.iterrows():\n",
    "    if 1 == 1:\n",
    "        url = url_base + voto.NUSP\n",
    "        page = req.get(url)\n",
    "        tree = html.fromstring(page.content)\n",
    "        resul = tree.xpath(xpath)\n",
    "        try:\n",
    "            resul_el = resul[0][1][1].text\n",
    "        except IndexError:\n",
    "            lista_valido.append(\"nao\")\n",
    "            continue\n",
    "            \n",
    "        lista_valido.append(\"sim\")\n",
    "print(\"Acabou\")"
   ]
  },
  {
   "cell_type": "code",
   "execution_count": 10,
   "metadata": {
    "collapsed": false
   },
   "outputs": [
    {
     "name": "stdout",
     "output_type": "stream",
     "text": [
      "Acabou\n"
     ]
    }
   ],
   "source": [
    "lista_IF = []\n",
    "for index, voto in raw.iterrows():\n",
    "    if voto.Valido == \"sim\":\n",
    "        url = url_base + voto.NUSP\n",
    "        page = req.get(url)\n",
    "        tree = html.fromstring(page.content)\n",
    "        resul = tree.xpath(xpath)\n",
    "        try:\n",
    "            resul_el = resul[0][1][1].text\n",
    "        except IndexError:\n",
    "            lista_IF.append(\"?\")\n",
    "            continue\n",
    "            \n",
    "        condicao = ((\"Instituto de Física\" in resul_el) or\n",
    "                    (\"Interunidades FE/IF/IQ/IB\" in resul_el) or\n",
    "                    (\"Interunidades Pró-G\" in resul_el))\n",
    "        \n",
    "        if condicao:\n",
    "            lista_IF.append(\"sim\")\n",
    "        else:\n",
    "            lista_IF.append(\"não\")\n",
    "    else:\n",
    "        lista_IF.append(\"N/A\")\n",
    "print(\"Acabou\")"
   ]
  },
  {
   "cell_type": "code",
   "execution_count": 23,
   "metadata": {
    "collapsed": false
   },
   "outputs": [],
   "source": [
    "df1 = pd.DataFrame(lista_IF, columns=[\"IF\"])\n",
    "df2 = pd.DataFrame(lista_valido, columns=[\"ValidoTycho\"])\n",
    "resultado = pd.concat([raw, df1], axis=1)\n",
    "resultado = pd.concat([resultado, df2], axis=1)"
   ]
  },
  {
   "cell_type": "code",
   "execution_count": 24,
   "metadata": {
    "collapsed": false
   },
   "outputs": [],
   "source": [
    "resultado.to_csv(\"resultado.csv\")"
   ]
  },
  {
   "cell_type": "code",
   "execution_count": 25,
   "metadata": {
    "collapsed": false
   },
   "outputs": [
    {
     "data": {
      "text/html": [
       "<div>\n",
       "<table border=\"1\" class=\"dataframe\">\n",
       "  <thead>\n",
       "    <tr style=\"text-align: right;\">\n",
       "      <th></th>\n",
       "      <th>Data/hora</th>\n",
       "      <th>Greve?</th>\n",
       "      <th>Piquete?</th>\n",
       "      <th>NUSP</th>\n",
       "      <th>NUSP corrigo</th>\n",
       "      <th>last</th>\n",
       "      <th>Valido</th>\n",
       "      <th>Motivo</th>\n",
       "      <th>IF</th>\n",
       "      <th>ValidoTycho</th>\n",
       "    </tr>\n",
       "  </thead>\n",
       "  <tbody>\n",
       "    <tr>\n",
       "      <th>45</th>\n",
       "      <td>6/16/2016 22:40:59</td>\n",
       "      <td>Não</td>\n",
       "      <td>Não</td>\n",
       "      <td>8945113</td>\n",
       "      <td>89***13</td>\n",
       "      <td>Gui</td>\n",
       "      <td>sim</td>\n",
       "      <td>NaN</td>\n",
       "      <td>?</td>\n",
       "      <td>nao</td>\n",
       "    </tr>\n",
       "    <tr>\n",
       "      <th>100</th>\n",
       "      <td>6/17/2016 0:44:47</td>\n",
       "      <td>Não</td>\n",
       "      <td>Não</td>\n",
       "      <td>7182195</td>\n",
       "      <td>71***95</td>\n",
       "      <td>Ito</td>\n",
       "      <td>nao</td>\n",
       "      <td>digitos</td>\n",
       "      <td>N/A</td>\n",
       "      <td>sim</td>\n",
       "    </tr>\n",
       "    <tr>\n",
       "      <th>137</th>\n",
       "      <td>6/17/2016 10:51:07</td>\n",
       "      <td>Sim</td>\n",
       "      <td>Não</td>\n",
       "      <td>7512042</td>\n",
       "      <td>75***42</td>\n",
       "      <td>131</td>\n",
       "      <td>nao</td>\n",
       "      <td>digitos</td>\n",
       "      <td>N/A</td>\n",
       "      <td>sim</td>\n",
       "    </tr>\n",
       "    <tr>\n",
       "      <th>172</th>\n",
       "      <td>6/17/2016 22:42:35</td>\n",
       "      <td>Sim</td>\n",
       "      <td>Sim</td>\n",
       "      <td>7994663</td>\n",
       "      <td>79***63</td>\n",
       "      <td>ira</td>\n",
       "      <td>sim</td>\n",
       "      <td>NaN</td>\n",
       "      <td>?</td>\n",
       "      <td>nao</td>\n",
       "    </tr>\n",
       "  </tbody>\n",
       "</table>\n",
       "</div>"
      ],
      "text/plain": [
       "              Data/hora Greve? Piquete?     NUSP NUSP corrigo last Valido  \\\n",
       "45   6/16/2016 22:40:59    Não      Não  8945113      89***13  Gui    sim   \n",
       "100   6/17/2016 0:44:47    Não      Não  7182195      71***95  Ito    nao   \n",
       "137  6/17/2016 10:51:07    Sim      Não  7512042      75***42  131    nao   \n",
       "172  6/17/2016 22:42:35    Sim      Sim  7994663      79***63  ira    sim   \n",
       "\n",
       "      Motivo   IF ValidoTycho  \n",
       "45       NaN    ?         nao  \n",
       "100  digitos  N/A         sim  \n",
       "137  digitos  N/A         sim  \n",
       "172      NaN    ?         nao  "
      ]
     },
     "execution_count": 25,
     "metadata": {},
     "output_type": "execute_result"
    }
   ],
   "source": [
    "resultado[~(resultado.Valido == resultado.ValidoTycho)]"
   ]
  },
  {
   "cell_type": "code",
   "execution_count": null,
   "metadata": {
    "collapsed": true
   },
   "outputs": [],
   "source": []
  }
 ],
 "metadata": {
  "kernelspec": {
   "display_name": "Python 3",
   "language": "python",
   "name": "python3"
  },
  "language_info": {
   "codemirror_mode": {
    "name": "ipython",
    "version": 3
   },
   "file_extension": ".py",
   "mimetype": "text/x-python",
   "name": "python",
   "nbconvert_exporter": "python",
   "pygments_lexer": "ipython3",
   "version": "3.5.1+"
  }
 },
 "nbformat": 4,
 "nbformat_minor": 0
}
