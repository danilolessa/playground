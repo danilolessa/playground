{
 "cells": [
  {
   "cell_type": "code",
   "execution_count": 109,
   "metadata": {
    "collapsed": false
   },
   "outputs": [],
   "source": [
    "%matplotlib inline\n",
    "import numpy as np\n",
    "import matplotlib.pyplot as plt\n",
    "import pandas as pd\n",
    "from lxml import html\n",
    "import requests as req\n",
    "from locale import *\n",
    "\n",
    "url_base = \"https://uspdigital.usp.br/tycho/curriculoLattesBuscar?codpes=\"\n",
    "xpath = \"//*[@id=\\\"layout_conteudo\\\"]/table[1]\""
   ]
  },
  {
   "cell_type": "code",
   "execution_count": null,
   "metadata": {
    "collapsed": false
   },
   "outputs": [],
   "source": [
    "raw = pd.read_csv(\"votos.tsv\", delimiter=\"\\t\")\n",
    "raw.drop(\"IF\", 1)\n",
    "lista_IF = []\n",
    "for index, voto in raw.iterrows():\n",
    "    if voto.Valido == \"sim\":\n",
    "        url = url_base + voto.NUSP\n",
    "        page = req.get(url)\n",
    "        tree = html.fromstring(page.content)\n",
    "        resul = tree.xpath(xpath)\n",
    "        try:\n",
    "            resul_el = resul[0][1][1].text\n",
    "        except IndexError:\n",
    "            resul_el = \"?\"\n",
    "            \n",
    "        condicao = ((\"Instituto de Física\" in resul_el) or\n",
    "                    (\"Interunidades FE/IF/IQ/IB\" in resul_el) or\n",
    "                    (\"Interunidades Pró-G\" in resul_el))\n",
    "        \n",
    "        if condicao:\n",
    "             lista_IF.append(\"sim\")\n",
    "        else:\n",
    "            lista_IF.append(\"não\")\n",
    "    else:\n",
    "        lista_IF.append(\"N/A\")\n",
    "print(\"Acabou\")"
   ]
  },
  {
   "cell_type": "code",
   "execution_count": null,
   "metadata": {
    "collapsed": false
   },
   "outputs": [],
   "source": [
    "df1 = pd.DataFrame(lista_IF, columns=[\"IF\"])\n",
    "resultado = pd.concat([raw, df1], axis=1)"
   ]
  },
  {
   "cell_type": "code",
   "execution_count": null,
   "metadata": {
    "collapsed": false
   },
   "outputs": [],
   "source": [
    "resultado.to_csv(\"resultado.csv\")"
   ]
  },
  {
   "cell_type": "code",
   "execution_count": null,
   "metadata": {
    "collapsed": true
   },
   "outputs": [],
   "source": []
  }
 ],
 "metadata": {
  "kernelspec": {
   "display_name": "Python 3",
   "language": "python",
   "name": "python3"
  },
  "language_info": {
   "codemirror_mode": {
    "name": "ipython",
    "version": 3
   },
   "file_extension": ".py",
   "mimetype": "text/x-python",
   "name": "python",
   "nbconvert_exporter": "python",
   "pygments_lexer": "ipython3",
   "version": "3.5.1+"
  }
 },
 "nbformat": 4,
 "nbformat_minor": 0
}
