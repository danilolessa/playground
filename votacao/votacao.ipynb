{
 "cells": [
  {
   "cell_type": "code",
   "execution_count": 26,
   "metadata": {
    "collapsed": false
   },
   "outputs": [],
   "source": [
    "%matplotlib inline\n",
    "import numpy as np\n",
    "import matplotlib.pyplot as plt\n",
    "import pandas as pd\n",
    "from lxml import html\n",
    "import requests as req\n",
    "from locale import *\n",
    "\n",
    "url_base = \"https://uspdigital.usp.br/tycho/curriculoLattesBuscar?codpes=\"\n",
    "xpath = \"//*[@id=\\\"layout_conteudo\\\"]/table[1]\""
   ]
  },
  {
   "cell_type": "code",
   "execution_count": 27,
   "metadata": {
    "collapsed": true
   },
   "outputs": [],
   "source": [
    "raw = pd.read_csv(\"votos.tsv\", delimiter=\"\\t\")"
   ]
  },
  {
   "cell_type": "code",
   "execution_count": 31,
   "metadata": {
    "collapsed": false
   },
   "outputs": [
    {
     "data": {
      "text/plain": [
       "8761313    2\n",
       "7580306    2\n",
       "5440511    2\n",
       "1234567    2\n",
       "9796381    1\n",
       "4649690    1\n",
       "8049711    1\n",
       "93***90    1\n",
       "8945005    1\n",
       "7581905    1\n",
       "7994711    1\n",
       "666666     1\n",
       "7581680    1\n",
       "8059553    1\n",
       "9301325    1\n",
       "7161837    1\n",
       "8627017    1\n",
       "9796568    1\n",
       "8125021    1\n",
       "9790728    1\n",
       "7182195    1\n",
       "7160774    1\n",
       "8944901    1\n",
       "6434781    1\n",
       "9797444    1\n",
       "6362284    1\n",
       "7579051    1\n",
       "9999999    1\n",
       "7580286    1\n",
       "9796811    1\n",
       "          ..\n",
       "9366381    1\n",
       "8539537    1\n",
       "4911424    1\n",
       "7161048    1\n",
       "9848944    1\n",
       "8538950    1\n",
       "9318459    1\n",
       "5212562    1\n",
       "5644202    1\n",
       "1370277    1\n",
       "9796954    1\n",
       "8577801    1\n",
       "9302368    1\n",
       "7511844    1\n",
       "8539728    1\n",
       "9796593    1\n",
       "8068463    1\n",
       "8944411    1\n",
       "5914412    1\n",
       "8540122    1\n",
       "6800000    1\n",
       "9074375    1\n",
       "9796512    1\n",
       "8889497    1\n",
       "7777312    1\n",
       "9302006    1\n",
       "8642842    1\n",
       "9302121    1\n",
       "9796450    1\n",
       "9301951    1\n",
       "Name: NUSP, dtype: int64"
      ]
     },
     "execution_count": 31,
     "metadata": {},
     "output_type": "execute_result"
    }
   ],
   "source": [
    "raw.NUSP.value_counts()"
   ]
  },
  {
   "cell_type": "code",
   "execution_count": 9,
   "metadata": {
    "collapsed": false
   },
   "outputs": [
    {
     "name": "stdout",
     "output_type": "stream",
     "text": [
      "Acabou\n"
     ]
    }
   ],
   "source": [
    "lista_valido = []\n",
    "for index, voto in raw.iterrows():\n",
    "    if 1 == 1:\n",
    "        url = url_base + voto.NUSP\n",
    "        page = req.get(url)\n",
    "        tree = html.fromstring(page.content)\n",
    "        resul = tree.xpath(xpath)\n",
    "        try:\n",
    "            resul_el = resul[0][1][1].text\n",
    "        except IndexError:\n",
    "            lista_valido.append(\"nao\")\n",
    "            continue\n",
    "            \n",
    "        lista_valido.append(\"sim\")\n",
    "print(\"Acabou\")"
   ]
  },
  {
   "cell_type": "code",
   "execution_count": 10,
   "metadata": {
    "collapsed": false
   },
   "outputs": [
    {
     "name": "stdout",
     "output_type": "stream",
     "text": [
      "Acabou\n"
     ]
    }
   ],
   "source": [
    "lista_IF = []\n",
    "for index, voto in raw.iterrows():\n",
    "    if voto.Valido == \"sim\":\n",
    "        url = url_base + voto.NUSP\n",
    "        page = req.get(url)\n",
    "        tree = html.fromstring(page.content)\n",
    "        resul = tree.xpath(xpath)\n",
    "        try:\n",
    "            resul_el = resul[0][1][1].text\n",
    "        except IndexError:\n",
    "            lista_IF.append(\"?\")\n",
    "            continue\n",
    "            \n",
    "        condicao = ((\"Instituto de Física\" in resul_el) or\n",
    "                    (\"Interunidades FE/IF/IQ/IB\" in resul_el) or\n",
    "                    (\"Interunidades Pró-G\" in resul_el))\n",
    "        \n",
    "        if condicao:\n",
    "            lista_IF.append(\"sim\")\n",
    "        else:\n",
    "            lista_IF.append(\"não\")\n",
    "    else:\n",
    "        lista_IF.append(\"N/A\")\n",
    "print(\"Acabou\")"
   ]
  },
  {
   "cell_type": "code",
   "execution_count": 23,
   "metadata": {
    "collapsed": false
   },
   "outputs": [],
   "source": [
    "df1 = pd.DataFrame(lista_IF, columns=[\"IF\"])\n",
    "df2 = pd.DataFrame(lista_valido, columns=[\"ValidoTycho\"])\n",
    "resultado = pd.concat([raw, df1], axis=1)\n",
    "resultado = pd.concat([resultado, df2], axis=1)"
   ]
  },
  {
   "cell_type": "code",
   "execution_count": 24,
   "metadata": {
    "collapsed": false
   },
   "outputs": [],
   "source": [
    "resultado.to_csv(\"resultado.csv\")"
   ]
  },
  {
   "cell_type": "code",
   "execution_count": 25,
   "metadata": {
    "collapsed": false
   },
   "outputs": [
    {
     "data": {
      "text/html": [
       "<div>\n",
       "<table border=\"1\" class=\"dataframe\">\n",
       "  <thead>\n",
       "    <tr style=\"text-align: right;\">\n",
       "      <th></th>\n",
       "      <th>Data/hora</th>\n",
       "      <th>Greve?</th>\n",
       "      <th>Piquete?</th>\n",
       "      <th>NUSP</th>\n",
       "      <th>NUSP corrigo</th>\n",
       "      <th>last</th>\n",
       "      <th>Valido</th>\n",
       "      <th>Motivo</th>\n",
       "      <th>IF</th>\n",
       "      <th>ValidoTycho</th>\n",
       "    </tr>\n",
       "  </thead>\n",
       "  <tbody>\n",
       "    <tr>\n",
       "      <th>45</th>\n",
       "      <td>6/16/2016 22:40:59</td>\n",
       "      <td>Não</td>\n",
       "      <td>Não</td>\n",
       "      <td>8945113</td>\n",
       "      <td>89***13</td>\n",
       "      <td>Gui</td>\n",
       "      <td>sim</td>\n",
       "      <td>NaN</td>\n",
       "      <td>?</td>\n",
       "      <td>nao</td>\n",
       "    </tr>\n",
       "    <tr>\n",
       "      <th>100</th>\n",
       "      <td>6/17/2016 0:44:47</td>\n",
       "      <td>Não</td>\n",
       "      <td>Não</td>\n",
       "      <td>7182195</td>\n",
       "      <td>71***95</td>\n",
       "      <td>Ito</td>\n",
       "      <td>nao</td>\n",
       "      <td>digitos</td>\n",
       "      <td>N/A</td>\n",
       "      <td>sim</td>\n",
       "    </tr>\n",
       "    <tr>\n",
       "      <th>137</th>\n",
       "      <td>6/17/2016 10:51:07</td>\n",
       "      <td>Sim</td>\n",
       "      <td>Não</td>\n",
       "      <td>7512042</td>\n",
       "      <td>75***42</td>\n",
       "      <td>131</td>\n",
       "      <td>nao</td>\n",
       "      <td>digitos</td>\n",
       "      <td>N/A</td>\n",
       "      <td>sim</td>\n",
       "    </tr>\n",
       "    <tr>\n",
       "      <th>172</th>\n",
       "      <td>6/17/2016 22:42:35</td>\n",
       "      <td>Sim</td>\n",
       "      <td>Sim</td>\n",
       "      <td>7994663</td>\n",
       "      <td>79***63</td>\n",
       "      <td>ira</td>\n",
       "      <td>sim</td>\n",
       "      <td>NaN</td>\n",
       "      <td>?</td>\n",
       "      <td>nao</td>\n",
       "    </tr>\n",
       "  </tbody>\n",
       "</table>\n",
       "</div>"
      ],
      "text/plain": [
       "              Data/hora Greve? Piquete?     NUSP NUSP corrigo last Valido  \\\n",
       "45   6/16/2016 22:40:59    Não      Não  8945113      89***13  Gui    sim   \n",
       "100   6/17/2016 0:44:47    Não      Não  7182195      71***95  Ito    nao   \n",
       "137  6/17/2016 10:51:07    Sim      Não  7512042      75***42  131    nao   \n",
       "172  6/17/2016 22:42:35    Sim      Sim  7994663      79***63  ira    sim   \n",
       "\n",
       "      Motivo   IF ValidoTycho  \n",
       "45       NaN    ?         nao  \n",
       "100  digitos  N/A         sim  \n",
       "137  digitos  N/A         sim  \n",
       "172      NaN    ?         nao  "
      ]
     },
     "execution_count": 25,
     "metadata": {},
     "output_type": "execute_result"
    }
   ],
   "source": [
    "resultado[~(resultado.Valido == resultado.ValidoTycho)]"
   ]
  },
  {
   "cell_type": "code",
   "execution_count": null,
   "metadata": {
    "collapsed": true
   },
   "outputs": [],
   "source": []
  }
 ],
 "metadata": {
  "kernelspec": {
   "display_name": "Python 3",
   "language": "python",
   "name": "python3"
  },
  "language_info": {
   "codemirror_mode": {
    "name": "ipython",
    "version": 3
   },
   "file_extension": ".py",
   "mimetype": "text/x-python",
   "name": "python",
   "nbconvert_exporter": "python",
   "pygments_lexer": "ipython3",
   "version": "3.5.1+"
  }
 },
 "nbformat": 4,
 "nbformat_minor": 0
}
