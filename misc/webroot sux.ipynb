{
 "cells": [
  {
   "cell_type": "code",
   "execution_count": 35,
   "metadata": {
    "collapsed": false
   },
   "outputs": [],
   "source": [
    "import numpy as np\n",
    "import matplotlib.pyplot as plt\n",
    "import uncertainties as unt\n",
    "import scipy.odr as odr\n",
    "from matplotlib import gridspec\n",
    "import uncertainties\n",
    "import pandas as pd\n",
    "import uncertainties.umath\n",
    "from uncertainties import unumpy"
   ]
  },
  {
   "cell_type": "code",
   "execution_count": 68,
   "metadata": {
    "collapsed": false
   },
   "outputs": [],
   "source": [
    "#carregar os dados\n",
    "dat = pd.read_csv(\"led.tsv\", sep=\"\\t\", decimal='.')\n",
    "x = dat[\"I\"]\n",
    "xerr = dat[\"sI\"]\n",
    "y = dat[\"U\"]\n",
    "yerr = dat[\"sU\"]"
   ]
  },
  {
   "cell_type": "code",
   "execution_count": 147,
   "metadata": {
    "collapsed": false
   },
   "outputs": [],
   "source": [
    "#filtrar os dados\n",
    "inds = x > 0.00002\n",
    "x = x[inds]\n",
    "y = y[inds]\n",
    "xerr = xerr[inds]\n",
    "yerr = yerr[inds]"
   ]
  },
  {
   "cell_type": "code",
   "execution_count": 148,
   "metadata": {
    "collapsed": false
   },
   "outputs": [],
   "source": [
    "#A lista B representa os parametros a serem ajustados. x é a variável independente e isUnt é uma gambiarra\n",
    "def f(B, x, isUnt=False):\n",
    "    if isUnt:\n",
    "        return - B[0]*x + B[1] * unumpy.log(B[2]*x + 1)\n",
    "    else:\n",
    "        return - B[0]*x + B[1] * np.log(B[2]*x + 1)"
   ]
  },
  {
   "cell_type": "code",
   "execution_count": 149,
   "metadata": {
    "collapsed": false
   },
   "outputs": [
    {
     "name": "stdout",
     "output_type": "stream",
     "text": [
      "Beta: [ -8.12376911e+00   1.47487473e-01   8.50309347e+10]\n",
      "Beta Std Error: [  1.06329026e+00   1.02992260e-02   1.14488698e+11]\n",
      "Beta Covariance: [[  1.37484105e+00   1.26242516e-02  -1.39389346e+11]\n",
      " [  1.26242516e-02   1.28990581e-04  -1.43349255e+09]\n",
      " [ -1.39389346e+11  -1.43349255e+09   1.59394765e+22]]\n",
      "Residual Variance: 0.8223395486986673\n",
      "Inverse Condition #: 8.754358494532752e-06\n",
      "Reason(s) for Halting:\n",
      "  Iteration limit reached\n"
     ]
    }
   ],
   "source": [
    "#fazer o ajuste, beta0 são os chutes iniciais\n",
    "#x e y são dados dos eixos. xerr e yerr são os erros respectivamente\n",
    "mod = odr.Model(f)\n",
    "dat = odr.RealData(x, y, sx=xerr, sy=yerr)\n",
    "myodr = odr.ODR(dat, mod, beta0=[15, 0.08, 1e15])\n",
    "out = myodr.run()\n",
    "out.pprint()"
   ]
  },
  {
   "cell_type": "code",
   "execution_count": 150,
   "metadata": {
    "collapsed": false
   },
   "outputs": [
    {
     "name": "stderr",
     "output_type": "stream",
     "text": [
      "/home/danilo/.local/lib/python3.4/site-packages/ipykernel/__main__.py:9: DeprecationWarning: using a non-integer number instead of an integer will result in an error in the future\n",
      "/home/danilo/.local/lib/python3.4/site-packages/ipykernel/__main__.py:10: DeprecationWarning: using a non-integer number instead of an integer will result in an error in the future\n"
     ]
    }
   ],
   "source": [
    "#quantos pontos em quais intervalos?\n",
    "ylim = (0, 3.5) #eixos x\n",
    "xlim = (0, 0.03) #eixos y\n",
    "yres = (-5, 5) #residuos\n",
    "size = 1e3\n",
    "points = np.linspace(xlim[0], xlim[1], size)\n",
    "\n",
    "#preparar o calculo da função ajustada\n",
    "ay = np.zeros(size)\n",
    "aye = np.zeros(size)\n",
    "adj = unt.correlated_values(out.beta, out.cov_beta*out.res_var)\n",
    "wrap_f = unt.wrap(f)\n",
    "\n",
    "#calcular a função ajustada em varios pontos\n",
    "i = 0\n",
    "for point in points:\n",
    "    val = wrap_f(adj, point, True)\n",
    "    ay[i] = val.n\n",
    "    aye[i] = val.s \n",
    "    i += 1\n",
    "    \n",
    "#residuos\n",
    "res_size = len(y)\n",
    "yadj = np.zeros(res_size)\n",
    "yeadj = np.zeros(res_size)\n",
    "for i in range(res_size):\n",
    "    xu = unt.ufloat(x[i], xerr[i])\n",
    "    val = f(adj, xu, True)\n",
    "    yadj[i] = (y[i] - val.n)/val.s\n",
    "    yeadj[i] = yerr[i]/(val.s)"
   ]
  },
  {
   "cell_type": "code",
   "execution_count": 151,
   "metadata": {
    "collapsed": false
   },
   "outputs": [],
   "source": [
    "#plot\n",
    "gs = gridspec.GridSpec(2, 1, height_ratios=[2, 1])\n",
    "plt.subplot(gs[0])\n",
    "plt.errorbar(x, y, fmt='.', xerr=xerr, yerr=yerr)\n",
    "\n",
    "plt.plot(points, ay, '-k')\n",
    "plt.plot(points, ay-aye, '--k', points, ay+aye, '--k')\n",
    "plt.title(\"Gráfico\")\n",
    "plt.xlabel(\"Eixo x\")\n",
    "plt.ylabel(\"Eixo y\")\n",
    "plt.xlim(xlim)\n",
    "plt.ylim(ylim)\n",
    "plt.grid(True)\n",
    "\n",
    "plt.subplot(gs[1])\n",
    "plt.errorbar(x, yadj, yerr=yeadj, fmt='.')\n",
    "plt.yticks(np.arange(yres[0], yres[1]))\n",
    "plt.ylim(yres)\n",
    "plt.xlabel(\"Eixo x\")\n",
    "plt.ylabel(\"Resíduos reduzidos\")\n",
    "plt.xlim(xlim)\n",
    "plt.grid(True)\n",
    "\n",
    "plt.show()"
   ]
  },
  {
   "cell_type": "code",
   "execution_count": null,
   "metadata": {
    "collapsed": true
   },
   "outputs": [],
   "source": []
  }
 ],
 "metadata": {
  "kernelspec": {
   "display_name": "Python 3",
   "language": "python",
   "name": "python3"
  },
  "language_info": {
   "codemirror_mode": {
    "name": "ipython",
    "version": 3
   },
   "file_extension": ".py",
   "mimetype": "text/x-python",
   "name": "python",
   "nbconvert_exporter": "python",
   "pygments_lexer": "ipython3",
   "version": "3.4.3+"
  }
 },
 "nbformat": 4,
 "nbformat_minor": 0
}
