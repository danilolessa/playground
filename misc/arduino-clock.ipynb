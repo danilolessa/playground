{
 "cells": [
  {
   "cell_type": "code",
   "execution_count": 278,
   "metadata": {
    "collapsed": true
   },
   "outputs": [],
   "source": [
    "import serial\n",
    "import scipy\n",
    "import scipy.stats\n",
    "import numpy as np\n",
    "import matplotlib.pyplot as plt\n",
    "import time\n",
    "import binascii\n",
    "import struct"
   ]
  },
  {
   "cell_type": "code",
   "execution_count": 363,
   "metadata": {
    "collapsed": false
   },
   "outputs": [],
   "source": [
    "ser = serial.Serial('/dev/ttyACM1', 9600)"
   ]
  },
  {
   "cell_type": "code",
   "execution_count": 379,
   "metadata": {
    "collapsed": false
   },
   "outputs": [],
   "source": [
    "lin = []\n",
    "t_pc = []\n",
    "t_start = time.time()\n",
    "for i in range(0, 250):    \n",
    "    lin.append(ser.readline().decode())\n",
    "    t_pc.append(time.time() - t_start)"
   ]
  },
  {
   "cell_type": "code",
   "execution_count": 380,
   "metadata": {
    "collapsed": false
   },
   "outputs": [],
   "source": [
    "count = len(lin)\n",
    "t_pc = np.array(t_pc) \n",
    "t_pc = t_pc * 1e6\n",
    "i_ard = np.zeros((count, 1))\n",
    "t_ard = np.zeros((count, 1))\n",
    "for i in range(0, count):\n",
    "    (a, b) = lin[i].split(\"m\")\n",
    "    i_ard[i] = int(a[2:a.index(\"]\")])\n",
    "    t_ard[i] = int(b[1:b.index(\"]\")])\n",
    "t_ard = t_ard - t_ard[0]\n",
    "i_ard = i_ard - i_ard[0]"
   ]
  },
  {
   "cell_type": "code",
   "execution_count": 394,
   "metadata": {
    "collapsed": true
   },
   "outputs": [],
   "source": [
    "plt.plot(t_pc[200:], t_ard[200:], '.')\n",
    "plt.ylabel(\"Arduino\")\n",
    "plt.xlabel(\"PC\")\n",
    "plt.show()"
   ]
  },
  {
   "cell_type": "code",
   "execution_count": 382,
   "metadata": {
    "collapsed": false
   },
   "outputs": [],
   "source": [
    "plt.plot(i_ard, t_ard, '.')\n",
    "plt.ylabel(\"Arduino\")\n",
    "plt.xlabel(\"Ind\")\n",
    "plt.show()"
   ]
  },
  {
   "cell_type": "code",
   "execution_count": 393,
   "metadata": {
    "collapsed": false
   },
   "outputs": [
    {
     "data": {
      "text/plain": [
       "(1.0006863484963751,\n",
       " 2540696.8479069481,\n",
       " 0.99999265784010138,\n",
       " masked_array(data = 1.1574825983817735e-117,\n",
       "              mask = False,\n",
       "        fill_value = 1e+20),\n",
       " 1150.2230120843249)"
      ]
     },
     "execution_count": 393,
     "metadata": {},
     "output_type": "execute_result"
    }
   ],
   "source": [
    "scipy.stats.mstats.linregress(t_pc[200:], t_ard[200:])"
   ]
  },
  {
   "cell_type": "code",
   "execution_count": 390,
   "metadata": {
    "collapsed": false
   },
   "outputs": [
    {
     "data": {
      "text/plain": [
       "'23]m[123]'"
      ]
     },
     "execution_count": 390,
     "metadata": {},
     "output_type": "execute_result"
    }
   ],
   "source": [
    "s[3:]"
   ]
  },
  {
   "cell_type": "code",
   "execution_count": 296,
   "metadata": {
    "collapsed": false
   },
   "outputs": [
    {
     "data": {
      "text/plain": [
       "'164800]\\n'"
      ]
     },
     "execution_count": 296,
     "metadata": {},
     "output_type": "execute_result"
    }
   ],
   "source": [
    "lin[i]"
   ]
  },
  {
   "cell_type": "code",
   "execution_count": null,
   "metadata": {
    "collapsed": true
   },
   "outputs": [],
   "source": []
  }
 ],
 "metadata": {
  "kernelspec": {
   "display_name": "Python 3",
   "language": "python",
   "name": "python3"
  },
  "language_info": {
   "codemirror_mode": {
    "name": "ipython",
    "version": 3
   },
   "file_extension": ".py",
   "mimetype": "text/x-python",
   "name": "python",
   "nbconvert_exporter": "python",
   "pygments_lexer": "ipython3",
   "version": "3.4.3+"
  }
 },
 "nbformat": 4,
 "nbformat_minor": 0
}
