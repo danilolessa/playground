{
 "cells": [
  {
   "cell_type": "code",
   "execution_count": 75,
   "metadata": {
    "collapsed": true
   },
   "outputs": [],
   "source": [
    "import requests as req\n",
    "from lxml import html\n",
    "emails = \"\""
   ]
  },
  {
   "cell_type": "code",
   "execution_count": 76,
   "metadata": {
    "collapsed": true
   },
   "outputs": [],
   "source": [
    "#pt1\n",
    "url1 = \"http://portal.if.usp.br/ifusp/usuarios/funcionarios\"\n",
    "r = req.get(url1)\n",
    "tree = html.fromstring(r.content)\n",
    "out = tree.xpath(\"//a[@title='Ver perfil do usuário.']\")"
   ]
  },
  {
   "cell_type": "code",
   "execution_count": 77,
   "metadata": {
    "collapsed": false
   },
   "outputs": [],
   "source": [
    "for func in out:\n",
    "    emails += func.text + \"@if.usp.br, \""
   ]
  },
  {
   "cell_type": "code",
   "execution_count": null,
   "metadata": {
    "collapsed": false
   },
   "outputs": [],
   "source": [
    "emails = emails[:-2]"
   ]
  },
  {
   "cell_type": "code",
   "execution_count": 79,
   "metadata": {
    "collapsed": false
   },
   "outputs": [
    {
     "data": {
      "text/plain": [
       "'ablicio@if.usp.br, adailtog@if.usp.br, ademir@if.usp.br, amachado@if.usp.br, anocais@if.usp.br, adrianom@if.usp.br, ascoelho@if.usp.br, aamorim@if.usp.br, alcides@if.usp.br, brugnoli@if.usp.br, acecotte@if.usp.br, alexjoao@if.usp.br, malafron@if.usp.br, alexov@if.usp.br, amo@if.usp.br, arnegri@if.usp.br, alfredo@if.usp.br, bonini@if.usp.br, alisson@if.usp.br, alvimar@if.usp.br, amarildo@if.usp.br, amelia@if.usp.br, minima@if.usp.br, ana@if.usp.br, alkatuni@if.usp.br, analucia@if.usp.br, anarosa@if.usp.br, anderahn@if.usp.br, agandra@if.usp.br, schlegel@if.usp.br, andreawk@if.usp.br, zetty@if.usp.br, acbloise@if.usp.br, acfranco@if.usp.br, achernan@if.usp.br, atromba@if.usp.br, ansouza@if.usp.br, sjoaquim@if.usp.br, aterassi@if.usp.br, cida@if.usp.br, agolivei@if.usp.br, atf@if.usp.br, bbcasaro@if.usp.br, bcrosa@if.usp.br, baraujo@if.usp.br, bianca@if.usp.br, ccfuku@if.usp.br, cmelo@if.usp.br, carlindo@if.usp.br, cbarioni@if.usp.br, carlosal@if.usp.br, crmarque@if.usp.br, cblanco@if.usp.br, rosane@if.usp.br, cperego@if.usp.br, celsofau@if.usp.br, ctralci@if.usp.br, cicero@if.usp.br, cintia@if.usp.br, ccbarion@if.usp.br, furukawa@if.usp.br, cleberlr@if.usp.br, clineu@if.usp.br, cosme@if.usp.br, cchaves@if.usp.br, cnsantos@if.usp.br, espinosa@if.usp.br, daniilk@if.usp.br, barg@if.usp.br, demo@if.usp.br, marinho@if.usp.br, yanikian@if.usp.br, dreis@if.usp.br, diogo@if.usp.br, diogosp@if.usp.br, dio@if.usp.br, dalmeida@if.usp.br, dvieira@if.usp.br, simiontt@if.usp.br, eber@if.usp.br, ejsantos@if.usp.br, edilene@if.usp.br, seclip@if.usp.br, edmilson@if.usp.br, etoledo@if.usp.br, edi@if.usp.br, ealmeida@if.usp.br, macchion@if.usp.br, edumon@if.usp.br, edudu@if.usp.br, eldes@if.usp.br, loduca@if.usp.br, elian@if.usp.br, elima@if.usp.br, eliane@if.usp.br, bvargas@if.usp.br, ebinotto@if.usp.br, elzinha@if.usp.br, enza@if.usp.br, eron@if.usp.br, nonato@if.usp.br, esilva@if.usp.br, elduarte@if.usp.br, falcao@if.usp.br, fmoura@if.usp.br, fjorge@if.usp.br, fhideki@if.usp.br, fabiop@if.usp.br, fcamarao@if.usp.br, nandast@if.usp.br, fbata@if.usp.br, fmorais@if.usp.br, fbrinco@if.usp.br, thesco@if.usp.br, fcancio@if.usp.br, gil@if.usp.br, gilberto@if.usp.br, ggalvao@if.usp.br, gsantos@if.usp.br, casanova@if.usp.br, hfreitas@if.usp.br, hermirio@if.usp.br, hernan@if.usp.br, hilton@if.usp.br, homeroab@if.usp.br, hugo@if.usp.br, igino@if.usp.br, iamorim@if.usp.br, irenevls@if.usp.br, icsantos@if.usp.br, janicebs@if.usp.br, jaqnasci@if.usp.br, aburaya@if.usp.br, jdafilho@if.usp.br, jesteves@if.usp.br, jterassi@if.usp.br, jsborges@if.usp.br, jjsilva@if.usp.br, assirati@if.usp.br, joaoleo@if.usp.br, jmachado@if.usp.br, jcosta@if.usp.br, jleandro@if.usp.br, jminas@if.usp.br, jlveloso@if.usp.br, narimats@if.usp.br, japbrage@if.usp.br, jcabreu@if.usp.br, jcsouza@if.usp.br, jclovis@if.usp.br, jfsoares@if.usp.br, jgchagas@if.usp.br, mfpessoa@if.usp.br, zecasp@if.usp.br, zevaldir@if.usp.br, josiane@if.usp.br, iraburu@if.usp.br, pecanha@if.usp.br, jnotisjr@if.usp.br, karend@if.usp.br, katianob@if.usp.br, lgodoy@if.usp.br, dsouza@if.usp.br, sgubin@if.usp.br, lruchko@if.usp.br, luanacd@if.usp.br, bispo@if.usp.br, portante@if.usp.br, lcmaximo@if.usp.br, galizio@if.usp.br, lantonio@if.usp.br, lag@if.usp.br, luizcs@if.usp.br, luiz@if.usp.br, lbayer@if.usp.br, manoelm@if.usp.br, manoela@if.usp.br, manut@if.usp.br, markk@if.usp.br, maralves@if.usp.br, mamorim@if.usp.br, cleto@if.usp.br, mpaulino@if.usp.br, mfrade@if.usp.br, mmlucena@if.usp.br, lancarot@if.usp.br, mandrade@if.usp.br, msilvani@if.usp.br, marantes@if.usp.br, mameira@if.usp.br, mrice@if.usp.br, mleite@if.usp.br, masouza@if.usp.br, mproenca@if.usp.br, mneves@if.usp.br, mantonio@if.usp.br, msouza@if.usp.br, soares@if.usp.br, tuca@if.usp.br, dmarques@if.usp.br, mcrissr@if.usp.br, mfsouza@if.usp.br, mfjsilva@if.usp.br, graciete@if.usp.br, izabel@if.usp.br, malu@if.usp.br, mszeitum@if.usp.br, mavilia@if.usp.br, marisa@if.usp.br, mbaloo@if.usp.br, klein@if.usp.br, msilva@if.usp.br, miraldo@if.usp.br, mituko@if.usp.br, monipach@if.usp.br, santucci@if.usp.br, numisedo@if.usp.br, nvsantos@if.usp.br, nrnunes@if.usp.br, omartins@if.usp.br, olgatica@if.usp.br, olgaraga@if.usp.br, orfneto@if.usp.br, odibra@if.usp.br, otaviobm@if.usp.br, ouvidif@if.usp.br, paulacrm@if.usp.br, plima@if.usp.br, plasilva@if.usp.br, lofredo@if.usp.br, amaro@if.usp.br, pauloflo@if.usp.br, psmartin@if.usp.br, pjoaquim@if.usp.br, pedror@if.usp.br, rlage@if.usp.br, rms@if.usp.br, raidomf@if.usp.br, rtavares@if.usp.br, renan@if.usp.br, rribeiro@if.usp.br, kavi@if.usp.br, rmats@if.usp.br, rborges@if.usp.br, rcohen@if.usp.br, rcneves@if.usp.br, rco@if.usp.br, ichiwaki@if.usp.br, menegass@if.usp.br, rbicudo@if.usp.br, rtsantos@if.usp.br, rrlima@if.usp.br, rmartins@if.usp.br, rgomesal@if.usp.br, rsviana@if.usp.br, rtosi@if.usp.br, rcapucci@if.usp.br, rsimoes@if.usp.br, rgimenes@if.usp.br, rosanta@if.usp.br, rosangel@if.usp.br, rrice@if.usp.br, rgennari@if.usp.br, rui@if.usp.br, gorniak@if.usp.br, sammota@if.usp.br, smartins@if.usp.br, sandribe@if.usp.br, sandraly@if.usp.br, smilani@if.usp.br, procopio@if.usp.br, secfmt@if.usp.br, secfma@if.usp.br, secfap@if.usp.br, secgref@if.usp.br, salexand@if.usp.br, romero@if.usp.br, edu@if.usp.br, korogui@if.usp.br, slsantos@if.usp.br, sergiosm@if.usp.br, surahata@if.usp.br, stanaka@if.usp.br, sramos@if.usp.br, ssampaio@if.usp.br, ssilva@if.usp.br, silvior@if.usp.br, siperche@if.usp.br, simone@if.usp.br, sucastro@if.usp.br, ssantos@if.usp.br, suelima@if.usp.br, suelirod@if.usp.br, syb@if.usp.br, tales@if.usp.br, tfurquim@if.usp.br, tarsis@if.usp.br, tlacerda@if.usp.br, tomalex@if.usp.br, talonso@if.usp.br, tfsilva@if.usp.br, vbraghin@if.usp.br, velias@if.usp.br, valdevan@if.usp.br, vespin@if.usp.br, affonsso@if.usp.br, vfranca@if.usp.br, virginia@if.usp.br, trumpis@if.usp.br, vsilva@if.usp.br, wslima@if.usp.br, wlima@if.usp.br, wengel@if.usp.br, pires@if.usp.br, wservelo@if.usp.br, walima@if.usp.br, gratens@if.usp.br, zvieira@if.usp.br, zpsantos@if.usp.br, '"
      ]
     },
     "execution_count": 79,
     "metadata": {},
     "output_type": "execute_result"
    }
   ],
   "source": [
    "emails"
   ]
  },
  {
   "cell_type": "code",
   "execution_count": null,
   "metadata": {
    "collapsed": true
   },
   "outputs": [],
   "source": []
  }
 ],
 "metadata": {
  "kernelspec": {
   "display_name": "Python 3",
   "language": "python",
   "name": "python3"
  },
  "language_info": {
   "codemirror_mode": {
    "name": "ipython",
    "version": 3
   },
   "file_extension": ".py",
   "mimetype": "text/x-python",
   "name": "python",
   "nbconvert_exporter": "python",
   "pygments_lexer": "ipython3",
   "version": "3.5.1+"
  }
 },
 "nbformat": 4,
 "nbformat_minor": 0
}
